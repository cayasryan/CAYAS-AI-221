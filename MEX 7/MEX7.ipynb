{
 "cells": [
  {
   "cell_type": "markdown",
   "metadata": {},
   "source": [
    "# Machine Exercise 7\n",
    "### Prepared by: CAYAS, Ryan Roi [2022-22085]"
   ]
  },
  {
   "cell_type": "markdown",
   "metadata": {},
   "source": [
    "## Prerequisites\n",
    "\n",
    "We first import the required packages and load the necessary files."
   ]
  },
  {
   "cell_type": "code",
   "execution_count": 1,
   "metadata": {},
   "outputs": [],
   "source": [
    "import numpy as np\n",
    "import pandas as pd\n",
    "import matplotlib.pyplot as plt\n",
    "import seaborn as sns\n",
    "import optuna\n",
    "import shap\n",
    "\n",
    "\n",
    "from sklearn.model_selection import train_test_split\n",
    "from sklearn.preprocessing import LabelEncoder\n",
    "\n",
    "from sklearn.metrics import accuracy_score, f1_score, r2_score, make_scorer\n",
    "from sklearn.preprocessing import StandardScaler\n",
    "from sklearn.model_selection import cross_val_score\n",
    "from sklearn.neural_network import MLPClassifier\n",
    "from sklearn.ensemble import RandomForestClassifier\n",
    "from xgboost import XGBClassifier, XGBRegressor\n",
    "from sklearn.linear_model import LogisticRegression\n",
    "from sklearn.naive_bayes import GaussianNB\n",
    "from sklearn.svm import SVC\n",
    "from sklearn.neighbors import KNeighborsClassifier\n",
    "from sklearn.linear_model import LinearRegression\n",
    "from sklearn.ensemble import RandomForestRegressor, GradientBoostingRegressor"
   ]
  },
  {
   "cell_type": "markdown",
   "metadata": {},
   "source": [
    "## Part I. Early Stage Diabetes Risk Prediction"
   ]
  },
  {
   "cell_type": "code",
   "execution_count": 15,
   "metadata": {},
   "outputs": [
    {
     "data": {
      "text/html": [
       "<div>\n",
       "<style scoped>\n",
       "    .dataframe tbody tr th:only-of-type {\n",
       "        vertical-align: middle;\n",
       "    }\n",
       "\n",
       "    .dataframe tbody tr th {\n",
       "        vertical-align: top;\n",
       "    }\n",
       "\n",
       "    .dataframe thead th {\n",
       "        text-align: right;\n",
       "    }\n",
       "</style>\n",
       "<table border=\"1\" class=\"dataframe\">\n",
       "  <thead>\n",
       "    <tr style=\"text-align: right;\">\n",
       "      <th></th>\n",
       "      <th>Age</th>\n",
       "      <th>Gender</th>\n",
       "      <th>Polyuria</th>\n",
       "      <th>Polydipsia</th>\n",
       "      <th>sudden weight loss</th>\n",
       "      <th>weakness</th>\n",
       "      <th>Polyphagia</th>\n",
       "      <th>Genital thrush</th>\n",
       "      <th>visual blurring</th>\n",
       "      <th>Itching</th>\n",
       "      <th>Irritability</th>\n",
       "      <th>delayed healing</th>\n",
       "      <th>partial paresis</th>\n",
       "      <th>muscle stiffness</th>\n",
       "      <th>Alopecia</th>\n",
       "      <th>Obesity</th>\n",
       "      <th>class</th>\n",
       "    </tr>\n",
       "  </thead>\n",
       "  <tbody>\n",
       "    <tr>\n",
       "      <th>0</th>\n",
       "      <td>40</td>\n",
       "      <td>Male</td>\n",
       "      <td>No</td>\n",
       "      <td>Yes</td>\n",
       "      <td>No</td>\n",
       "      <td>Yes</td>\n",
       "      <td>No</td>\n",
       "      <td>No</td>\n",
       "      <td>No</td>\n",
       "      <td>Yes</td>\n",
       "      <td>No</td>\n",
       "      <td>Yes</td>\n",
       "      <td>No</td>\n",
       "      <td>Yes</td>\n",
       "      <td>Yes</td>\n",
       "      <td>Yes</td>\n",
       "      <td>Positive</td>\n",
       "    </tr>\n",
       "    <tr>\n",
       "      <th>1</th>\n",
       "      <td>58</td>\n",
       "      <td>Male</td>\n",
       "      <td>No</td>\n",
       "      <td>No</td>\n",
       "      <td>No</td>\n",
       "      <td>Yes</td>\n",
       "      <td>No</td>\n",
       "      <td>No</td>\n",
       "      <td>Yes</td>\n",
       "      <td>No</td>\n",
       "      <td>No</td>\n",
       "      <td>No</td>\n",
       "      <td>Yes</td>\n",
       "      <td>No</td>\n",
       "      <td>Yes</td>\n",
       "      <td>No</td>\n",
       "      <td>Positive</td>\n",
       "    </tr>\n",
       "    <tr>\n",
       "      <th>2</th>\n",
       "      <td>41</td>\n",
       "      <td>Male</td>\n",
       "      <td>Yes</td>\n",
       "      <td>No</td>\n",
       "      <td>No</td>\n",
       "      <td>Yes</td>\n",
       "      <td>Yes</td>\n",
       "      <td>No</td>\n",
       "      <td>No</td>\n",
       "      <td>Yes</td>\n",
       "      <td>No</td>\n",
       "      <td>Yes</td>\n",
       "      <td>No</td>\n",
       "      <td>Yes</td>\n",
       "      <td>Yes</td>\n",
       "      <td>No</td>\n",
       "      <td>Positive</td>\n",
       "    </tr>\n",
       "    <tr>\n",
       "      <th>3</th>\n",
       "      <td>45</td>\n",
       "      <td>Male</td>\n",
       "      <td>No</td>\n",
       "      <td>No</td>\n",
       "      <td>Yes</td>\n",
       "      <td>Yes</td>\n",
       "      <td>Yes</td>\n",
       "      <td>Yes</td>\n",
       "      <td>No</td>\n",
       "      <td>Yes</td>\n",
       "      <td>No</td>\n",
       "      <td>Yes</td>\n",
       "      <td>No</td>\n",
       "      <td>No</td>\n",
       "      <td>No</td>\n",
       "      <td>No</td>\n",
       "      <td>Positive</td>\n",
       "    </tr>\n",
       "    <tr>\n",
       "      <th>4</th>\n",
       "      <td>60</td>\n",
       "      <td>Male</td>\n",
       "      <td>Yes</td>\n",
       "      <td>Yes</td>\n",
       "      <td>Yes</td>\n",
       "      <td>Yes</td>\n",
       "      <td>Yes</td>\n",
       "      <td>No</td>\n",
       "      <td>Yes</td>\n",
       "      <td>Yes</td>\n",
       "      <td>Yes</td>\n",
       "      <td>Yes</td>\n",
       "      <td>Yes</td>\n",
       "      <td>Yes</td>\n",
       "      <td>Yes</td>\n",
       "      <td>Yes</td>\n",
       "      <td>Positive</td>\n",
       "    </tr>\n",
       "    <tr>\n",
       "      <th>...</th>\n",
       "      <td>...</td>\n",
       "      <td>...</td>\n",
       "      <td>...</td>\n",
       "      <td>...</td>\n",
       "      <td>...</td>\n",
       "      <td>...</td>\n",
       "      <td>...</td>\n",
       "      <td>...</td>\n",
       "      <td>...</td>\n",
       "      <td>...</td>\n",
       "      <td>...</td>\n",
       "      <td>...</td>\n",
       "      <td>...</td>\n",
       "      <td>...</td>\n",
       "      <td>...</td>\n",
       "      <td>...</td>\n",
       "      <td>...</td>\n",
       "    </tr>\n",
       "    <tr>\n",
       "      <th>515</th>\n",
       "      <td>39</td>\n",
       "      <td>Female</td>\n",
       "      <td>Yes</td>\n",
       "      <td>Yes</td>\n",
       "      <td>Yes</td>\n",
       "      <td>No</td>\n",
       "      <td>Yes</td>\n",
       "      <td>No</td>\n",
       "      <td>No</td>\n",
       "      <td>Yes</td>\n",
       "      <td>No</td>\n",
       "      <td>Yes</td>\n",
       "      <td>Yes</td>\n",
       "      <td>No</td>\n",
       "      <td>No</td>\n",
       "      <td>No</td>\n",
       "      <td>Positive</td>\n",
       "    </tr>\n",
       "    <tr>\n",
       "      <th>516</th>\n",
       "      <td>48</td>\n",
       "      <td>Female</td>\n",
       "      <td>Yes</td>\n",
       "      <td>Yes</td>\n",
       "      <td>Yes</td>\n",
       "      <td>Yes</td>\n",
       "      <td>Yes</td>\n",
       "      <td>No</td>\n",
       "      <td>No</td>\n",
       "      <td>Yes</td>\n",
       "      <td>Yes</td>\n",
       "      <td>Yes</td>\n",
       "      <td>Yes</td>\n",
       "      <td>No</td>\n",
       "      <td>No</td>\n",
       "      <td>No</td>\n",
       "      <td>Positive</td>\n",
       "    </tr>\n",
       "    <tr>\n",
       "      <th>517</th>\n",
       "      <td>58</td>\n",
       "      <td>Female</td>\n",
       "      <td>Yes</td>\n",
       "      <td>Yes</td>\n",
       "      <td>Yes</td>\n",
       "      <td>Yes</td>\n",
       "      <td>Yes</td>\n",
       "      <td>No</td>\n",
       "      <td>Yes</td>\n",
       "      <td>No</td>\n",
       "      <td>No</td>\n",
       "      <td>No</td>\n",
       "      <td>Yes</td>\n",
       "      <td>Yes</td>\n",
       "      <td>No</td>\n",
       "      <td>Yes</td>\n",
       "      <td>Positive</td>\n",
       "    </tr>\n",
       "    <tr>\n",
       "      <th>518</th>\n",
       "      <td>32</td>\n",
       "      <td>Female</td>\n",
       "      <td>No</td>\n",
       "      <td>No</td>\n",
       "      <td>No</td>\n",
       "      <td>Yes</td>\n",
       "      <td>No</td>\n",
       "      <td>No</td>\n",
       "      <td>Yes</td>\n",
       "      <td>Yes</td>\n",
       "      <td>No</td>\n",
       "      <td>Yes</td>\n",
       "      <td>No</td>\n",
       "      <td>No</td>\n",
       "      <td>Yes</td>\n",
       "      <td>No</td>\n",
       "      <td>Negative</td>\n",
       "    </tr>\n",
       "    <tr>\n",
       "      <th>519</th>\n",
       "      <td>42</td>\n",
       "      <td>Male</td>\n",
       "      <td>No</td>\n",
       "      <td>No</td>\n",
       "      <td>No</td>\n",
       "      <td>No</td>\n",
       "      <td>No</td>\n",
       "      <td>No</td>\n",
       "      <td>No</td>\n",
       "      <td>No</td>\n",
       "      <td>No</td>\n",
       "      <td>No</td>\n",
       "      <td>No</td>\n",
       "      <td>No</td>\n",
       "      <td>No</td>\n",
       "      <td>No</td>\n",
       "      <td>Negative</td>\n",
       "    </tr>\n",
       "  </tbody>\n",
       "</table>\n",
       "<p>520 rows × 17 columns</p>\n",
       "</div>"
      ],
      "text/plain": [
       "     Age  Gender Polyuria Polydipsia sudden weight loss weakness Polyphagia   \n",
       "0     40    Male       No        Yes                 No      Yes         No  \\\n",
       "1     58    Male       No         No                 No      Yes         No   \n",
       "2     41    Male      Yes         No                 No      Yes        Yes   \n",
       "3     45    Male       No         No                Yes      Yes        Yes   \n",
       "4     60    Male      Yes        Yes                Yes      Yes        Yes   \n",
       "..   ...     ...      ...        ...                ...      ...        ...   \n",
       "515   39  Female      Yes        Yes                Yes       No        Yes   \n",
       "516   48  Female      Yes        Yes                Yes      Yes        Yes   \n",
       "517   58  Female      Yes        Yes                Yes      Yes        Yes   \n",
       "518   32  Female       No         No                 No      Yes         No   \n",
       "519   42    Male       No         No                 No       No         No   \n",
       "\n",
       "    Genital thrush visual blurring Itching Irritability delayed healing   \n",
       "0               No              No     Yes           No             Yes  \\\n",
       "1               No             Yes      No           No              No   \n",
       "2               No              No     Yes           No             Yes   \n",
       "3              Yes              No     Yes           No             Yes   \n",
       "4               No             Yes     Yes          Yes             Yes   \n",
       "..             ...             ...     ...          ...             ...   \n",
       "515             No              No     Yes           No             Yes   \n",
       "516             No              No     Yes          Yes             Yes   \n",
       "517             No             Yes      No           No              No   \n",
       "518             No             Yes     Yes           No             Yes   \n",
       "519             No              No      No           No              No   \n",
       "\n",
       "    partial paresis muscle stiffness Alopecia Obesity     class  \n",
       "0                No              Yes      Yes     Yes  Positive  \n",
       "1               Yes               No      Yes      No  Positive  \n",
       "2                No              Yes      Yes      No  Positive  \n",
       "3                No               No       No      No  Positive  \n",
       "4               Yes              Yes      Yes     Yes  Positive  \n",
       "..              ...              ...      ...     ...       ...  \n",
       "515             Yes               No       No      No  Positive  \n",
       "516             Yes               No       No      No  Positive  \n",
       "517             Yes              Yes       No     Yes  Positive  \n",
       "518              No               No      Yes      No  Negative  \n",
       "519              No               No       No      No  Negative  \n",
       "\n",
       "[520 rows x 17 columns]"
      ]
     },
     "execution_count": 15,
     "metadata": {},
     "output_type": "execute_result"
    }
   ],
   "source": [
    "diabetes_df = pd.read_csv('diabetes_data_upload.csv', sep=',')\n",
    "diabetes_df"
   ]
  },
  {
   "cell_type": "code",
   "execution_count": 4,
   "metadata": {},
   "outputs": [
    {
     "data": {
      "text/plain": [
       "Index(['Age', 'Gender', 'Polyuria', 'Polydipsia', 'sudden weight loss',\n",
       "       'weakness', 'Polyphagia', 'Genital thrush', 'visual blurring',\n",
       "       'Itching', 'Irritability', 'delayed healing', 'partial paresis',\n",
       "       'muscle stiffness', 'Alopecia', 'Obesity', 'class'],\n",
       "      dtype='object')"
      ]
     },
     "execution_count": 4,
     "metadata": {},
     "output_type": "execute_result"
    }
   ],
   "source": [
    "diabetes_df.columns"
   ]
  },
  {
   "cell_type": "code",
   "execution_count": 3,
   "metadata": {},
   "outputs": [
    {
     "name": "stdout",
     "output_type": "stream",
     "text": [
      "[40 58 41 45 60 55 57 66 67 70 44 38 35 61 54 43 62 39 48 32 42 52 53 37\n",
      " 49 63 30 50 46 36 51 59 65 25 47 28 68 56 31 85 90 72 69 79 34 16 33 64\n",
      " 27 29 26]\n",
      "['Male' 'Female']\n",
      "['No' 'Yes']\n",
      "['Yes' 'No']\n",
      "['No' 'Yes']\n",
      "['Yes' 'No']\n",
      "['No' 'Yes']\n",
      "['No' 'Yes']\n",
      "['No' 'Yes']\n",
      "['Yes' 'No']\n",
      "['No' 'Yes']\n",
      "['Yes' 'No']\n",
      "['No' 'Yes']\n",
      "['Yes' 'No']\n",
      "['Yes' 'No']\n",
      "['Yes' 'No']\n",
      "['Positive' 'Negative']\n"
     ]
    }
   ],
   "source": [
    "for col in diabetes_df:\n",
    "    print(diabetes_df[col].unique())"
   ]
  },
  {
   "cell_type": "code",
   "execution_count": 16,
   "metadata": {},
   "outputs": [
    {
     "data": {
      "text/html": [
       "<div>\n",
       "<style scoped>\n",
       "    .dataframe tbody tr th:only-of-type {\n",
       "        vertical-align: middle;\n",
       "    }\n",
       "\n",
       "    .dataframe tbody tr th {\n",
       "        vertical-align: top;\n",
       "    }\n",
       "\n",
       "    .dataframe thead th {\n",
       "        text-align: right;\n",
       "    }\n",
       "</style>\n",
       "<table border=\"1\" class=\"dataframe\">\n",
       "  <thead>\n",
       "    <tr style=\"text-align: right;\">\n",
       "      <th></th>\n",
       "      <th>Age</th>\n",
       "      <th>Polyuria</th>\n",
       "      <th>Polydipsia</th>\n",
       "      <th>sudden weight loss</th>\n",
       "      <th>weakness</th>\n",
       "      <th>Polyphagia</th>\n",
       "      <th>Genital thrush</th>\n",
       "      <th>visual blurring</th>\n",
       "      <th>Itching</th>\n",
       "      <th>Irritability</th>\n",
       "      <th>delayed healing</th>\n",
       "      <th>partial paresis</th>\n",
       "      <th>muscle stiffness</th>\n",
       "      <th>Alopecia</th>\n",
       "      <th>Obesity</th>\n",
       "      <th>class</th>\n",
       "      <th>Gender_Male</th>\n",
       "    </tr>\n",
       "  </thead>\n",
       "  <tbody>\n",
       "    <tr>\n",
       "      <th>0</th>\n",
       "      <td>40</td>\n",
       "      <td>0</td>\n",
       "      <td>1</td>\n",
       "      <td>0</td>\n",
       "      <td>1</td>\n",
       "      <td>0</td>\n",
       "      <td>0</td>\n",
       "      <td>0</td>\n",
       "      <td>1</td>\n",
       "      <td>0</td>\n",
       "      <td>1</td>\n",
       "      <td>0</td>\n",
       "      <td>1</td>\n",
       "      <td>1</td>\n",
       "      <td>1</td>\n",
       "      <td>1</td>\n",
       "      <td>1</td>\n",
       "    </tr>\n",
       "    <tr>\n",
       "      <th>1</th>\n",
       "      <td>58</td>\n",
       "      <td>0</td>\n",
       "      <td>0</td>\n",
       "      <td>0</td>\n",
       "      <td>1</td>\n",
       "      <td>0</td>\n",
       "      <td>0</td>\n",
       "      <td>1</td>\n",
       "      <td>0</td>\n",
       "      <td>0</td>\n",
       "      <td>0</td>\n",
       "      <td>1</td>\n",
       "      <td>0</td>\n",
       "      <td>1</td>\n",
       "      <td>0</td>\n",
       "      <td>1</td>\n",
       "      <td>1</td>\n",
       "    </tr>\n",
       "    <tr>\n",
       "      <th>2</th>\n",
       "      <td>41</td>\n",
       "      <td>1</td>\n",
       "      <td>0</td>\n",
       "      <td>0</td>\n",
       "      <td>1</td>\n",
       "      <td>1</td>\n",
       "      <td>0</td>\n",
       "      <td>0</td>\n",
       "      <td>1</td>\n",
       "      <td>0</td>\n",
       "      <td>1</td>\n",
       "      <td>0</td>\n",
       "      <td>1</td>\n",
       "      <td>1</td>\n",
       "      <td>0</td>\n",
       "      <td>1</td>\n",
       "      <td>1</td>\n",
       "    </tr>\n",
       "    <tr>\n",
       "      <th>3</th>\n",
       "      <td>45</td>\n",
       "      <td>0</td>\n",
       "      <td>0</td>\n",
       "      <td>1</td>\n",
       "      <td>1</td>\n",
       "      <td>1</td>\n",
       "      <td>1</td>\n",
       "      <td>0</td>\n",
       "      <td>1</td>\n",
       "      <td>0</td>\n",
       "      <td>1</td>\n",
       "      <td>0</td>\n",
       "      <td>0</td>\n",
       "      <td>0</td>\n",
       "      <td>0</td>\n",
       "      <td>1</td>\n",
       "      <td>1</td>\n",
       "    </tr>\n",
       "    <tr>\n",
       "      <th>4</th>\n",
       "      <td>60</td>\n",
       "      <td>1</td>\n",
       "      <td>1</td>\n",
       "      <td>1</td>\n",
       "      <td>1</td>\n",
       "      <td>1</td>\n",
       "      <td>0</td>\n",
       "      <td>1</td>\n",
       "      <td>1</td>\n",
       "      <td>1</td>\n",
       "      <td>1</td>\n",
       "      <td>1</td>\n",
       "      <td>1</td>\n",
       "      <td>1</td>\n",
       "      <td>1</td>\n",
       "      <td>1</td>\n",
       "      <td>1</td>\n",
       "    </tr>\n",
       "  </tbody>\n",
       "</table>\n",
       "</div>"
      ],
      "text/plain": [
       "   Age  Polyuria  Polydipsia  sudden weight loss  weakness  Polyphagia   \n",
       "0   40         0           1                   0         1           0  \\\n",
       "1   58         0           0                   0         1           0   \n",
       "2   41         1           0                   0         1           1   \n",
       "3   45         0           0                   1         1           1   \n",
       "4   60         1           1                   1         1           1   \n",
       "\n",
       "   Genital thrush  visual blurring  Itching  Irritability  delayed healing   \n",
       "0               0                0        1             0                1  \\\n",
       "1               0                1        0             0                0   \n",
       "2               0                0        1             0                1   \n",
       "3               1                0        1             0                1   \n",
       "4               0                1        1             1                1   \n",
       "\n",
       "   partial paresis  muscle stiffness  Alopecia  Obesity  class  Gender_Male  \n",
       "0                0                 1         1        1      1            1  \n",
       "1                1                 0         1        0      1            1  \n",
       "2                0                 1         1        0      1            1  \n",
       "3                0                 0         0        0      1            1  \n",
       "4                1                 1         1        1      1            1  "
      ]
     },
     "execution_count": 16,
     "metadata": {},
     "output_type": "execute_result"
    }
   ],
   "source": [
    "# OneHotEncode the Gender column\n",
    "diabetes_df = pd.get_dummies(diabetes_df, columns=['Gender'], dtype=int, drop_first=True)\n",
    "    # drop first category to avoid multicollinear features\n",
    "\n",
    "# Initialize LabelEncoder for binary columns\n",
    "binary_columns = ['Polyuria', 'Polydipsia', 'sudden weight loss', 'weakness',\n",
    "                  'Polyphagia', 'Genital thrush', 'visual blurring', 'Itching',\n",
    "                  'Irritability', 'delayed healing', 'partial paresis', \n",
    "                  'muscle stiffness', 'Alopecia', 'Obesity']\n",
    "\n",
    "# Directly mapping 'Yes' to 1 and 'No' to 0 for binary columns\n",
    "diabetes_df[binary_columns] = diabetes_df[binary_columns].replace({'Yes': 1, 'No': 0})\n",
    "\n",
    "# Encode the class column using mapping\n",
    "diabetes_df['class'] = diabetes_df['class'].map({'Positive': 1, 'Negative': 0})\n",
    "diabetes_df.head()"
   ]
  },
  {
   "cell_type": "code",
   "execution_count": 17,
   "metadata": {},
   "outputs": [],
   "source": [
    "y = diabetes_df['class']\n",
    "X = diabetes_df.drop('class', axis=1)\n",
    "X_train, X_test, y_train, y_test = train_test_split(X, y, test_size=0.2, stratify=y, random_state=0)"
   ]
  },
  {
   "cell_type": "code",
   "execution_count": 18,
   "metadata": {},
   "outputs": [],
   "source": [
    "# Standardize features\n",
    "scaler = StandardScaler()\n",
    "X_train_scaled = scaler.fit_transform(X_train)\n",
    "X_test_scaled = scaler.transform(X_test)"
   ]
  },
  {
   "cell_type": "code",
   "execution_count": 25,
   "metadata": {},
   "outputs": [],
   "source": [
    "def objective(trial):\n",
    "    model_name = trial.suggest_categorical('model', ['MLP', 'Random Forest', 'XGBoost', 'Logistic Regression', 'Naive Bayes', 'SVM', 'kNN'])\n",
    "    \n",
    "    if model_name == 'MLP':\n",
    "        params = {\n",
    "            'hidden_layer_sizes': trial.suggest_int('hidden_layer_sizes', 50, 300, step=50),\n",
    "            'alpha': trial.suggest_float('alpha', 1e-5, 1e-1, log=True),\n",
    "            'learning_rate_init': trial.suggest_float('learning_rate_init', 1e-4, 1e-1, log=True),\n",
    "            'max_iter': trial.suggest_int('max_iter', 200, 1000)\n",
    "        }\n",
    "        model = MLPClassifier(**params, random_state=42)\n",
    "    \n",
    "    elif model_name == 'Random Forest':\n",
    "        params = {\n",
    "            'n_estimators': trial.suggest_int('n_estimators', 50, 300),\n",
    "            'max_depth': trial.suggest_int('max_depth', 5, 50),\n",
    "            'min_samples_split': trial.suggest_int('min_samples_split', 2, 20),\n",
    "            'min_samples_leaf': trial.suggest_int('min_samples_leaf', 1, 20),\n",
    "            'max_features': trial.suggest_categorical('max_features', [None, 'sqrt', 'log2'])\n",
    "        }\n",
    "        model = RandomForestClassifier(**params, random_state=42)\n",
    "    \n",
    "    elif model_name == 'XGBoost':\n",
    "        params = {\n",
    "            'n_estimators': trial.suggest_int('n_estimators', 50, 300),\n",
    "            'max_depth': trial.suggest_int('max_depth', 5, 20),\n",
    "            'learning_rate': trial.suggest_float('learning_rate', 1e-4, 1e-1, log=True),\n",
    "            'subsample': trial.suggest_float('subsample', 0.5, 1.0),\n",
    "            'colsample_bytree': trial.suggest_float('colsample_bytree', 0.5, 1.0)\n",
    "        }\n",
    "        model = XGBClassifier(**params, random_state=42)\n",
    "    \n",
    "    elif model_name == 'Logistic Regression':\n",
    "        params = {\n",
    "            'C': trial.suggest_float('C', 1e-4, 1e2, log=True),\n",
    "            'penalty': trial.suggest_categorical('penalty', ['l1', 'l2']),\n",
    "            'solver': trial.suggest_categorical('solver', ['liblinear', 'saga'])\n",
    "        }\n",
    "        model = LogisticRegression(**params, random_state=42)\n",
    "    \n",
    "    elif model_name == 'Naive Bayes':\n",
    "        model = GaussianNB()\n",
    "    \n",
    "    elif model_name == 'SVM':\n",
    "        params = {\n",
    "            'C': trial.suggest_float('C', 1e-4, 1e2, log=True),\n",
    "            'gamma': trial.suggest_float('gamma', 1e-4, 1e-1, log=True),\n",
    "            'kernel': trial.suggest_categorical('kernel', ['linear', 'rbf', 'poly', 'sigmoid'])\n",
    "        }\n",
    "        model = SVC(**params, random_state=42)\n",
    "    \n",
    "    elif model_name == 'kNN':\n",
    "        params = {\n",
    "            'n_neighbors': trial.suggest_int('n_neighbors', 3, 20),\n",
    "            'weights': trial.suggest_categorical('weights', ['uniform', 'distance']),\n",
    "            'metric': trial.suggest_categorical('metric', ['euclidean', 'manhattan', 'minkowski'])\n",
    "        }\n",
    "        model = KNeighborsClassifier(**params)\n",
    "    \n",
    "    score = cross_val_score(model, X_train_scaled, y_train, cv=10, scoring='accuracy').mean()\n",
    "    return score\n"
   ]
  },
  {
   "cell_type": "code",
   "execution_count": 26,
   "metadata": {},
   "outputs": [
    {
     "name": "stderr",
     "output_type": "stream",
     "text": [
      "[I 2024-06-12 16:14:44,930] A new study created in memory with name: Diabetes Risk Prediction\n",
      "[I 2024-06-12 16:14:45,495] Trial 0 finished with value: 0.6153310104529617 and parameters: {'model': 'XGBoost', 'n_estimators': 139, 'max_depth': 20, 'learning_rate': 0.0013327655274120802, 'subsample': 0.9371475186004985, 'colsample_bytree': 0.6689795415285651}. Best is trial 0 with value: 0.6153310104529617.\n",
      "[I 2024-06-12 16:14:45,513] Trial 1 finished with value: 0.9182926829268293 and parameters: {'model': 'Logistic Regression', 'C': 0.06894221315310718, 'penalty': 'l2', 'solver': 'saga'}. Best is trial 1 with value: 0.9182926829268293.\n",
      "[I 2024-06-12 16:14:46,299] Trial 2 finished with value: 0.9470383275261325 and parameters: {'model': 'XGBoost', 'n_estimators': 280, 'max_depth': 17, 'learning_rate': 0.006630618252259127, 'subsample': 0.60114282874799, 'colsample_bytree': 0.6134881915638299}. Best is trial 2 with value: 0.9470383275261325.\n",
      "[I 2024-06-12 16:14:50,098] Trial 3 finished with value: 0.9711382113821138 and parameters: {'model': 'MLP', 'hidden_layer_sizes': 300, 'alpha': 0.0613837634226672, 'learning_rate_init': 0.07808749052643847, 'max_iter': 434}. Best is trial 3 with value: 0.9711382113821138.\n",
      "[I 2024-06-12 16:14:51,129] Trial 4 finished with value: 0.8966318234610918 and parameters: {'model': 'Random Forest', 'n_estimators': 214, 'max_depth': 5, 'min_samples_split': 17, 'min_samples_leaf': 15, 'max_features': 'sqrt'}. Best is trial 3 with value: 0.9711382113821138.\n",
      "[I 2024-06-12 16:14:51,139] Trial 5 finished with value: 0.8867595818815331 and parameters: {'model': 'Naive Bayes'}. Best is trial 3 with value: 0.9711382113821138.\n",
      "[I 2024-06-12 16:14:51,242] Trial 6 finished with value: 0.9206736353077816 and parameters: {'model': 'Logistic Regression', 'C': 0.20546528448382914, 'penalty': 'l1', 'solver': 'saga'}. Best is trial 3 with value: 0.9711382113821138.\n",
      "[I 2024-06-12 16:14:51,266] Trial 7 finished with value: 0.8867595818815331 and parameters: {'model': 'Naive Bayes'}. Best is trial 3 with value: 0.9711382113821138.\n",
      "[I 2024-06-12 16:15:07,619] Trial 8 finished with value: 0.9783972125435539 and parameters: {'model': 'MLP', 'hidden_layer_sizes': 200, 'alpha': 2.513497727301012e-05, 'learning_rate_init': 0.00042996123861515555, 'max_iter': 623}. Best is trial 8 with value: 0.9783972125435539.\n",
      "[I 2024-06-12 16:15:07,640] Trial 9 finished with value: 0.8867595818815331 and parameters: {'model': 'Naive Bayes'}. Best is trial 8 with value: 0.9783972125435539.\n",
      "/Library/Frameworks/Python.framework/Versions/3.11/lib/python3.11/site-packages/sklearn/neural_network/_multilayer_perceptron.py:691: ConvergenceWarning:\n",
      "\n",
      "Stochastic Optimizer: Maximum iterations (878) reached and the optimization hasn't converged yet.\n",
      "\n",
      "/Library/Frameworks/Python.framework/Versions/3.11/lib/python3.11/site-packages/sklearn/neural_network/_multilayer_perceptron.py:691: ConvergenceWarning:\n",
      "\n",
      "Stochastic Optimizer: Maximum iterations (878) reached and the optimization hasn't converged yet.\n",
      "\n",
      "/Library/Frameworks/Python.framework/Versions/3.11/lib/python3.11/site-packages/sklearn/neural_network/_multilayer_perceptron.py:691: ConvergenceWarning:\n",
      "\n",
      "Stochastic Optimizer: Maximum iterations (878) reached and the optimization hasn't converged yet.\n",
      "\n",
      "/Library/Frameworks/Python.framework/Versions/3.11/lib/python3.11/site-packages/sklearn/neural_network/_multilayer_perceptron.py:691: ConvergenceWarning:\n",
      "\n",
      "Stochastic Optimizer: Maximum iterations (878) reached and the optimization hasn't converged yet.\n",
      "\n",
      "/Library/Frameworks/Python.framework/Versions/3.11/lib/python3.11/site-packages/sklearn/neural_network/_multilayer_perceptron.py:691: ConvergenceWarning:\n",
      "\n",
      "Stochastic Optimizer: Maximum iterations (878) reached and the optimization hasn't converged yet.\n",
      "\n",
      "/Library/Frameworks/Python.framework/Versions/3.11/lib/python3.11/site-packages/sklearn/neural_network/_multilayer_perceptron.py:691: ConvergenceWarning:\n",
      "\n",
      "Stochastic Optimizer: Maximum iterations (878) reached and the optimization hasn't converged yet.\n",
      "\n",
      "/Library/Frameworks/Python.framework/Versions/3.11/lib/python3.11/site-packages/sklearn/neural_network/_multilayer_perceptron.py:691: ConvergenceWarning:\n",
      "\n",
      "Stochastic Optimizer: Maximum iterations (878) reached and the optimization hasn't converged yet.\n",
      "\n",
      "/Library/Frameworks/Python.framework/Versions/3.11/lib/python3.11/site-packages/sklearn/neural_network/_multilayer_perceptron.py:691: ConvergenceWarning:\n",
      "\n",
      "Stochastic Optimizer: Maximum iterations (878) reached and the optimization hasn't converged yet.\n",
      "\n",
      "/Library/Frameworks/Python.framework/Versions/3.11/lib/python3.11/site-packages/sklearn/neural_network/_multilayer_perceptron.py:691: ConvergenceWarning:\n",
      "\n",
      "Stochastic Optimizer: Maximum iterations (878) reached and the optimization hasn't converged yet.\n",
      "\n",
      "/Library/Frameworks/Python.framework/Versions/3.11/lib/python3.11/site-packages/sklearn/neural_network/_multilayer_perceptron.py:691: ConvergenceWarning:\n",
      "\n",
      "Stochastic Optimizer: Maximum iterations (878) reached and the optimization hasn't converged yet.\n",
      "\n",
      "[I 2024-06-12 16:15:21,240] Trial 10 finished with value: 0.9592915214866433 and parameters: {'model': 'MLP', 'hidden_layer_sizes': 100, 'alpha': 1.3647375019729036e-05, 'learning_rate_init': 0.00011670380428661765, 'max_iter': 878}. Best is trial 8 with value: 0.9783972125435539.\n",
      "[I 2024-06-12 16:15:27,166] Trial 11 finished with value: 0.9711382113821138 and parameters: {'model': 'MLP', 'hidden_layer_sizes': 300, 'alpha': 0.0589939150168161, 'learning_rate_init': 0.07920425966823295, 'max_iter': 398}. Best is trial 8 with value: 0.9783972125435539.\n",
      "[I 2024-06-12 16:15:27,302] Trial 12 finished with value: 0.9543554006968641 and parameters: {'model': 'kNN', 'n_neighbors': 5, 'weights': 'distance', 'metric': 'manhattan'}. Best is trial 8 with value: 0.9783972125435539.\n",
      "[I 2024-06-12 16:15:27,432] Trial 13 finished with value: 0.6153310104529617 and parameters: {'model': 'SVM', 'C': 0.0001205514525485104, 'gamma': 0.026813984587268833, 'kernel': 'rbf'}. Best is trial 8 with value: 0.9783972125435539.\n",
      "[I 2024-06-12 16:15:42,509] Trial 14 finished with value: 0.9784552845528456 and parameters: {'model': 'MLP', 'hidden_layer_sizes': 250, 'alpha': 5.694785392914491e-05, 'learning_rate_init': 0.0006282264179351859, 'max_iter': 559}. Best is trial 14 with value: 0.9784552845528456.\n",
      "[I 2024-06-12 16:16:01,404] Trial 15 finished with value: 0.9783972125435539 and parameters: {'model': 'MLP', 'hidden_layer_sizes': 200, 'alpha': 2.430833198583611e-05, 'learning_rate_init': 0.0005248539596913906, 'max_iter': 691}. Best is trial 14 with value: 0.9784552845528456.\n",
      "[I 2024-06-12 16:16:07,967] Trial 16 finished with value: 0.9759581881533101 and parameters: {'model': 'MLP', 'hidden_layer_sizes': 200, 'alpha': 0.00027625338544234103, 'learning_rate_init': 0.0018329971925427951, 'max_iter': 653}. Best is trial 14 with value: 0.9784552845528456.\n",
      "[I 2024-06-12 16:16:08,436] Trial 17 finished with value: 0.9712543554006968 and parameters: {'model': 'Random Forest', 'n_estimators': 60, 'max_depth': 49, 'min_samples_split': 2, 'min_samples_leaf': 1, 'max_features': 'log2'}. Best is trial 14 with value: 0.9784552845528456.\n",
      "[I 2024-06-12 16:16:08,458] Trial 18 finished with value: 0.8967479674796748 and parameters: {'model': 'kNN', 'n_neighbors': 20, 'weights': 'uniform', 'metric': 'minkowski'}. Best is trial 14 with value: 0.9784552845528456.\n",
      "[I 2024-06-12 16:16:08,493] Trial 19 finished with value: 0.6153310104529617 and parameters: {'model': 'SVM', 'C': 19.527938894910022, 'gamma': 0.00010963365810595526, 'kernel': 'poly'}. Best is trial 14 with value: 0.9784552845528456.\n",
      "[I 2024-06-12 16:16:17,745] Trial 20 finished with value: 0.9783972125435539 and parameters: {'model': 'MLP', 'hidden_layer_sizes': 200, 'alpha': 0.00023134335978286787, 'learning_rate_init': 0.0006477968287615714, 'max_iter': 561}. Best is trial 14 with value: 0.9784552845528456.\n",
      "[I 2024-06-12 16:16:28,354] Trial 21 finished with value: 0.9783972125435539 and parameters: {'model': 'MLP', 'hidden_layer_sizes': 200, 'alpha': 1.2000197993601734e-05, 'learning_rate_init': 0.00037530574946127276, 'max_iter': 705}. Best is trial 14 with value: 0.9784552845528456.\n",
      "[I 2024-06-12 16:16:36,906] Trial 22 finished with value: 0.9760162601626018 and parameters: {'model': 'MLP', 'hidden_layer_sizes': 250, 'alpha': 4.770767565759151e-05, 'learning_rate_init': 0.0006447018370134397, 'max_iter': 720}. Best is trial 14 with value: 0.9784552845528456.\n",
      "[I 2024-06-12 16:16:42,468] Trial 23 finished with value: 0.976074332171893 and parameters: {'model': 'MLP', 'hidden_layer_sizes': 100, 'alpha': 6.398017886255612e-05, 'learning_rate_init': 0.001851493519827529, 'max_iter': 554}. Best is trial 14 with value: 0.9784552845528456.\n",
      "/Library/Frameworks/Python.framework/Versions/3.11/lib/python3.11/site-packages/sklearn/neural_network/_multilayer_perceptron.py:691: ConvergenceWarning:\n",
      "\n",
      "Stochastic Optimizer: Maximum iterations (849) reached and the optimization hasn't converged yet.\n",
      "\n",
      "[I 2024-06-12 16:17:04,895] Trial 24 finished with value: 0.9736933797909408 and parameters: {'model': 'MLP', 'hidden_layer_sizes': 150, 'alpha': 0.002643666450038916, 'learning_rate_init': 0.00018904339579660479, 'max_iter': 849}. Best is trial 14 with value: 0.9784552845528456.\n",
      "[I 2024-06-12 16:17:07,781] Trial 25 finished with value: 0.9735772357723576 and parameters: {'model': 'MLP', 'hidden_layer_sizes': 250, 'alpha': 6.969573779634163e-05, 'learning_rate_init': 0.006066549220188094, 'max_iter': 253}. Best is trial 14 with value: 0.9784552845528456.\n",
      "[I 2024-06-12 16:17:20,089] Trial 26 finished with value: 0.9784552845528456 and parameters: {'model': 'MLP', 'hidden_layer_sizes': 250, 'alpha': 2.471158319401532e-05, 'learning_rate_init': 0.0006326975743248226, 'max_iter': 537}. Best is trial 14 with value: 0.9784552845528456.\n",
      "[I 2024-06-12 16:17:20,584] Trial 27 finished with value: 0.9639953542392566 and parameters: {'model': 'XGBoost', 'n_estimators': 50, 'max_depth': 5, 'learning_rate': 0.09492680458921199, 'subsample': 0.9990824948052913, 'colsample_bytree': 0.983783236447928}. Best is trial 14 with value: 0.9784552845528456.\n",
      "[I 2024-06-12 16:17:22,351] Trial 28 finished with value: 0.8990127758420442 and parameters: {'model': 'Random Forest', 'n_estimators': 285, 'max_depth': 49, 'min_samples_split': 6, 'min_samples_leaf': 20, 'max_features': None}. Best is trial 14 with value: 0.9784552845528456.\n",
      "[I 2024-06-12 16:17:22,367] Trial 29 finished with value: 0.38466898954703826 and parameters: {'model': 'Logistic Regression', 'C': 0.00010801703039181033, 'penalty': 'l1', 'solver': 'liblinear'}. Best is trial 14 with value: 0.9784552845528456.\n",
      "[I 2024-06-12 16:17:22,397] Trial 30 finished with value: 0.8991289198606273 and parameters: {'model': 'kNN', 'n_neighbors': 14, 'weights': 'uniform', 'metric': 'euclidean'}. Best is trial 14 with value: 0.9784552845528456.\n",
      "[I 2024-06-12 16:17:36,731] Trial 31 finished with value: 0.9784552845528456 and parameters: {'model': 'MLP', 'hidden_layer_sizes': 250, 'alpha': 2.6583709809082448e-05, 'learning_rate_init': 0.0005710059659670199, 'max_iter': 506}. Best is trial 14 with value: 0.9784552845528456.\n",
      "[I 2024-06-12 16:17:44,507] Trial 32 finished with value: 0.9760162601626018 and parameters: {'model': 'MLP', 'hidden_layer_sizes': 250, 'alpha': 0.00017903681256490654, 'learning_rate_init': 0.0011251576551814283, 'max_iter': 481}. Best is trial 14 with value: 0.9784552845528456.\n",
      "[I 2024-06-12 16:17:45,292] Trial 33 finished with value: 0.6153310104529617 and parameters: {'model': 'XGBoost', 'n_estimators': 145, 'max_depth': 10, 'learning_rate': 0.00017664737036111018, 'subsample': 0.503189717707407, 'colsample_bytree': 0.9337989678272326}. Best is trial 14 with value: 0.9784552845528456.\n",
      "[I 2024-06-12 16:17:48,467] Trial 34 finished with value: 0.9735772357723576 and parameters: {'model': 'MLP', 'hidden_layer_sizes': 250, 'alpha': 1.029999317108133e-05, 'learning_rate_init': 0.006499136514567215, 'max_iter': 538}. Best is trial 14 with value: 0.9784552845528456.\n",
      "/Library/Frameworks/Python.framework/Versions/3.11/lib/python3.11/site-packages/sklearn/neural_network/_multilayer_perceptron.py:691: ConvergenceWarning:\n",
      "\n",
      "Stochastic Optimizer: Maximum iterations (396) reached and the optimization hasn't converged yet.\n",
      "\n",
      "/Library/Frameworks/Python.framework/Versions/3.11/lib/python3.11/site-packages/sklearn/neural_network/_multilayer_perceptron.py:691: ConvergenceWarning:\n",
      "\n",
      "Stochastic Optimizer: Maximum iterations (396) reached and the optimization hasn't converged yet.\n",
      "\n",
      "/Library/Frameworks/Python.framework/Versions/3.11/lib/python3.11/site-packages/sklearn/neural_network/_multilayer_perceptron.py:691: ConvergenceWarning:\n",
      "\n",
      "Stochastic Optimizer: Maximum iterations (396) reached and the optimization hasn't converged yet.\n",
      "\n",
      "/Library/Frameworks/Python.framework/Versions/3.11/lib/python3.11/site-packages/sklearn/neural_network/_multilayer_perceptron.py:691: ConvergenceWarning:\n",
      "\n",
      "Stochastic Optimizer: Maximum iterations (396) reached and the optimization hasn't converged yet.\n",
      "\n",
      "/Library/Frameworks/Python.framework/Versions/3.11/lib/python3.11/site-packages/sklearn/neural_network/_multilayer_perceptron.py:691: ConvergenceWarning:\n",
      "\n",
      "Stochastic Optimizer: Maximum iterations (396) reached and the optimization hasn't converged yet.\n",
      "\n",
      "/Library/Frameworks/Python.framework/Versions/3.11/lib/python3.11/site-packages/sklearn/neural_network/_multilayer_perceptron.py:691: ConvergenceWarning:\n",
      "\n",
      "Stochastic Optimizer: Maximum iterations (396) reached and the optimization hasn't converged yet.\n",
      "\n",
      "/Library/Frameworks/Python.framework/Versions/3.11/lib/python3.11/site-packages/sklearn/neural_network/_multilayer_perceptron.py:691: ConvergenceWarning:\n",
      "\n",
      "Stochastic Optimizer: Maximum iterations (396) reached and the optimization hasn't converged yet.\n",
      "\n",
      "/Library/Frameworks/Python.framework/Versions/3.11/lib/python3.11/site-packages/sklearn/neural_network/_multilayer_perceptron.py:691: ConvergenceWarning:\n",
      "\n",
      "Stochastic Optimizer: Maximum iterations (396) reached and the optimization hasn't converged yet.\n",
      "\n",
      "/Library/Frameworks/Python.framework/Versions/3.11/lib/python3.11/site-packages/sklearn/neural_network/_multilayer_perceptron.py:691: ConvergenceWarning:\n",
      "\n",
      "Stochastic Optimizer: Maximum iterations (396) reached and the optimization hasn't converged yet.\n",
      "\n",
      "/Library/Frameworks/Python.framework/Versions/3.11/lib/python3.11/site-packages/sklearn/neural_network/_multilayer_perceptron.py:691: ConvergenceWarning:\n",
      "\n",
      "Stochastic Optimizer: Maximum iterations (396) reached and the optimization hasn't converged yet.\n",
      "\n",
      "[I 2024-06-12 16:18:03,276] Trial 35 finished with value: 0.9736933797909408 and parameters: {'model': 'MLP', 'hidden_layer_sizes': 250, 'alpha': 4.280887941828964e-05, 'learning_rate_init': 0.00026705248610329503, 'max_iter': 396}. Best is trial 14 with value: 0.9784552845528456.\n",
      "[I 2024-06-12 16:18:15,182] Trial 36 finished with value: 0.9735772357723576 and parameters: {'model': 'MLP', 'hidden_layer_sizes': 300, 'alpha': 0.0008940325334454308, 'learning_rate_init': 0.0010088532650576808, 'max_iter': 608}. Best is trial 14 with value: 0.9784552845528456.\n",
      "[I 2024-06-12 16:18:15,578] Trial 37 finished with value: 0.9304297328687572 and parameters: {'model': 'SVM', 'C': 62.45663313963988, 'gamma': 0.000500523372625158, 'kernel': 'linear'}. Best is trial 14 with value: 0.9784552845528456.\n",
      "[I 2024-06-12 16:18:15,599] Trial 38 finished with value: 0.901451800232288 and parameters: {'model': 'Logistic Regression', 'C': 0.017522379859444093, 'penalty': 'l2', 'solver': 'liblinear'}. Best is trial 14 with value: 0.9784552845528456.\n",
      "[I 2024-06-12 16:18:15,610] Trial 39 finished with value: 0.8867595818815331 and parameters: {'model': 'Naive Bayes'}. Best is trial 14 with value: 0.9784552845528456.\n",
      "[I 2024-06-12 16:18:16,340] Trial 40 finished with value: 0.968815331010453 and parameters: {'model': 'XGBoost', 'n_estimators': 208, 'max_depth': 12, 'learning_rate': 0.07460025085163455, 'subsample': 0.7581245761530505, 'colsample_bytree': 0.7996798274172284}. Best is trial 14 with value: 0.9784552845528456.\n",
      "[I 2024-06-12 16:18:35,059] Trial 41 finished with value: 0.9783972125435539 and parameters: {'model': 'MLP', 'hidden_layer_sizes': 200, 'alpha': 2.736424287363922e-05, 'learning_rate_init': 0.00044219845132222984, 'max_iter': 752}. Best is trial 14 with value: 0.9784552845528456.\n",
      "/Library/Frameworks/Python.framework/Versions/3.11/lib/python3.11/site-packages/sklearn/neural_network/_multilayer_perceptron.py:691: ConvergenceWarning:\n",
      "\n",
      "Stochastic Optimizer: Maximum iterations (636) reached and the optimization hasn't converged yet.\n",
      "\n",
      "/Library/Frameworks/Python.framework/Versions/3.11/lib/python3.11/site-packages/sklearn/neural_network/_multilayer_perceptron.py:691: ConvergenceWarning:\n",
      "\n",
      "Stochastic Optimizer: Maximum iterations (636) reached and the optimization hasn't converged yet.\n",
      "\n",
      "/Library/Frameworks/Python.framework/Versions/3.11/lib/python3.11/site-packages/sklearn/neural_network/_multilayer_perceptron.py:691: ConvergenceWarning:\n",
      "\n",
      "Stochastic Optimizer: Maximum iterations (636) reached and the optimization hasn't converged yet.\n",
      "\n",
      "/Library/Frameworks/Python.framework/Versions/3.11/lib/python3.11/site-packages/sklearn/neural_network/_multilayer_perceptron.py:691: ConvergenceWarning:\n",
      "\n",
      "Stochastic Optimizer: Maximum iterations (636) reached and the optimization hasn't converged yet.\n",
      "\n",
      "/Library/Frameworks/Python.framework/Versions/3.11/lib/python3.11/site-packages/sklearn/neural_network/_multilayer_perceptron.py:691: ConvergenceWarning:\n",
      "\n",
      "Stochastic Optimizer: Maximum iterations (636) reached and the optimization hasn't converged yet.\n",
      "\n",
      "/Library/Frameworks/Python.framework/Versions/3.11/lib/python3.11/site-packages/sklearn/neural_network/_multilayer_perceptron.py:691: ConvergenceWarning:\n",
      "\n",
      "Stochastic Optimizer: Maximum iterations (636) reached and the optimization hasn't converged yet.\n",
      "\n",
      "/Library/Frameworks/Python.framework/Versions/3.11/lib/python3.11/site-packages/sklearn/neural_network/_multilayer_perceptron.py:691: ConvergenceWarning:\n",
      "\n",
      "Stochastic Optimizer: Maximum iterations (636) reached and the optimization hasn't converged yet.\n",
      "\n",
      "[I 2024-06-12 16:18:56,938] Trial 42 finished with value: 0.976074332171893 and parameters: {'model': 'MLP', 'hidden_layer_sizes': 150, 'alpha': 2.4349250700824985e-05, 'learning_rate_init': 0.00029836779956892004, 'max_iter': 636}. Best is trial 14 with value: 0.9784552845528456.\n",
      "[I 2024-06-12 16:19:08,418] Trial 43 finished with value: 0.9760162601626018 and parameters: {'model': 'MLP', 'hidden_layer_sizes': 250, 'alpha': 0.00010803362733466834, 'learning_rate_init': 0.0007655984401925123, 'max_iter': 543}. Best is trial 14 with value: 0.9784552845528456.\n",
      "/Library/Frameworks/Python.framework/Versions/3.11/lib/python3.11/site-packages/sklearn/neural_network/_multilayer_perceptron.py:691: ConvergenceWarning:\n",
      "\n",
      "Stochastic Optimizer: Maximum iterations (473) reached and the optimization hasn't converged yet.\n",
      "\n",
      "/Library/Frameworks/Python.framework/Versions/3.11/lib/python3.11/site-packages/sklearn/neural_network/_multilayer_perceptron.py:691: ConvergenceWarning:\n",
      "\n",
      "Stochastic Optimizer: Maximum iterations (473) reached and the optimization hasn't converged yet.\n",
      "\n",
      "/Library/Frameworks/Python.framework/Versions/3.11/lib/python3.11/site-packages/sklearn/neural_network/_multilayer_perceptron.py:691: ConvergenceWarning:\n",
      "\n",
      "Stochastic Optimizer: Maximum iterations (473) reached and the optimization hasn't converged yet.\n",
      "\n",
      "/Library/Frameworks/Python.framework/Versions/3.11/lib/python3.11/site-packages/sklearn/neural_network/_multilayer_perceptron.py:691: ConvergenceWarning:\n",
      "\n",
      "Stochastic Optimizer: Maximum iterations (473) reached and the optimization hasn't converged yet.\n",
      "\n",
      "/Library/Frameworks/Python.framework/Versions/3.11/lib/python3.11/site-packages/sklearn/neural_network/_multilayer_perceptron.py:691: ConvergenceWarning:\n",
      "\n",
      "Stochastic Optimizer: Maximum iterations (473) reached and the optimization hasn't converged yet.\n",
      "\n",
      "/Library/Frameworks/Python.framework/Versions/3.11/lib/python3.11/site-packages/sklearn/neural_network/_multilayer_perceptron.py:691: ConvergenceWarning:\n",
      "\n",
      "Stochastic Optimizer: Maximum iterations (473) reached and the optimization hasn't converged yet.\n",
      "\n",
      "/Library/Frameworks/Python.framework/Versions/3.11/lib/python3.11/site-packages/sklearn/neural_network/_multilayer_perceptron.py:691: ConvergenceWarning:\n",
      "\n",
      "Stochastic Optimizer: Maximum iterations (473) reached and the optimization hasn't converged yet.\n",
      "\n",
      "/Library/Frameworks/Python.framework/Versions/3.11/lib/python3.11/site-packages/sklearn/neural_network/_multilayer_perceptron.py:691: ConvergenceWarning:\n",
      "\n",
      "Stochastic Optimizer: Maximum iterations (473) reached and the optimization hasn't converged yet.\n",
      "\n",
      "/Library/Frameworks/Python.framework/Versions/3.11/lib/python3.11/site-packages/sklearn/neural_network/_multilayer_perceptron.py:691: ConvergenceWarning:\n",
      "\n",
      "Stochastic Optimizer: Maximum iterations (473) reached and the optimization hasn't converged yet.\n",
      "\n",
      "/Library/Frameworks/Python.framework/Versions/3.11/lib/python3.11/site-packages/sklearn/neural_network/_multilayer_perceptron.py:691: ConvergenceWarning:\n",
      "\n",
      "Stochastic Optimizer: Maximum iterations (473) reached and the optimization hasn't converged yet.\n",
      "\n",
      "[I 2024-06-12 16:19:22,140] Trial 44 finished with value: 0.9545296167247386 and parameters: {'model': 'MLP', 'hidden_layer_sizes': 200, 'alpha': 2.32240935210162e-05, 'learning_rate_init': 0.0001465617337741575, 'max_iter': 473}. Best is trial 14 with value: 0.9784552845528456.\n",
      "[I 2024-06-12 16:19:29,110] Trial 45 finished with value: 0.9711962833914054 and parameters: {'model': 'MLP', 'hidden_layer_sizes': 150, 'alpha': 2.875438518602496e-05, 'learning_rate_init': 0.0015372341234997158, 'max_iter': 664}. Best is trial 14 with value: 0.9784552845528456.\n",
      "[I 2024-06-12 16:19:29,840] Trial 46 finished with value: 0.9373983739837399 and parameters: {'model': 'Random Forest', 'n_estimators': 107, 'max_depth': 38, 'min_samples_split': 19, 'min_samples_leaf': 3, 'max_features': 'sqrt'}. Best is trial 14 with value: 0.9784552845528456.\n",
      "[I 2024-06-12 16:19:29,850] Trial 47 finished with value: 0.8867595818815331 and parameters: {'model': 'Naive Bayes'}. Best is trial 14 with value: 0.9784552845528456.\n",
      "[I 2024-06-12 16:19:45,341] Trial 48 finished with value: 0.9784552845528456 and parameters: {'model': 'MLP', 'hidden_layer_sizes': 250, 'alpha': 9.458511617999077e-05, 'learning_rate_init': 0.00040725588725562886, 'max_iter': 811}. Best is trial 14 with value: 0.9784552845528456.\n",
      "[I 2024-06-12 16:19:45,457] Trial 49 finished with value: 0.9326945412311266 and parameters: {'model': 'Logistic Regression', 'C': 1.3750752303519524, 'penalty': 'l1', 'solver': 'saga'}. Best is trial 14 with value: 0.9784552845528456.\n",
      "[I 2024-06-12 16:19:45,524] Trial 50 finished with value: 0.9614982578397214 and parameters: {'model': 'kNN', 'n_neighbors': 3, 'weights': 'distance', 'metric': 'manhattan'}. Best is trial 14 with value: 0.9784552845528456.\n",
      "[I 2024-06-12 16:19:56,769] Trial 51 finished with value: 0.9784552845528456 and parameters: {'model': 'MLP', 'hidden_layer_sizes': 250, 'alpha': 9.070852978432868e-05, 'learning_rate_init': 0.0004883728417501255, 'max_iter': 974}. Best is trial 14 with value: 0.9784552845528456.\n",
      "[I 2024-06-12 16:20:14,222] Trial 52 finished with value: 0.9784552845528456 and parameters: {'model': 'MLP', 'hidden_layer_sizes': 250, 'alpha': 9.349285393536341e-05, 'learning_rate_init': 0.00028016964234843717, 'max_iter': 790}. Best is trial 14 with value: 0.9784552845528456.\n",
      "[I 2024-06-12 16:20:34,692] Trial 53 finished with value: 0.9784552845528456 and parameters: {'model': 'MLP', 'hidden_layer_sizes': 250, 'alpha': 0.0001258384000912543, 'learning_rate_init': 0.000233932104465762, 'max_iter': 926}. Best is trial 14 with value: 0.9784552845528456.\n",
      "[I 2024-06-12 16:20:56,356] Trial 54 finished with value: 0.9736353077816492 and parameters: {'model': 'MLP', 'hidden_layer_sizes': 300, 'alpha': 9.590695617792705e-05, 'learning_rate_init': 0.00032446130793694315, 'max_iter': 982}. Best is trial 14 with value: 0.9784552845528456.\n",
      "[I 2024-06-12 16:21:08,028] Trial 55 finished with value: 0.9760162601626018 and parameters: {'model': 'MLP', 'hidden_layer_sizes': 250, 'alpha': 0.00028732129633612604, 'learning_rate_init': 0.0008205795140983773, 'max_iter': 792}. Best is trial 14 with value: 0.9784552845528456.\n",
      "[I 2024-06-12 16:21:08,153] Trial 56 finished with value: 0.6153310104529617 and parameters: {'model': 'SVM', 'C': 0.002078347588013764, 'gamma': 0.05708675252362472, 'kernel': 'sigmoid'}. Best is trial 14 with value: 0.9784552845528456.\n",
      "[I 2024-06-12 16:21:34,362] Trial 57 finished with value: 0.976074332171893 and parameters: {'model': 'MLP', 'hidden_layer_sizes': 250, 'alpha': 0.0007713108291887066, 'learning_rate_init': 0.00022192012025643395, 'max_iter': 999}. Best is trial 14 with value: 0.9784552845528456.\n",
      "[I 2024-06-12 16:21:39,202] Trial 58 finished with value: 0.9735772357723576 and parameters: {'model': 'MLP', 'hidden_layer_sizes': 300, 'alpha': 5.6788031057528205e-05, 'learning_rate_init': 0.0036749115671759433, 'max_iter': 820}. Best is trial 14 with value: 0.9784552845528456.\n",
      "[I 2024-06-12 16:21:57,492] Trial 59 finished with value: 0.9760162601626018 and parameters: {'model': 'MLP', 'hidden_layer_sizes': 300, 'alpha': 0.00038423209434513015, 'learning_rate_init': 0.0005274651393615869, 'max_iter': 921}. Best is trial 14 with value: 0.9784552845528456.\n",
      "[I 2024-06-12 16:21:58,950] Trial 60 finished with value: 0.9373983739837399 and parameters: {'model': 'Random Forest', 'n_estimators': 239, 'max_depth': 32, 'min_samples_split': 12, 'min_samples_leaf': 8, 'max_features': 'log2'}. Best is trial 14 with value: 0.9784552845528456.\n",
      "[I 2024-06-12 16:22:00,319] Trial 61 finished with value: 0.9735772357723576 and parameters: {'model': 'MLP', 'hidden_layer_sizes': 250, 'alpha': 0.0001340603245507429, 'learning_rate_init': 0.024820900764028746, 'max_iter': 929}. Best is trial 14 with value: 0.9784552845528456.\n",
      "[I 2024-06-12 16:22:31,379] Trial 62 finished with value: 0.976074332171893 and parameters: {'model': 'MLP', 'hidden_layer_sizes': 250, 'alpha': 9.581067435583839e-05, 'learning_rate_init': 0.0002073429605202403, 'max_iter': 885}. Best is trial 14 with value: 0.9784552845528456.\n",
      "[I 2024-06-12 16:23:02,876] Trial 63 finished with value: 0.9784552845528456 and parameters: {'model': 'MLP', 'hidden_layer_sizes': 250, 'alpha': 4.6508389241096436e-05, 'learning_rate_init': 0.0003694651860430708, 'max_iter': 947}. Best is trial 14 with value: 0.9784552845528456.\n",
      "/Library/Frameworks/Python.framework/Versions/3.11/lib/python3.11/site-packages/sklearn/neural_network/_multilayer_perceptron.py:691: ConvergenceWarning:\n",
      "\n",
      "Stochastic Optimizer: Maximum iterations (487) reached and the optimization hasn't converged yet.\n",
      "\n",
      "/Library/Frameworks/Python.framework/Versions/3.11/lib/python3.11/site-packages/sklearn/neural_network/_multilayer_perceptron.py:691: ConvergenceWarning:\n",
      "\n",
      "Stochastic Optimizer: Maximum iterations (487) reached and the optimization hasn't converged yet.\n",
      "\n",
      "/Library/Frameworks/Python.framework/Versions/3.11/lib/python3.11/site-packages/sklearn/neural_network/_multilayer_perceptron.py:691: ConvergenceWarning:\n",
      "\n",
      "Stochastic Optimizer: Maximum iterations (487) reached and the optimization hasn't converged yet.\n",
      "\n",
      "/Library/Frameworks/Python.framework/Versions/3.11/lib/python3.11/site-packages/sklearn/neural_network/_multilayer_perceptron.py:691: ConvergenceWarning:\n",
      "\n",
      "Stochastic Optimizer: Maximum iterations (487) reached and the optimization hasn't converged yet.\n",
      "\n",
      "/Library/Frameworks/Python.framework/Versions/3.11/lib/python3.11/site-packages/sklearn/neural_network/_multilayer_perceptron.py:691: ConvergenceWarning:\n",
      "\n",
      "Stochastic Optimizer: Maximum iterations (487) reached and the optimization hasn't converged yet.\n",
      "\n",
      "/Library/Frameworks/Python.framework/Versions/3.11/lib/python3.11/site-packages/sklearn/neural_network/_multilayer_perceptron.py:691: ConvergenceWarning:\n",
      "\n",
      "Stochastic Optimizer: Maximum iterations (487) reached and the optimization hasn't converged yet.\n",
      "\n",
      "/Library/Frameworks/Python.framework/Versions/3.11/lib/python3.11/site-packages/sklearn/neural_network/_multilayer_perceptron.py:691: ConvergenceWarning:\n",
      "\n",
      "Stochastic Optimizer: Maximum iterations (487) reached and the optimization hasn't converged yet.\n",
      "\n",
      "/Library/Frameworks/Python.framework/Versions/3.11/lib/python3.11/site-packages/sklearn/neural_network/_multilayer_perceptron.py:691: ConvergenceWarning:\n",
      "\n",
      "Stochastic Optimizer: Maximum iterations (487) reached and the optimization hasn't converged yet.\n",
      "\n",
      "/Library/Frameworks/Python.framework/Versions/3.11/lib/python3.11/site-packages/sklearn/neural_network/_multilayer_perceptron.py:691: ConvergenceWarning:\n",
      "\n",
      "Stochastic Optimizer: Maximum iterations (487) reached and the optimization hasn't converged yet.\n",
      "\n",
      "/Library/Frameworks/Python.framework/Versions/3.11/lib/python3.11/site-packages/sklearn/neural_network/_multilayer_perceptron.py:691: ConvergenceWarning:\n",
      "\n",
      "Stochastic Optimizer: Maximum iterations (487) reached and the optimization hasn't converged yet.\n",
      "\n",
      "[I 2024-06-12 16:23:25,601] Trial 64 finished with value: 0.9641114982578397 and parameters: {'model': 'MLP', 'hidden_layer_sizes': 250, 'alpha': 0.0044542311759154, 'learning_rate_init': 0.0001509996197957009, 'max_iter': 487}. Best is trial 14 with value: 0.9784552845528456.\n",
      "/Library/Frameworks/Python.framework/Versions/3.11/lib/python3.11/site-packages/sklearn/neural_network/_multilayer_perceptron.py:691: ConvergenceWarning:\n",
      "\n",
      "Stochastic Optimizer: Maximum iterations (776) reached and the optimization hasn't converged yet.\n",
      "\n",
      "/Library/Frameworks/Python.framework/Versions/3.11/lib/python3.11/site-packages/sklearn/neural_network/_multilayer_perceptron.py:691: ConvergenceWarning:\n",
      "\n",
      "Stochastic Optimizer: Maximum iterations (776) reached and the optimization hasn't converged yet.\n",
      "\n",
      "/Library/Frameworks/Python.framework/Versions/3.11/lib/python3.11/site-packages/sklearn/neural_network/_multilayer_perceptron.py:691: ConvergenceWarning:\n",
      "\n",
      "Stochastic Optimizer: Maximum iterations (776) reached and the optimization hasn't converged yet.\n",
      "\n",
      "/Library/Frameworks/Python.framework/Versions/3.11/lib/python3.11/site-packages/sklearn/neural_network/_multilayer_perceptron.py:691: ConvergenceWarning:\n",
      "\n",
      "Stochastic Optimizer: Maximum iterations (776) reached and the optimization hasn't converged yet.\n",
      "\n",
      "/Library/Frameworks/Python.framework/Versions/3.11/lib/python3.11/site-packages/sklearn/neural_network/_multilayer_perceptron.py:691: ConvergenceWarning:\n",
      "\n",
      "Stochastic Optimizer: Maximum iterations (776) reached and the optimization hasn't converged yet.\n",
      "\n",
      "/Library/Frameworks/Python.framework/Versions/3.11/lib/python3.11/site-packages/sklearn/neural_network/_multilayer_perceptron.py:691: ConvergenceWarning:\n",
      "\n",
      "Stochastic Optimizer: Maximum iterations (776) reached and the optimization hasn't converged yet.\n",
      "\n",
      "/Library/Frameworks/Python.framework/Versions/3.11/lib/python3.11/site-packages/sklearn/neural_network/_multilayer_perceptron.py:691: ConvergenceWarning:\n",
      "\n",
      "Stochastic Optimizer: Maximum iterations (776) reached and the optimization hasn't converged yet.\n",
      "\n",
      "/Library/Frameworks/Python.framework/Versions/3.11/lib/python3.11/site-packages/sklearn/neural_network/_multilayer_perceptron.py:691: ConvergenceWarning:\n",
      "\n",
      "Stochastic Optimizer: Maximum iterations (776) reached and the optimization hasn't converged yet.\n",
      "\n",
      "/Library/Frameworks/Python.framework/Versions/3.11/lib/python3.11/site-packages/sklearn/neural_network/_multilayer_perceptron.py:691: ConvergenceWarning:\n",
      "\n",
      "Stochastic Optimizer: Maximum iterations (776) reached and the optimization hasn't converged yet.\n",
      "\n",
      "/Library/Frameworks/Python.framework/Versions/3.11/lib/python3.11/site-packages/sklearn/neural_network/_multilayer_perceptron.py:691: ConvergenceWarning:\n",
      "\n",
      "Stochastic Optimizer: Maximum iterations (776) reached and the optimization hasn't converged yet.\n",
      "\n",
      "[I 2024-06-12 16:23:33,670] Trial 65 finished with value: 0.9232288037166085 and parameters: {'model': 'MLP', 'hidden_layer_sizes': 50, 'alpha': 0.0001204525229092309, 'learning_rate_init': 0.00011476293527239185, 'max_iter': 776}. Best is trial 14 with value: 0.9784552845528456.\n",
      "[I 2024-06-12 16:23:33,699] Trial 66 finished with value: 0.8867595818815331 and parameters: {'model': 'Naive Bayes'}. Best is trial 14 with value: 0.9784552845528456.\n",
      "[I 2024-06-12 16:23:47,126] Trial 67 finished with value: 0.9784552845528456 and parameters: {'model': 'MLP', 'hidden_layer_sizes': 250, 'alpha': 1.5919187441788776e-05, 'learning_rate_init': 0.00046227668143431595, 'max_iter': 872}. Best is trial 14 with value: 0.9784552845528456.\n",
      "[I 2024-06-12 16:23:47,310] Trial 68 finished with value: 0.9448315911730546 and parameters: {'model': 'kNN', 'n_neighbors': 12, 'weights': 'distance', 'metric': 'euclidean'}. Best is trial 14 with value: 0.9784552845528456.\n",
      "[I 2024-06-12 16:23:47,899] Trial 69 finished with value: 0.6153310104529617 and parameters: {'model': 'XGBoost', 'n_estimators': 113, 'max_depth': 9, 'learning_rate': 0.0001105150910811697, 'subsample': 0.7822881129351175, 'colsample_bytree': 0.5053277149824527}. Best is trial 14 with value: 0.9784552845528456.\n",
      "[I 2024-06-12 16:23:56,477] Trial 70 finished with value: 0.9735772357723576 and parameters: {'model': 'MLP', 'hidden_layer_sizes': 300, 'alpha': 4.333038611107323e-05, 'learning_rate_init': 0.0011706093428033224, 'max_iter': 420}. Best is trial 14 with value: 0.9784552845528456.\n",
      "[I 2024-06-12 16:24:16,391] Trial 71 finished with value: 0.9784552845528456 and parameters: {'model': 'MLP', 'hidden_layer_sizes': 250, 'alpha': 3.931815794566165e-05, 'learning_rate_init': 0.0003415765420846726, 'max_iter': 951}. Best is trial 14 with value: 0.9784552845528456.\n",
      "[I 2024-06-12 16:24:31,234] Trial 72 finished with value: 0.9784552845528456 and parameters: {'model': 'MLP', 'hidden_layer_sizes': 250, 'alpha': 9.303213538910668e-05, 'learning_rate_init': 0.0005230265629628513, 'max_iter': 951}. Best is trial 14 with value: 0.9784552845528456.\n",
      "[I 2024-06-12 16:24:52,167] Trial 73 finished with value: 0.9784552845528456 and parameters: {'model': 'MLP', 'hidden_layer_sizes': 250, 'alpha': 0.00016608078586032376, 'learning_rate_init': 0.0002595791024968415, 'max_iter': 591}. Best is trial 14 with value: 0.9784552845528456.\n",
      "[I 2024-06-12 16:25:07,336] Trial 74 finished with value: 0.9783972125435539 and parameters: {'model': 'MLP', 'hidden_layer_sizes': 200, 'alpha': 6.305634313660722e-05, 'learning_rate_init': 0.00040618246333315076, 'max_iter': 899}. Best is trial 14 with value: 0.9784552845528456.\n",
      "[I 2024-06-12 16:25:07,405] Trial 75 finished with value: 0.9134146341463415 and parameters: {'model': 'SVM', 'C': 2.560953917138489, 'gamma': 0.004566547063571609, 'kernel': 'sigmoid'}. Best is trial 14 with value: 0.9784552845528456.\n",
      "[I 2024-06-12 16:25:07,443] Trial 76 finished with value: 0.867711962833914 and parameters: {'model': 'Logistic Regression', 'C': 0.005201749400971176, 'penalty': 'l2', 'solver': 'liblinear'}. Best is trial 14 with value: 0.9784552845528456.\n",
      "[I 2024-06-12 16:25:20,667] Trial 77 finished with value: 0.9760162601626018 and parameters: {'model': 'MLP', 'hidden_layer_sizes': 250, 'alpha': 3.479454212018625e-05, 'learning_rate_init': 0.0006888454145256024, 'max_iter': 841}. Best is trial 14 with value: 0.9784552845528456.\n",
      "[I 2024-06-12 16:25:42,798] Trial 78 finished with value: 0.9760162601626018 and parameters: {'model': 'MLP', 'hidden_layer_sizes': 300, 'alpha': 6.896051459968667e-05, 'learning_rate_init': 0.0003760231612619822, 'max_iter': 510}. Best is trial 14 with value: 0.9784552845528456.\n",
      "[I 2024-06-12 16:25:56,004] Trial 79 finished with value: 0.9783972125435539 and parameters: {'model': 'MLP', 'hidden_layer_sizes': 200, 'alpha': 1.6735787141171357e-05, 'learning_rate_init': 0.0005913482276330379, 'max_iter': 971}. Best is trial 14 with value: 0.9784552845528456.\n",
      "[I 2024-06-12 16:26:26,139] Trial 80 finished with value: 0.976074332171893 and parameters: {'model': 'MLP', 'hidden_layer_sizes': 250, 'alpha': 0.022183984277193012, 'learning_rate_init': 0.00018152953224889986, 'max_iter': 907}. Best is trial 14 with value: 0.9784552845528456.\n",
      "[I 2024-06-12 16:26:52,852] Trial 81 finished with value: 0.9784552845528456 and parameters: {'model': 'MLP', 'hidden_layer_sizes': 250, 'alpha': 1.600684187243207e-05, 'learning_rate_init': 0.00048686204533208413, 'max_iter': 832}. Best is trial 14 with value: 0.9784552845528456.\n",
      "[I 2024-06-12 16:27:26,052] Trial 82 finished with value: 0.9784552845528456 and parameters: {'model': 'MLP', 'hidden_layer_sizes': 250, 'alpha': 1.6327797320951936e-05, 'learning_rate_init': 0.0002864304278402718, 'max_iter': 880}. Best is trial 14 with value: 0.9784552845528456.\n",
      "[I 2024-06-12 16:27:42,694] Trial 83 finished with value: 0.9760162601626018 and parameters: {'model': 'MLP', 'hidden_layer_sizes': 250, 'alpha': 2.001927609226436e-05, 'learning_rate_init': 0.0008287508673779039, 'max_iter': 860}. Best is trial 14 with value: 0.9784552845528456.\n",
      "[I 2024-06-12 16:28:05,322] Trial 84 finished with value: 0.9784552845528456 and parameters: {'model': 'MLP', 'hidden_layer_sizes': 250, 'alpha': 1.0314025824070221e-05, 'learning_rate_init': 0.0004309256740374286, 'max_iter': 575}. Best is trial 14 with value: 0.9784552845528456.\n",
      "[I 2024-06-12 16:28:20,092] Trial 85 finished with value: 0.9783972125435539 and parameters: {'model': 'MLP', 'hidden_layer_sizes': 200, 'alpha': 5.087880639138716e-05, 'learning_rate_init': 0.0005550397655912671, 'max_iter': 935}. Best is trial 14 with value: 0.9784552845528456.\n",
      "[I 2024-06-12 16:28:21,318] Trial 86 finished with value: 0.9253193960511036 and parameters: {'model': 'Random Forest', 'n_estimators': 178, 'max_depth': 39, 'min_samples_split': 12, 'min_samples_leaf': 10, 'max_features': None}. Best is trial 14 with value: 0.9784552845528456.\n",
      "[I 2024-06-12 16:28:21,712] Trial 87 finished with value: 0.9037746806039489 and parameters: {'model': 'XGBoost', 'n_estimators': 86, 'max_depth': 15, 'learning_rate': 0.00611556258897416, 'subsample': 0.6468509686277631, 'colsample_bytree': 0.8119478539091204}. Best is trial 14 with value: 0.9784552845528456.\n",
      "/Library/Frameworks/Python.framework/Versions/3.11/lib/python3.11/site-packages/sklearn/neural_network/_multilayer_perceptron.py:691: ConvergenceWarning:\n",
      "\n",
      "Stochastic Optimizer: Maximum iterations (517) reached and the optimization hasn't converged yet.\n",
      "\n",
      "/Library/Frameworks/Python.framework/Versions/3.11/lib/python3.11/site-packages/sklearn/neural_network/_multilayer_perceptron.py:691: ConvergenceWarning:\n",
      "\n",
      "Stochastic Optimizer: Maximum iterations (517) reached and the optimization hasn't converged yet.\n",
      "\n",
      "/Library/Frameworks/Python.framework/Versions/3.11/lib/python3.11/site-packages/sklearn/neural_network/_multilayer_perceptron.py:691: ConvergenceWarning:\n",
      "\n",
      "Stochastic Optimizer: Maximum iterations (517) reached and the optimization hasn't converged yet.\n",
      "\n",
      "/Library/Frameworks/Python.framework/Versions/3.11/lib/python3.11/site-packages/sklearn/neural_network/_multilayer_perceptron.py:691: ConvergenceWarning:\n",
      "\n",
      "Stochastic Optimizer: Maximum iterations (517) reached and the optimization hasn't converged yet.\n",
      "\n",
      "/Library/Frameworks/Python.framework/Versions/3.11/lib/python3.11/site-packages/sklearn/neural_network/_multilayer_perceptron.py:691: ConvergenceWarning:\n",
      "\n",
      "Stochastic Optimizer: Maximum iterations (517) reached and the optimization hasn't converged yet.\n",
      "\n",
      "/Library/Frameworks/Python.framework/Versions/3.11/lib/python3.11/site-packages/sklearn/neural_network/_multilayer_perceptron.py:691: ConvergenceWarning:\n",
      "\n",
      "Stochastic Optimizer: Maximum iterations (517) reached and the optimization hasn't converged yet.\n",
      "\n",
      "/Library/Frameworks/Python.framework/Versions/3.11/lib/python3.11/site-packages/sklearn/neural_network/_multilayer_perceptron.py:691: ConvergenceWarning:\n",
      "\n",
      "Stochastic Optimizer: Maximum iterations (517) reached and the optimization hasn't converged yet.\n",
      "\n",
      "/Library/Frameworks/Python.framework/Versions/3.11/lib/python3.11/site-packages/sklearn/neural_network/_multilayer_perceptron.py:691: ConvergenceWarning:\n",
      "\n",
      "Stochastic Optimizer: Maximum iterations (517) reached and the optimization hasn't converged yet.\n",
      "\n",
      "/Library/Frameworks/Python.framework/Versions/3.11/lib/python3.11/site-packages/sklearn/neural_network/_multilayer_perceptron.py:691: ConvergenceWarning:\n",
      "\n",
      "Stochastic Optimizer: Maximum iterations (517) reached and the optimization hasn't converged yet.\n",
      "\n",
      "/Library/Frameworks/Python.framework/Versions/3.11/lib/python3.11/site-packages/sklearn/neural_network/_multilayer_perceptron.py:691: ConvergenceWarning:\n",
      "\n",
      "Stochastic Optimizer: Maximum iterations (517) reached and the optimization hasn't converged yet.\n",
      "\n",
      "[I 2024-06-12 16:28:52,298] Trial 88 finished with value: 0.976074332171893 and parameters: {'model': 'MLP', 'hidden_layer_sizes': 250, 'alpha': 0.00020907270526961152, 'learning_rate_init': 0.00022962435919624544, 'max_iter': 517}. Best is trial 14 with value: 0.9784552845528456.\n",
      "[I 2024-06-12 16:28:52,328] Trial 89 finished with value: 0.8867595818815331 and parameters: {'model': 'Naive Bayes'}. Best is trial 14 with value: 0.9784552845528456.\n",
      "[I 2024-06-12 16:28:52,487] Trial 90 finished with value: 0.8967479674796748 and parameters: {'model': 'kNN', 'n_neighbors': 20, 'weights': 'uniform', 'metric': 'minkowski'}. Best is trial 14 with value: 0.9784552845528456.\n",
      "[I 2024-06-12 16:29:20,385] Trial 91 finished with value: 0.9784552845528456 and parameters: {'model': 'MLP', 'hidden_layer_sizes': 250, 'alpha': 3.553052552646706e-05, 'learning_rate_init': 0.0003285523870096035, 'max_iter': 973}. Best is trial 14 with value: 0.9784552845528456.\n",
      "[I 2024-06-12 16:29:51,208] Trial 92 finished with value: 0.9784552845528456 and parameters: {'model': 'MLP', 'hidden_layer_sizes': 250, 'alpha': 3.7228707250445874e-05, 'learning_rate_init': 0.0003791176713178959, 'max_iter': 947}. Best is trial 14 with value: 0.9784552845528456.\n",
      "[I 2024-06-12 16:30:23,998] Trial 93 finished with value: 0.9784552845528456 and parameters: {'model': 'MLP', 'hidden_layer_sizes': 250, 'alpha': 7.344596202112007e-05, 'learning_rate_init': 0.0002938088412890457, 'max_iter': 954}. Best is trial 14 with value: 0.9784552845528456.\n",
      "[I 2024-06-12 16:30:44,170] Trial 94 finished with value: 0.9760162601626018 and parameters: {'model': 'MLP', 'hidden_layer_sizes': 250, 'alpha': 3.199354771919855e-05, 'learning_rate_init': 0.0006576198108557293, 'max_iter': 902}. Best is trial 14 with value: 0.9784552845528456.\n",
      "[I 2024-06-12 16:30:58,782] Trial 95 finished with value: 0.9760162601626018 and parameters: {'model': 'MLP', 'hidden_layer_sizes': 250, 'alpha': 4.4822954065944505e-05, 'learning_rate_init': 0.0010610896721233813, 'max_iter': 869}. Best is trial 14 with value: 0.9784552845528456.\n",
      "[I 2024-06-12 16:30:58,882] Trial 96 finished with value: 0.7788617886178861 and parameters: {'model': 'SVM', 'C': 0.0009389005636652515, 'gamma': 0.0032420749646227525, 'kernel': 'linear'}. Best is trial 14 with value: 0.9784552845528456.\n",
      "[I 2024-06-12 16:30:59,007] Trial 97 finished with value: 0.9326945412311266 and parameters: {'model': 'Logistic Regression', 'C': 6.189156208238789, 'penalty': 'l2', 'solver': 'saga'}. Best is trial 14 with value: 0.9784552845528456.\n",
      "/Library/Frameworks/Python.framework/Versions/3.11/lib/python3.11/site-packages/sklearn/neural_network/_multilayer_perceptron.py:691: ConvergenceWarning:\n",
      "\n",
      "Stochastic Optimizer: Maximum iterations (457) reached and the optimization hasn't converged yet.\n",
      "\n",
      "/Library/Frameworks/Python.framework/Versions/3.11/lib/python3.11/site-packages/sklearn/neural_network/_multilayer_perceptron.py:691: ConvergenceWarning:\n",
      "\n",
      "Stochastic Optimizer: Maximum iterations (457) reached and the optimization hasn't converged yet.\n",
      "\n",
      "/Library/Frameworks/Python.framework/Versions/3.11/lib/python3.11/site-packages/sklearn/neural_network/_multilayer_perceptron.py:691: ConvergenceWarning:\n",
      "\n",
      "Stochastic Optimizer: Maximum iterations (457) reached and the optimization hasn't converged yet.\n",
      "\n",
      "/Library/Frameworks/Python.framework/Versions/3.11/lib/python3.11/site-packages/sklearn/neural_network/_multilayer_perceptron.py:691: ConvergenceWarning:\n",
      "\n",
      "Stochastic Optimizer: Maximum iterations (457) reached and the optimization hasn't converged yet.\n",
      "\n",
      "[I 2024-06-12 16:31:29,063] Trial 98 finished with value: 0.9783972125435539 and parameters: {'model': 'MLP', 'hidden_layer_sizes': 200, 'alpha': 2.335629699171972e-05, 'learning_rate_init': 0.00043066363706964445, 'max_iter': 457}. Best is trial 14 with value: 0.9784552845528456.\n",
      "/Library/Frameworks/Python.framework/Versions/3.11/lib/python3.11/site-packages/sklearn/neural_network/_multilayer_perceptron.py:691: ConvergenceWarning:\n",
      "\n",
      "Stochastic Optimizer: Maximum iterations (742) reached and the optimization hasn't converged yet.\n",
      "\n",
      "/Library/Frameworks/Python.framework/Versions/3.11/lib/python3.11/site-packages/sklearn/neural_network/_multilayer_perceptron.py:691: ConvergenceWarning:\n",
      "\n",
      "Stochastic Optimizer: Maximum iterations (742) reached and the optimization hasn't converged yet.\n",
      "\n",
      "/Library/Frameworks/Python.framework/Versions/3.11/lib/python3.11/site-packages/sklearn/neural_network/_multilayer_perceptron.py:691: ConvergenceWarning:\n",
      "\n",
      "Stochastic Optimizer: Maximum iterations (742) reached and the optimization hasn't converged yet.\n",
      "\n",
      "/Library/Frameworks/Python.framework/Versions/3.11/lib/python3.11/site-packages/sklearn/neural_network/_multilayer_perceptron.py:691: ConvergenceWarning:\n",
      "\n",
      "Stochastic Optimizer: Maximum iterations (742) reached and the optimization hasn't converged yet.\n",
      "\n",
      "[I 2024-06-12 16:32:22,618] Trial 99 finished with value: 0.976074332171893 and parameters: {'model': 'MLP', 'hidden_layer_sizes': 250, 'alpha': 8.029986191256436e-05, 'learning_rate_init': 0.00015800789326565257, 'max_iter': 742}. Best is trial 14 with value: 0.9784552845528456.\n"
     ]
    },
    {
     "name": "stdout",
     "output_type": "stream",
     "text": [
      "Best model: MLP\n",
      "Best parameters: {'model': 'MLP', 'hidden_layer_sizes': 250, 'alpha': 5.694785392914491e-05, 'learning_rate_init': 0.0006282264179351859, 'max_iter': 559}\n",
      "Best accuracy: 0.9784552845528456\n"
     ]
    }
   ],
   "source": [
    "study = optuna.create_study(direction='maximize', study_name='Diabetes Risk Prediction')\n",
    "study.optimize(objective, n_trials=100)\n",
    "\n",
    "# Print the best trial's details\n",
    "best_trial = study.best_trial\n",
    "print(f'Best model: {best_trial.params[\"model\"]}')\n",
    "print(f'Best parameters: {best_trial.params}')\n",
    "print(f'Best accuracy: {best_trial.value}')"
   ]
  },
  {
   "cell_type": "code",
   "execution_count": 27,
   "metadata": {},
   "outputs": [
    {
     "name": "stdout",
     "output_type": "stream",
     "text": [
      "Best Model: MLP\n",
      "Best Parameters: {'model': 'MLP', 'hidden_layer_sizes': 250, 'alpha': 5.694785392914491e-05, 'learning_rate_init': 0.0006282264179351859, 'max_iter': 559}\n",
      "Test Accuracy: 0.9615\n",
      "Test F1-score: 0.9613\n"
     ]
    }
   ],
   "source": [
    "# Initialize the best model with the best parameters\n",
    "best_model_name = best_trial.params['model']\n",
    "\n",
    "if best_model_name == 'MLP':\n",
    "    best_model = MLPClassifier(\n",
    "        hidden_layer_sizes=best_trial.params['hidden_layer_sizes'],\n",
    "        alpha=best_trial.params['alpha'],\n",
    "        learning_rate_init=best_trial.params['learning_rate_init'],\n",
    "        max_iter=best_trial.params['max_iter'],\n",
    "        random_state=42\n",
    "    )\n",
    "elif best_model_name == 'Random Forest':\n",
    "    best_model = RandomForestClassifier(\n",
    "        n_estimators=best_trial.params['n_estimators'],\n",
    "        max_depth=best_trial.params['max_depth'],\n",
    "        min_samples_split=best_trial.params['min_samples_split'],\n",
    "        min_samples_leaf=best_trial.params['min_samples_leaf'],\n",
    "        max_features=best_trial.params['max_features'],\n",
    "        random_state=42\n",
    "    )\n",
    "elif best_model_name == 'XGBoost':\n",
    "    best_model = XGBClassifier(\n",
    "        n_estimators=best_trial.params['n_estimators'],\n",
    "        max_depth=best_trial.params['max_depth'],\n",
    "        learning_rate=best_trial.params['learning_rate'],\n",
    "        subsample=best_trial.params['subsample'],\n",
    "        colsample_bytree=best_trial.params['colsample_bytree'],\n",
    "        random_state=42\n",
    "    )\n",
    "elif best_model_name == 'Logistic Regression':\n",
    "    best_model = LogisticRegression(\n",
    "        C=best_trial.params['C'],\n",
    "        penalty=best_trial.params['penalty'],\n",
    "        solver=best_trial.params['solver'],\n",
    "        random_state=42\n",
    "    )\n",
    "elif best_model_name == 'Naive Bayes':\n",
    "    best_model = GaussianNB()\n",
    "\n",
    "elif best_model_name == 'SVM':\n",
    "    best_model = SVC(\n",
    "        C=best_trial.params['C'],\n",
    "        gamma=best_trial.params['gamma'],\n",
    "        kernel=best_trial.params['kernel'],\n",
    "        random_state=42\n",
    "    )\n",
    "elif best_model_name == 'kNN':\n",
    "    best_model = KNeighborsClassifier(\n",
    "        n_neighbors=best_trial.params['n_neighbors'],\n",
    "        weights=best_trial.params['weights'],\n",
    "        metric=best_trial.params['metric']\n",
    "    )\n",
    "\n",
    "# Train the model on the entire training set\n",
    "best_model.fit(X_train_scaled, y_train)\n",
    "\n",
    "# Predict on the test set\n",
    "y_pred = best_model.predict(X_test_scaled)\n",
    "\n",
    "# Calculate Accuracy and F1-score on the test set\n",
    "accuracy = accuracy_score(y_test, y_pred)\n",
    "f1 = f1_score(y_test, y_pred, average='weighted')\n",
    "\n",
    "print(f\"Best Model: {best_model_name}\")\n",
    "print(f\"Best Parameters: {best_trial.params}\")\n",
    "print(f\"Test Accuracy: {accuracy:.4f}\")\n",
    "print(f\"Test F1-score: {f1:.4f}\")\n"
   ]
  },
  {
   "cell_type": "code",
   "execution_count": 6,
   "metadata": {},
   "outputs": [
    {
     "name": "stderr",
     "output_type": "stream",
     "text": [
      "[I 2024-06-12 15:24:09,407] A new study created in memory with name: MLP Optimization\n",
      "[I 2024-06-12 15:24:10,569] Trial 0 finished with value: 0.9710801393728221 and parameters: {'n_layers': 3, 'hidden_layer_size1': 100, 'hidden_layer_size2': 50, 'hidden_layer_size3': 100, 'alpha': 0.00010258310438043133, 'learning_rate_init': 0.027158216646730567, 'max_iter': 931}. Best is trial 0 with value: 0.9710801393728221.\n",
      "[I 2024-06-12 15:24:16,388] Trial 1 finished with value: 0.9759581881533101 and parameters: {'n_layers': 1, 'hidden_layer_size1': 300, 'alpha': 0.0007058220168481954, 'learning_rate_init': 0.0018627250683533364, 'max_iter': 931}. Best is trial 1 with value: 0.9759581881533101.\n",
      "[I 2024-06-12 15:24:18,474] Trial 2 finished with value: 0.976074332171893 and parameters: {'n_layers': 1, 'hidden_layer_size1': 100, 'alpha': 0.00028021104966350995, 'learning_rate_init': 0.007796524504901454, 'max_iter': 239}. Best is trial 2 with value: 0.976074332171893.\n",
      "[I 2024-06-12 15:24:21,103] Trial 3 finished with value: 0.9663182346109174 and parameters: {'n_layers': 2, 'hidden_layer_size1': 50, 'hidden_layer_size2': 300, 'alpha': 8.297367762723853e-05, 'learning_rate_init': 0.002459103935557543, 'max_iter': 720}. Best is trial 2 with value: 0.976074332171893.\n",
      "[I 2024-06-12 15:24:26,460] Trial 4 finished with value: 0.9735772357723576 and parameters: {'n_layers': 2, 'hidden_layer_size1': 300, 'hidden_layer_size2': 250, 'alpha': 0.016176275036324166, 'learning_rate_init': 0.002606613871947904, 'max_iter': 867}. Best is trial 2 with value: 0.976074332171893.\n",
      "[I 2024-06-12 15:24:27,053] Trial 5 finished with value: 0.9736353077816492 and parameters: {'n_layers': 1, 'hidden_layer_size1': 200, 'alpha': 0.00030396225510197287, 'learning_rate_init': 0.04498523093089975, 'max_iter': 225}. Best is trial 2 with value: 0.976074332171893.\n",
      "[I 2024-06-12 15:24:37,079] Trial 6 finished with value: 0.96869918699187 and parameters: {'n_layers': 3, 'hidden_layer_size1': 300, 'hidden_layer_size2': 200, 'hidden_layer_size3': 100, 'alpha': 0.0014632231659912353, 'learning_rate_init': 0.0004502389548332426, 'max_iter': 667}. Best is trial 2 with value: 0.976074332171893.\n",
      "[I 2024-06-12 15:24:38,587] Trial 7 finished with value: 0.9735191637630664 and parameters: {'n_layers': 2, 'hidden_layer_size1': 200, 'hidden_layer_size2': 150, 'alpha': 9.896274371785991e-05, 'learning_rate_init': 0.01820163167280434, 'max_iter': 943}. Best is trial 2 with value: 0.976074332171893.\n",
      "[I 2024-06-12 15:24:43,766] Trial 8 finished with value: 0.9711962833914054 and parameters: {'n_layers': 1, 'hidden_layer_size1': 100, 'alpha': 0.006145703236367148, 'learning_rate_init': 0.0009797413382534508, 'max_iter': 988}. Best is trial 2 with value: 0.976074332171893.\n",
      "[I 2024-06-12 15:24:50,723] Trial 9 finished with value: 0.9735191637630664 and parameters: {'n_layers': 2, 'hidden_layer_size1': 300, 'hidden_layer_size2': 100, 'alpha': 0.006247695913483461, 'learning_rate_init': 0.04436700805718954, 'max_iter': 236}. Best is trial 2 with value: 0.976074332171893.\n",
      "[I 2024-06-12 15:24:52,023] Trial 10 finished with value: 0.9711382113821138 and parameters: {'n_layers': 1, 'hidden_layer_size1': 150, 'alpha': 1.642303535960642e-05, 'learning_rate_init': 0.009737137038117896, 'max_iter': 443}. Best is trial 2 with value: 0.976074332171893.\n",
      "/Library/Frameworks/Python.framework/Versions/3.11/lib/python3.11/site-packages/sklearn/neural_network/_multilayer_perceptron.py:691: ConvergenceWarning: Stochastic Optimizer: Maximum iterations (489) reached and the optimization hasn't converged yet.\n",
      "  warnings.warn(\n",
      "/Library/Frameworks/Python.framework/Versions/3.11/lib/python3.11/site-packages/sklearn/neural_network/_multilayer_perceptron.py:691: ConvergenceWarning: Stochastic Optimizer: Maximum iterations (489) reached and the optimization hasn't converged yet.\n",
      "  warnings.warn(\n",
      "/Library/Frameworks/Python.framework/Versions/3.11/lib/python3.11/site-packages/sklearn/neural_network/_multilayer_perceptron.py:691: ConvergenceWarning: Stochastic Optimizer: Maximum iterations (489) reached and the optimization hasn't converged yet.\n",
      "  warnings.warn(\n",
      "/Library/Frameworks/Python.framework/Versions/3.11/lib/python3.11/site-packages/sklearn/neural_network/_multilayer_perceptron.py:691: ConvergenceWarning: Stochastic Optimizer: Maximum iterations (489) reached and the optimization hasn't converged yet.\n",
      "  warnings.warn(\n",
      "/Library/Frameworks/Python.framework/Versions/3.11/lib/python3.11/site-packages/sklearn/neural_network/_multilayer_perceptron.py:691: ConvergenceWarning: Stochastic Optimizer: Maximum iterations (489) reached and the optimization hasn't converged yet.\n",
      "  warnings.warn(\n",
      "/Library/Frameworks/Python.framework/Versions/3.11/lib/python3.11/site-packages/sklearn/neural_network/_multilayer_perceptron.py:691: ConvergenceWarning: Stochastic Optimizer: Maximum iterations (489) reached and the optimization hasn't converged yet.\n",
      "  warnings.warn(\n",
      "/Library/Frameworks/Python.framework/Versions/3.11/lib/python3.11/site-packages/sklearn/neural_network/_multilayer_perceptron.py:691: ConvergenceWarning: Stochastic Optimizer: Maximum iterations (489) reached and the optimization hasn't converged yet.\n",
      "  warnings.warn(\n",
      "/Library/Frameworks/Python.framework/Versions/3.11/lib/python3.11/site-packages/sklearn/neural_network/_multilayer_perceptron.py:691: ConvergenceWarning: Stochastic Optimizer: Maximum iterations (489) reached and the optimization hasn't converged yet.\n",
      "  warnings.warn(\n",
      "/Library/Frameworks/Python.framework/Versions/3.11/lib/python3.11/site-packages/sklearn/neural_network/_multilayer_perceptron.py:691: ConvergenceWarning: Stochastic Optimizer: Maximum iterations (489) reached and the optimization hasn't converged yet.\n",
      "  warnings.warn(\n",
      "/Library/Frameworks/Python.framework/Versions/3.11/lib/python3.11/site-packages/sklearn/neural_network/_multilayer_perceptron.py:691: ConvergenceWarning: Stochastic Optimizer: Maximum iterations (489) reached and the optimization hasn't converged yet.\n",
      "  warnings.warn(\n",
      "[I 2024-06-12 15:25:08,250] Trial 11 finished with value: 0.9641695702671313 and parameters: {'n_layers': 1, 'hidden_layer_size1': 250, 'alpha': 0.0011727080056752183, 'learning_rate_init': 0.00013611923577188387, 'max_iter': 489}. Best is trial 2 with value: 0.976074332171893.\n",
      "[I 2024-06-12 15:25:09,933] Trial 12 finished with value: 0.9735772357723576 and parameters: {'n_layers': 1, 'hidden_layer_size1': 150, 'alpha': 0.0006207909841761452, 'learning_rate_init': 0.005626382260490948, 'max_iter': 399}. Best is trial 2 with value: 0.976074332171893.\n",
      "[I 2024-06-12 15:25:14,060] Trial 13 finished with value: 0.9615563298490126 and parameters: {'n_layers': 1, 'hidden_layer_size1': 50, 'alpha': 1.7819734172318717e-05, 'learning_rate_init': 0.0009863714212232928, 'max_iter': 781}. Best is trial 2 with value: 0.976074332171893.\n",
      "[I 2024-06-12 15:25:15,603] Trial 14 finished with value: 0.9711382113821138 and parameters: {'n_layers': 1, 'hidden_layer_size1': 100, 'alpha': 0.08809702311397412, 'learning_rate_init': 0.08917726043770852, 'max_iter': 543}. Best is trial 2 with value: 0.976074332171893.\n",
      "[I 2024-06-12 15:25:17,142] Trial 15 finished with value: 0.9759581881533101 and parameters: {'n_layers': 2, 'hidden_layer_size1': 250, 'hidden_layer_size2': 50, 'alpha': 0.0002904980669120474, 'learning_rate_init': 0.007319008102133769, 'max_iter': 349}. Best is trial 2 with value: 0.976074332171893.\n",
      "[I 2024-06-12 15:25:25,121] Trial 16 finished with value: 0.96869918699187 and parameters: {'n_layers': 1, 'hidden_layer_size1': 250, 'alpha': 0.0030198328416371147, 'learning_rate_init': 0.0012304253695568808, 'max_iter': 795}. Best is trial 2 with value: 0.976074332171893.\n",
      "[I 2024-06-12 15:25:48,911] Trial 17 finished with value: 0.9760162601626016 and parameters: {'n_layers': 3, 'hidden_layer_size1': 150, 'hidden_layer_size2': 300, 'hidden_layer_size3': 300, 'alpha': 0.0003566439338297762, 'learning_rate_init': 0.00028867705907840096, 'max_iter': 628}. Best is trial 2 with value: 0.976074332171893.\n",
      "[I 2024-06-12 15:26:30,491] Trial 18 finished with value: 0.9760162601626016 and parameters: {'n_layers': 3, 'hidden_layer_size1': 150, 'hidden_layer_size2': 300, 'hidden_layer_size3': 300, 'alpha': 4.865668717275036e-05, 'learning_rate_init': 0.00014008632071093205, 'max_iter': 563}. Best is trial 2 with value: 0.976074332171893.\n",
      "[I 2024-06-12 15:26:52,414] Trial 19 finished with value: 0.976074332171893 and parameters: {'n_layers': 3, 'hidden_layer_size1': 100, 'hidden_layer_size2': 200, 'hidden_layer_size3': 300, 'alpha': 0.00027273730213547793, 'learning_rate_init': 0.0003799793440420141, 'max_iter': 306}. Best is trial 2 with value: 0.976074332171893.\n"
     ]
    },
    {
     "name": "stdout",
     "output_type": "stream",
     "text": [
      "Best parameters: {'n_layers': 1, 'hidden_layer_size1': 100, 'alpha': 0.00028021104966350995, 'learning_rate_init': 0.007796524504901454, 'max_iter': 239}\n",
      "Best accuracy: 0.976074332171893\n"
     ]
    }
   ],
   "source": [
    "def objective2(trial):\n",
    "    params = {\n",
    "        'hidden_layer_sizes': tuple(trial.suggest_int(f'hidden_layer_size{i}', 50, 300, step=50) for i in range(1, trial.suggest_int('n_layers', 1, 3) + 1)),\n",
    "        'alpha': trial.suggest_float('alpha', 1e-5, 1e-1, log=True),\n",
    "        'learning_rate_init': trial.suggest_float('learning_rate_init', 1e-4, 1e-1, log=True),\n",
    "        'max_iter': trial.suggest_int('max_iter', 200, 1000)\n",
    "    }\n",
    "    model = MLPClassifier(**params, random_state=42)\n",
    "\n",
    "    score = cross_val_score(model, X_train_scaled, y_train, cv=10, scoring='accuracy').mean()\n",
    "    return score\n",
    "\n",
    "study2 = optuna.create_study(direction='maximize', study_name='MLP Optimization')\n",
    "study2.optimize(objective2, n_trials=20)\n",
    "\n",
    "# Print the best trial's details\n",
    "best_trial2 = study2.best_trial\n",
    "print(f'Best parameters: {best_trial2.params}')\n",
    "print(f'Best accuracy: {best_trial2.value}')"
   ]
  },
  {
   "cell_type": "code",
   "execution_count": 10,
   "metadata": {},
   "outputs": [
    {
     "data": {
      "application/vnd.plotly.v1+json": {
       "config": {
        "plotlyServerURL": "https://plot.ly"
       },
       "data": [
        {
         "marker": {
          "color": [
           0,
           1,
           2,
           3,
           4,
           5,
           6,
           7,
           8,
           9,
           10,
           11,
           12,
           13,
           14,
           15,
           16,
           17,
           18,
           19
          ],
          "colorbar": {
           "title": {
            "text": "Trial"
           },
           "x": 1,
           "xpad": 40
          },
          "colorscale": [
           [
            0,
            "rgb(247,251,255)"
           ],
           [
            0.125,
            "rgb(222,235,247)"
           ],
           [
            0.25,
            "rgb(198,219,239)"
           ],
           [
            0.375,
            "rgb(158,202,225)"
           ],
           [
            0.5,
            "rgb(107,174,214)"
           ],
           [
            0.625,
            "rgb(66,146,198)"
           ],
           [
            0.75,
            "rgb(33,113,181)"
           ],
           [
            0.875,
            "rgb(8,81,156)"
           ],
           [
            1,
            "rgb(8,48,107)"
           ]
          ],
          "line": {
           "color": "Grey",
           "width": 0.5
          },
          "showscale": true
         },
         "mode": "markers",
         "name": "Feasible Trial",
         "showlegend": false,
         "type": "scatter",
         "x": [
          0.00010258310438043133,
          0.0007058220168481954,
          0.00028021104966350995,
          0.00008297367762723853,
          0.016176275036324166,
          0.00030396225510197287,
          0.0014632231659912353,
          0.00009896274371785991,
          0.006145703236367148,
          0.006247695913483461,
          0.00001642303535960642,
          0.0011727080056752183,
          0.0006207909841761452,
          0.000017819734172318717,
          0.08809702311397412,
          0.0002904980669120474,
          0.0030198328416371147,
          0.0003566439338297762,
          0.00004865668717275036,
          0.00027273730213547793
         ],
         "xaxis": "x",
         "y": [
          0.9710801393728221,
          0.9759581881533101,
          0.976074332171893,
          0.9663182346109174,
          0.9735772357723576,
          0.9736353077816492,
          0.96869918699187,
          0.9735191637630664,
          0.9711962833914054,
          0.9735191637630664,
          0.9711382113821138,
          0.9641695702671313,
          0.9735772357723576,
          0.9615563298490126,
          0.9711382113821138,
          0.9759581881533101,
          0.96869918699187,
          0.9760162601626016,
          0.9760162601626016,
          0.976074332171893
         ],
         "yaxis": "y"
        },
        {
         "marker": {
          "color": [
           0,
           1,
           2,
           3,
           4,
           5,
           6,
           7,
           8,
           9,
           10,
           11,
           12,
           13,
           14,
           15,
           16,
           17,
           18,
           19
          ],
          "colorbar": {
           "title": {
            "text": "Trial"
           },
           "x": 1,
           "xpad": 40
          },
          "colorscale": [
           [
            0,
            "rgb(247,251,255)"
           ],
           [
            0.125,
            "rgb(222,235,247)"
           ],
           [
            0.25,
            "rgb(198,219,239)"
           ],
           [
            0.375,
            "rgb(158,202,225)"
           ],
           [
            0.5,
            "rgb(107,174,214)"
           ],
           [
            0.625,
            "rgb(66,146,198)"
           ],
           [
            0.75,
            "rgb(33,113,181)"
           ],
           [
            0.875,
            "rgb(8,81,156)"
           ],
           [
            1,
            "rgb(8,48,107)"
           ]
          ],
          "line": {
           "color": "Grey",
           "width": 0.5
          },
          "showscale": false
         },
         "mode": "markers",
         "name": "Feasible Trial",
         "showlegend": false,
         "type": "scatter",
         "x": [
          100,
          300,
          100,
          50,
          300,
          200,
          300,
          200,
          100,
          300,
          150,
          250,
          150,
          50,
          100,
          250,
          250,
          150,
          150,
          100
         ],
         "xaxis": "x2",
         "y": [
          0.9710801393728221,
          0.9759581881533101,
          0.976074332171893,
          0.9663182346109174,
          0.9735772357723576,
          0.9736353077816492,
          0.96869918699187,
          0.9735191637630664,
          0.9711962833914054,
          0.9735191637630664,
          0.9711382113821138,
          0.9641695702671313,
          0.9735772357723576,
          0.9615563298490126,
          0.9711382113821138,
          0.9759581881533101,
          0.96869918699187,
          0.9760162601626016,
          0.9760162601626016,
          0.976074332171893
         ],
         "yaxis": "y2"
        },
        {
         "marker": {
          "color": [
           0,
           1,
           2,
           3,
           4,
           5,
           6,
           7,
           8,
           9,
           10,
           11,
           12,
           13,
           14,
           15,
           16,
           17,
           18,
           19
          ],
          "colorbar": {
           "title": {
            "text": "Trial"
           },
           "x": 1,
           "xpad": 40
          },
          "colorscale": [
           [
            0,
            "rgb(247,251,255)"
           ],
           [
            0.125,
            "rgb(222,235,247)"
           ],
           [
            0.25,
            "rgb(198,219,239)"
           ],
           [
            0.375,
            "rgb(158,202,225)"
           ],
           [
            0.5,
            "rgb(107,174,214)"
           ],
           [
            0.625,
            "rgb(66,146,198)"
           ],
           [
            0.75,
            "rgb(33,113,181)"
           ],
           [
            0.875,
            "rgb(8,81,156)"
           ],
           [
            1,
            "rgb(8,48,107)"
           ]
          ],
          "line": {
           "color": "Grey",
           "width": 0.5
          },
          "showscale": false
         },
         "mode": "markers",
         "name": "Feasible Trial",
         "showlegend": false,
         "type": "scatter",
         "x": [
          0.027158216646730567,
          0.0018627250683533364,
          0.007796524504901454,
          0.002459103935557543,
          0.002606613871947904,
          0.04498523093089975,
          0.0004502389548332426,
          0.01820163167280434,
          0.0009797413382534508,
          0.04436700805718954,
          0.009737137038117896,
          0.00013611923577188387,
          0.005626382260490948,
          0.0009863714212232928,
          0.08917726043770852,
          0.007319008102133769,
          0.0012304253695568808,
          0.00028867705907840096,
          0.00014008632071093205,
          0.0003799793440420141
         ],
         "xaxis": "x3",
         "y": [
          0.9710801393728221,
          0.9759581881533101,
          0.976074332171893,
          0.9663182346109174,
          0.9735772357723576,
          0.9736353077816492,
          0.96869918699187,
          0.9735191637630664,
          0.9711962833914054,
          0.9735191637630664,
          0.9711382113821138,
          0.9641695702671313,
          0.9735772357723576,
          0.9615563298490126,
          0.9711382113821138,
          0.9759581881533101,
          0.96869918699187,
          0.9760162601626016,
          0.9760162601626016,
          0.976074332171893
         ],
         "yaxis": "y3"
        },
        {
         "marker": {
          "color": [
           0,
           1,
           2,
           3,
           4,
           5,
           6,
           7,
           8,
           9,
           10,
           11,
           12,
           13,
           14,
           15,
           16,
           17,
           18,
           19
          ],
          "colorbar": {
           "title": {
            "text": "Trial"
           },
           "x": 1,
           "xpad": 40
          },
          "colorscale": [
           [
            0,
            "rgb(247,251,255)"
           ],
           [
            0.125,
            "rgb(222,235,247)"
           ],
           [
            0.25,
            "rgb(198,219,239)"
           ],
           [
            0.375,
            "rgb(158,202,225)"
           ],
           [
            0.5,
            "rgb(107,174,214)"
           ],
           [
            0.625,
            "rgb(66,146,198)"
           ],
           [
            0.75,
            "rgb(33,113,181)"
           ],
           [
            0.875,
            "rgb(8,81,156)"
           ],
           [
            1,
            "rgb(8,48,107)"
           ]
          ],
          "line": {
           "color": "Grey",
           "width": 0.5
          },
          "showscale": false
         },
         "mode": "markers",
         "name": "Feasible Trial",
         "showlegend": false,
         "type": "scatter",
         "x": [
          931,
          931,
          239,
          720,
          867,
          225,
          667,
          943,
          988,
          236,
          443,
          489,
          399,
          781,
          543,
          349,
          795,
          628,
          563,
          306
         ],
         "xaxis": "x4",
         "y": [
          0.9710801393728221,
          0.9759581881533101,
          0.976074332171893,
          0.9663182346109174,
          0.9735772357723576,
          0.9736353077816492,
          0.96869918699187,
          0.9735191637630664,
          0.9711962833914054,
          0.9735191637630664,
          0.9711382113821138,
          0.9641695702671313,
          0.9735772357723576,
          0.9615563298490126,
          0.9711382113821138,
          0.9759581881533101,
          0.96869918699187,
          0.9760162601626016,
          0.9760162601626016,
          0.976074332171893
         ],
         "yaxis": "y4"
        }
       ],
       "layout": {
        "template": {
         "data": {
          "bar": [
           {
            "error_x": {
             "color": "#2a3f5f"
            },
            "error_y": {
             "color": "#2a3f5f"
            },
            "marker": {
             "line": {
              "color": "#E5ECF6",
              "width": 0.5
             },
             "pattern": {
              "fillmode": "overlay",
              "size": 10,
              "solidity": 0.2
             }
            },
            "type": "bar"
           }
          ],
          "barpolar": [
           {
            "marker": {
             "line": {
              "color": "#E5ECF6",
              "width": 0.5
             },
             "pattern": {
              "fillmode": "overlay",
              "size": 10,
              "solidity": 0.2
             }
            },
            "type": "barpolar"
           }
          ],
          "carpet": [
           {
            "aaxis": {
             "endlinecolor": "#2a3f5f",
             "gridcolor": "white",
             "linecolor": "white",
             "minorgridcolor": "white",
             "startlinecolor": "#2a3f5f"
            },
            "baxis": {
             "endlinecolor": "#2a3f5f",
             "gridcolor": "white",
             "linecolor": "white",
             "minorgridcolor": "white",
             "startlinecolor": "#2a3f5f"
            },
            "type": "carpet"
           }
          ],
          "choropleth": [
           {
            "colorbar": {
             "outlinewidth": 0,
             "ticks": ""
            },
            "type": "choropleth"
           }
          ],
          "contour": [
           {
            "colorbar": {
             "outlinewidth": 0,
             "ticks": ""
            },
            "colorscale": [
             [
              0,
              "#0d0887"
             ],
             [
              0.1111111111111111,
              "#46039f"
             ],
             [
              0.2222222222222222,
              "#7201a8"
             ],
             [
              0.3333333333333333,
              "#9c179e"
             ],
             [
              0.4444444444444444,
              "#bd3786"
             ],
             [
              0.5555555555555556,
              "#d8576b"
             ],
             [
              0.6666666666666666,
              "#ed7953"
             ],
             [
              0.7777777777777778,
              "#fb9f3a"
             ],
             [
              0.8888888888888888,
              "#fdca26"
             ],
             [
              1,
              "#f0f921"
             ]
            ],
            "type": "contour"
           }
          ],
          "contourcarpet": [
           {
            "colorbar": {
             "outlinewidth": 0,
             "ticks": ""
            },
            "type": "contourcarpet"
           }
          ],
          "heatmap": [
           {
            "colorbar": {
             "outlinewidth": 0,
             "ticks": ""
            },
            "colorscale": [
             [
              0,
              "#0d0887"
             ],
             [
              0.1111111111111111,
              "#46039f"
             ],
             [
              0.2222222222222222,
              "#7201a8"
             ],
             [
              0.3333333333333333,
              "#9c179e"
             ],
             [
              0.4444444444444444,
              "#bd3786"
             ],
             [
              0.5555555555555556,
              "#d8576b"
             ],
             [
              0.6666666666666666,
              "#ed7953"
             ],
             [
              0.7777777777777778,
              "#fb9f3a"
             ],
             [
              0.8888888888888888,
              "#fdca26"
             ],
             [
              1,
              "#f0f921"
             ]
            ],
            "type": "heatmap"
           }
          ],
          "heatmapgl": [
           {
            "colorbar": {
             "outlinewidth": 0,
             "ticks": ""
            },
            "colorscale": [
             [
              0,
              "#0d0887"
             ],
             [
              0.1111111111111111,
              "#46039f"
             ],
             [
              0.2222222222222222,
              "#7201a8"
             ],
             [
              0.3333333333333333,
              "#9c179e"
             ],
             [
              0.4444444444444444,
              "#bd3786"
             ],
             [
              0.5555555555555556,
              "#d8576b"
             ],
             [
              0.6666666666666666,
              "#ed7953"
             ],
             [
              0.7777777777777778,
              "#fb9f3a"
             ],
             [
              0.8888888888888888,
              "#fdca26"
             ],
             [
              1,
              "#f0f921"
             ]
            ],
            "type": "heatmapgl"
           }
          ],
          "histogram": [
           {
            "marker": {
             "pattern": {
              "fillmode": "overlay",
              "size": 10,
              "solidity": 0.2
             }
            },
            "type": "histogram"
           }
          ],
          "histogram2d": [
           {
            "colorbar": {
             "outlinewidth": 0,
             "ticks": ""
            },
            "colorscale": [
             [
              0,
              "#0d0887"
             ],
             [
              0.1111111111111111,
              "#46039f"
             ],
             [
              0.2222222222222222,
              "#7201a8"
             ],
             [
              0.3333333333333333,
              "#9c179e"
             ],
             [
              0.4444444444444444,
              "#bd3786"
             ],
             [
              0.5555555555555556,
              "#d8576b"
             ],
             [
              0.6666666666666666,
              "#ed7953"
             ],
             [
              0.7777777777777778,
              "#fb9f3a"
             ],
             [
              0.8888888888888888,
              "#fdca26"
             ],
             [
              1,
              "#f0f921"
             ]
            ],
            "type": "histogram2d"
           }
          ],
          "histogram2dcontour": [
           {
            "colorbar": {
             "outlinewidth": 0,
             "ticks": ""
            },
            "colorscale": [
             [
              0,
              "#0d0887"
             ],
             [
              0.1111111111111111,
              "#46039f"
             ],
             [
              0.2222222222222222,
              "#7201a8"
             ],
             [
              0.3333333333333333,
              "#9c179e"
             ],
             [
              0.4444444444444444,
              "#bd3786"
             ],
             [
              0.5555555555555556,
              "#d8576b"
             ],
             [
              0.6666666666666666,
              "#ed7953"
             ],
             [
              0.7777777777777778,
              "#fb9f3a"
             ],
             [
              0.8888888888888888,
              "#fdca26"
             ],
             [
              1,
              "#f0f921"
             ]
            ],
            "type": "histogram2dcontour"
           }
          ],
          "mesh3d": [
           {
            "colorbar": {
             "outlinewidth": 0,
             "ticks": ""
            },
            "type": "mesh3d"
           }
          ],
          "parcoords": [
           {
            "line": {
             "colorbar": {
              "outlinewidth": 0,
              "ticks": ""
             }
            },
            "type": "parcoords"
           }
          ],
          "pie": [
           {
            "automargin": true,
            "type": "pie"
           }
          ],
          "scatter": [
           {
            "fillpattern": {
             "fillmode": "overlay",
             "size": 10,
             "solidity": 0.2
            },
            "type": "scatter"
           }
          ],
          "scatter3d": [
           {
            "line": {
             "colorbar": {
              "outlinewidth": 0,
              "ticks": ""
             }
            },
            "marker": {
             "colorbar": {
              "outlinewidth": 0,
              "ticks": ""
             }
            },
            "type": "scatter3d"
           }
          ],
          "scattercarpet": [
           {
            "marker": {
             "colorbar": {
              "outlinewidth": 0,
              "ticks": ""
             }
            },
            "type": "scattercarpet"
           }
          ],
          "scattergeo": [
           {
            "marker": {
             "colorbar": {
              "outlinewidth": 0,
              "ticks": ""
             }
            },
            "type": "scattergeo"
           }
          ],
          "scattergl": [
           {
            "marker": {
             "colorbar": {
              "outlinewidth": 0,
              "ticks": ""
             }
            },
            "type": "scattergl"
           }
          ],
          "scattermapbox": [
           {
            "marker": {
             "colorbar": {
              "outlinewidth": 0,
              "ticks": ""
             }
            },
            "type": "scattermapbox"
           }
          ],
          "scatterpolar": [
           {
            "marker": {
             "colorbar": {
              "outlinewidth": 0,
              "ticks": ""
             }
            },
            "type": "scatterpolar"
           }
          ],
          "scatterpolargl": [
           {
            "marker": {
             "colorbar": {
              "outlinewidth": 0,
              "ticks": ""
             }
            },
            "type": "scatterpolargl"
           }
          ],
          "scatterternary": [
           {
            "marker": {
             "colorbar": {
              "outlinewidth": 0,
              "ticks": ""
             }
            },
            "type": "scatterternary"
           }
          ],
          "surface": [
           {
            "colorbar": {
             "outlinewidth": 0,
             "ticks": ""
            },
            "colorscale": [
             [
              0,
              "#0d0887"
             ],
             [
              0.1111111111111111,
              "#46039f"
             ],
             [
              0.2222222222222222,
              "#7201a8"
             ],
             [
              0.3333333333333333,
              "#9c179e"
             ],
             [
              0.4444444444444444,
              "#bd3786"
             ],
             [
              0.5555555555555556,
              "#d8576b"
             ],
             [
              0.6666666666666666,
              "#ed7953"
             ],
             [
              0.7777777777777778,
              "#fb9f3a"
             ],
             [
              0.8888888888888888,
              "#fdca26"
             ],
             [
              1,
              "#f0f921"
             ]
            ],
            "type": "surface"
           }
          ],
          "table": [
           {
            "cells": {
             "fill": {
              "color": "#EBF0F8"
             },
             "line": {
              "color": "white"
             }
            },
            "header": {
             "fill": {
              "color": "#C8D4E3"
             },
             "line": {
              "color": "white"
             }
            },
            "type": "table"
           }
          ]
         },
         "layout": {
          "annotationdefaults": {
           "arrowcolor": "#2a3f5f",
           "arrowhead": 0,
           "arrowwidth": 1
          },
          "autotypenumbers": "strict",
          "coloraxis": {
           "colorbar": {
            "outlinewidth": 0,
            "ticks": ""
           }
          },
          "colorscale": {
           "diverging": [
            [
             0,
             "#8e0152"
            ],
            [
             0.1,
             "#c51b7d"
            ],
            [
             0.2,
             "#de77ae"
            ],
            [
             0.3,
             "#f1b6da"
            ],
            [
             0.4,
             "#fde0ef"
            ],
            [
             0.5,
             "#f7f7f7"
            ],
            [
             0.6,
             "#e6f5d0"
            ],
            [
             0.7,
             "#b8e186"
            ],
            [
             0.8,
             "#7fbc41"
            ],
            [
             0.9,
             "#4d9221"
            ],
            [
             1,
             "#276419"
            ]
           ],
           "sequential": [
            [
             0,
             "#0d0887"
            ],
            [
             0.1111111111111111,
             "#46039f"
            ],
            [
             0.2222222222222222,
             "#7201a8"
            ],
            [
             0.3333333333333333,
             "#9c179e"
            ],
            [
             0.4444444444444444,
             "#bd3786"
            ],
            [
             0.5555555555555556,
             "#d8576b"
            ],
            [
             0.6666666666666666,
             "#ed7953"
            ],
            [
             0.7777777777777778,
             "#fb9f3a"
            ],
            [
             0.8888888888888888,
             "#fdca26"
            ],
            [
             1,
             "#f0f921"
            ]
           ],
           "sequentialminus": [
            [
             0,
             "#0d0887"
            ],
            [
             0.1111111111111111,
             "#46039f"
            ],
            [
             0.2222222222222222,
             "#7201a8"
            ],
            [
             0.3333333333333333,
             "#9c179e"
            ],
            [
             0.4444444444444444,
             "#bd3786"
            ],
            [
             0.5555555555555556,
             "#d8576b"
            ],
            [
             0.6666666666666666,
             "#ed7953"
            ],
            [
             0.7777777777777778,
             "#fb9f3a"
            ],
            [
             0.8888888888888888,
             "#fdca26"
            ],
            [
             1,
             "#f0f921"
            ]
           ]
          },
          "colorway": [
           "#636efa",
           "#EF553B",
           "#00cc96",
           "#ab63fa",
           "#FFA15A",
           "#19d3f3",
           "#FF6692",
           "#B6E880",
           "#FF97FF",
           "#FECB52"
          ],
          "font": {
           "color": "#2a3f5f"
          },
          "geo": {
           "bgcolor": "white",
           "lakecolor": "white",
           "landcolor": "#E5ECF6",
           "showlakes": true,
           "showland": true,
           "subunitcolor": "white"
          },
          "hoverlabel": {
           "align": "left"
          },
          "hovermode": "closest",
          "mapbox": {
           "style": "light"
          },
          "paper_bgcolor": "white",
          "plot_bgcolor": "#E5ECF6",
          "polar": {
           "angularaxis": {
            "gridcolor": "white",
            "linecolor": "white",
            "ticks": ""
           },
           "bgcolor": "#E5ECF6",
           "radialaxis": {
            "gridcolor": "white",
            "linecolor": "white",
            "ticks": ""
           }
          },
          "scene": {
           "xaxis": {
            "backgroundcolor": "#E5ECF6",
            "gridcolor": "white",
            "gridwidth": 2,
            "linecolor": "white",
            "showbackground": true,
            "ticks": "",
            "zerolinecolor": "white"
           },
           "yaxis": {
            "backgroundcolor": "#E5ECF6",
            "gridcolor": "white",
            "gridwidth": 2,
            "linecolor": "white",
            "showbackground": true,
            "ticks": "",
            "zerolinecolor": "white"
           },
           "zaxis": {
            "backgroundcolor": "#E5ECF6",
            "gridcolor": "white",
            "gridwidth": 2,
            "linecolor": "white",
            "showbackground": true,
            "ticks": "",
            "zerolinecolor": "white"
           }
          },
          "shapedefaults": {
           "line": {
            "color": "#2a3f5f"
           }
          },
          "ternary": {
           "aaxis": {
            "gridcolor": "white",
            "linecolor": "white",
            "ticks": ""
           },
           "baxis": {
            "gridcolor": "white",
            "linecolor": "white",
            "ticks": ""
           },
           "bgcolor": "#E5ECF6",
           "caxis": {
            "gridcolor": "white",
            "linecolor": "white",
            "ticks": ""
           }
          },
          "title": {
           "x": 0.05
          },
          "xaxis": {
           "automargin": true,
           "gridcolor": "white",
           "linecolor": "white",
           "ticks": "",
           "title": {
            "standoff": 15
           },
           "zerolinecolor": "white",
           "zerolinewidth": 2
          },
          "yaxis": {
           "automargin": true,
           "gridcolor": "white",
           "linecolor": "white",
           "ticks": "",
           "title": {
            "standoff": 15
           },
           "zerolinecolor": "white",
           "zerolinewidth": 2
          }
         }
        },
        "title": {
         "text": "Slice Plot"
        },
        "width": 1200,
        "xaxis": {
         "anchor": "y",
         "domain": [
          0,
          0.2125
         ],
         "title": {
          "text": "alpha"
         },
         "type": "log"
        },
        "xaxis2": {
         "anchor": "y2",
         "domain": [
          0.2625,
          0.475
         ],
         "title": {
          "text": "hidden_layer_size1"
         }
        },
        "xaxis3": {
         "anchor": "y3",
         "domain": [
          0.525,
          0.7375
         ],
         "title": {
          "text": "learning_rate_init"
         },
         "type": "log"
        },
        "xaxis4": {
         "anchor": "y4",
         "domain": [
          0.7875,
          1
         ],
         "title": {
          "text": "max_iter"
         }
        },
        "yaxis": {
         "anchor": "x",
         "domain": [
          0,
          1
         ],
         "title": {
          "text": "Objective Value"
         }
        },
        "yaxis2": {
         "anchor": "x2",
         "domain": [
          0,
          1
         ],
         "matches": "y",
         "showticklabels": false
        },
        "yaxis3": {
         "anchor": "x3",
         "domain": [
          0,
          1
         ],
         "matches": "y",
         "showticklabels": false
        },
        "yaxis4": {
         "anchor": "x4",
         "domain": [
          0,
          1
         ],
         "matches": "y",
         "showticklabels": false
        }
       }
      }
     },
     "metadata": {},
     "output_type": "display_data"
    }
   ],
   "source": [
    "fig = optuna.visualization.plot_slice(study2, params=['hidden_layer_size1','max_iter','alpha','learning_rate_init'])\n",
    "fig.show()"
   ]
  },
  {
   "cell_type": "code",
   "execution_count": 9,
   "metadata": {},
   "outputs": [
    {
     "name": "stdout",
     "output_type": "stream",
     "text": [
      "Test Accuracy: 0.9615384615384616\n",
      "Test F1-score: 0.9692307692307692\n"
     ]
    },
    {
     "data": {
      "application/vnd.plotly.v1+json": {
       "config": {
        "plotlyServerURL": "https://plot.ly"
       },
       "data": [
        {
         "mode": "markers",
         "name": "Objective Value",
         "type": "scatter",
         "x": [
          0,
          1,
          2,
          3,
          4,
          5,
          6,
          7,
          8,
          9,
          10,
          11,
          12,
          13,
          14,
          15,
          16,
          17,
          18,
          19
         ],
         "y": [
          0.9710801393728221,
          0.9759581881533101,
          0.976074332171893,
          0.9663182346109174,
          0.9735772357723576,
          0.9736353077816492,
          0.96869918699187,
          0.9735191637630664,
          0.9711962833914054,
          0.9735191637630664,
          0.9711382113821138,
          0.9641695702671313,
          0.9735772357723576,
          0.9615563298490126,
          0.9711382113821138,
          0.9759581881533101,
          0.96869918699187,
          0.9760162601626016,
          0.9760162601626016,
          0.976074332171893
         ]
        },
        {
         "mode": "lines",
         "name": "Best Value",
         "type": "scatter",
         "x": [
          0,
          1,
          2,
          3,
          4,
          5,
          6,
          7,
          8,
          9,
          10,
          11,
          12,
          13,
          14,
          15,
          16,
          17,
          18,
          19
         ],
         "y": [
          0.9710801393728221,
          0.9759581881533101,
          0.976074332171893,
          0.976074332171893,
          0.976074332171893,
          0.976074332171893,
          0.976074332171893,
          0.976074332171893,
          0.976074332171893,
          0.976074332171893,
          0.976074332171893,
          0.976074332171893,
          0.976074332171893,
          0.976074332171893,
          0.976074332171893,
          0.976074332171893,
          0.976074332171893,
          0.976074332171893,
          0.976074332171893,
          0.976074332171893
         ]
        },
        {
         "marker": {
          "color": "#cccccc"
         },
         "mode": "markers",
         "name": "Infeasible Trial",
         "showlegend": false,
         "type": "scatter",
         "x": [],
         "y": []
        }
       ],
       "layout": {
        "template": {
         "data": {
          "bar": [
           {
            "error_x": {
             "color": "#2a3f5f"
            },
            "error_y": {
             "color": "#2a3f5f"
            },
            "marker": {
             "line": {
              "color": "#E5ECF6",
              "width": 0.5
             },
             "pattern": {
              "fillmode": "overlay",
              "size": 10,
              "solidity": 0.2
             }
            },
            "type": "bar"
           }
          ],
          "barpolar": [
           {
            "marker": {
             "line": {
              "color": "#E5ECF6",
              "width": 0.5
             },
             "pattern": {
              "fillmode": "overlay",
              "size": 10,
              "solidity": 0.2
             }
            },
            "type": "barpolar"
           }
          ],
          "carpet": [
           {
            "aaxis": {
             "endlinecolor": "#2a3f5f",
             "gridcolor": "white",
             "linecolor": "white",
             "minorgridcolor": "white",
             "startlinecolor": "#2a3f5f"
            },
            "baxis": {
             "endlinecolor": "#2a3f5f",
             "gridcolor": "white",
             "linecolor": "white",
             "minorgridcolor": "white",
             "startlinecolor": "#2a3f5f"
            },
            "type": "carpet"
           }
          ],
          "choropleth": [
           {
            "colorbar": {
             "outlinewidth": 0,
             "ticks": ""
            },
            "type": "choropleth"
           }
          ],
          "contour": [
           {
            "colorbar": {
             "outlinewidth": 0,
             "ticks": ""
            },
            "colorscale": [
             [
              0,
              "#0d0887"
             ],
             [
              0.1111111111111111,
              "#46039f"
             ],
             [
              0.2222222222222222,
              "#7201a8"
             ],
             [
              0.3333333333333333,
              "#9c179e"
             ],
             [
              0.4444444444444444,
              "#bd3786"
             ],
             [
              0.5555555555555556,
              "#d8576b"
             ],
             [
              0.6666666666666666,
              "#ed7953"
             ],
             [
              0.7777777777777778,
              "#fb9f3a"
             ],
             [
              0.8888888888888888,
              "#fdca26"
             ],
             [
              1,
              "#f0f921"
             ]
            ],
            "type": "contour"
           }
          ],
          "contourcarpet": [
           {
            "colorbar": {
             "outlinewidth": 0,
             "ticks": ""
            },
            "type": "contourcarpet"
           }
          ],
          "heatmap": [
           {
            "colorbar": {
             "outlinewidth": 0,
             "ticks": ""
            },
            "colorscale": [
             [
              0,
              "#0d0887"
             ],
             [
              0.1111111111111111,
              "#46039f"
             ],
             [
              0.2222222222222222,
              "#7201a8"
             ],
             [
              0.3333333333333333,
              "#9c179e"
             ],
             [
              0.4444444444444444,
              "#bd3786"
             ],
             [
              0.5555555555555556,
              "#d8576b"
             ],
             [
              0.6666666666666666,
              "#ed7953"
             ],
             [
              0.7777777777777778,
              "#fb9f3a"
             ],
             [
              0.8888888888888888,
              "#fdca26"
             ],
             [
              1,
              "#f0f921"
             ]
            ],
            "type": "heatmap"
           }
          ],
          "heatmapgl": [
           {
            "colorbar": {
             "outlinewidth": 0,
             "ticks": ""
            },
            "colorscale": [
             [
              0,
              "#0d0887"
             ],
             [
              0.1111111111111111,
              "#46039f"
             ],
             [
              0.2222222222222222,
              "#7201a8"
             ],
             [
              0.3333333333333333,
              "#9c179e"
             ],
             [
              0.4444444444444444,
              "#bd3786"
             ],
             [
              0.5555555555555556,
              "#d8576b"
             ],
             [
              0.6666666666666666,
              "#ed7953"
             ],
             [
              0.7777777777777778,
              "#fb9f3a"
             ],
             [
              0.8888888888888888,
              "#fdca26"
             ],
             [
              1,
              "#f0f921"
             ]
            ],
            "type": "heatmapgl"
           }
          ],
          "histogram": [
           {
            "marker": {
             "pattern": {
              "fillmode": "overlay",
              "size": 10,
              "solidity": 0.2
             }
            },
            "type": "histogram"
           }
          ],
          "histogram2d": [
           {
            "colorbar": {
             "outlinewidth": 0,
             "ticks": ""
            },
            "colorscale": [
             [
              0,
              "#0d0887"
             ],
             [
              0.1111111111111111,
              "#46039f"
             ],
             [
              0.2222222222222222,
              "#7201a8"
             ],
             [
              0.3333333333333333,
              "#9c179e"
             ],
             [
              0.4444444444444444,
              "#bd3786"
             ],
             [
              0.5555555555555556,
              "#d8576b"
             ],
             [
              0.6666666666666666,
              "#ed7953"
             ],
             [
              0.7777777777777778,
              "#fb9f3a"
             ],
             [
              0.8888888888888888,
              "#fdca26"
             ],
             [
              1,
              "#f0f921"
             ]
            ],
            "type": "histogram2d"
           }
          ],
          "histogram2dcontour": [
           {
            "colorbar": {
             "outlinewidth": 0,
             "ticks": ""
            },
            "colorscale": [
             [
              0,
              "#0d0887"
             ],
             [
              0.1111111111111111,
              "#46039f"
             ],
             [
              0.2222222222222222,
              "#7201a8"
             ],
             [
              0.3333333333333333,
              "#9c179e"
             ],
             [
              0.4444444444444444,
              "#bd3786"
             ],
             [
              0.5555555555555556,
              "#d8576b"
             ],
             [
              0.6666666666666666,
              "#ed7953"
             ],
             [
              0.7777777777777778,
              "#fb9f3a"
             ],
             [
              0.8888888888888888,
              "#fdca26"
             ],
             [
              1,
              "#f0f921"
             ]
            ],
            "type": "histogram2dcontour"
           }
          ],
          "mesh3d": [
           {
            "colorbar": {
             "outlinewidth": 0,
             "ticks": ""
            },
            "type": "mesh3d"
           }
          ],
          "parcoords": [
           {
            "line": {
             "colorbar": {
              "outlinewidth": 0,
              "ticks": ""
             }
            },
            "type": "parcoords"
           }
          ],
          "pie": [
           {
            "automargin": true,
            "type": "pie"
           }
          ],
          "scatter": [
           {
            "fillpattern": {
             "fillmode": "overlay",
             "size": 10,
             "solidity": 0.2
            },
            "type": "scatter"
           }
          ],
          "scatter3d": [
           {
            "line": {
             "colorbar": {
              "outlinewidth": 0,
              "ticks": ""
             }
            },
            "marker": {
             "colorbar": {
              "outlinewidth": 0,
              "ticks": ""
             }
            },
            "type": "scatter3d"
           }
          ],
          "scattercarpet": [
           {
            "marker": {
             "colorbar": {
              "outlinewidth": 0,
              "ticks": ""
             }
            },
            "type": "scattercarpet"
           }
          ],
          "scattergeo": [
           {
            "marker": {
             "colorbar": {
              "outlinewidth": 0,
              "ticks": ""
             }
            },
            "type": "scattergeo"
           }
          ],
          "scattergl": [
           {
            "marker": {
             "colorbar": {
              "outlinewidth": 0,
              "ticks": ""
             }
            },
            "type": "scattergl"
           }
          ],
          "scattermapbox": [
           {
            "marker": {
             "colorbar": {
              "outlinewidth": 0,
              "ticks": ""
             }
            },
            "type": "scattermapbox"
           }
          ],
          "scatterpolar": [
           {
            "marker": {
             "colorbar": {
              "outlinewidth": 0,
              "ticks": ""
             }
            },
            "type": "scatterpolar"
           }
          ],
          "scatterpolargl": [
           {
            "marker": {
             "colorbar": {
              "outlinewidth": 0,
              "ticks": ""
             }
            },
            "type": "scatterpolargl"
           }
          ],
          "scatterternary": [
           {
            "marker": {
             "colorbar": {
              "outlinewidth": 0,
              "ticks": ""
             }
            },
            "type": "scatterternary"
           }
          ],
          "surface": [
           {
            "colorbar": {
             "outlinewidth": 0,
             "ticks": ""
            },
            "colorscale": [
             [
              0,
              "#0d0887"
             ],
             [
              0.1111111111111111,
              "#46039f"
             ],
             [
              0.2222222222222222,
              "#7201a8"
             ],
             [
              0.3333333333333333,
              "#9c179e"
             ],
             [
              0.4444444444444444,
              "#bd3786"
             ],
             [
              0.5555555555555556,
              "#d8576b"
             ],
             [
              0.6666666666666666,
              "#ed7953"
             ],
             [
              0.7777777777777778,
              "#fb9f3a"
             ],
             [
              0.8888888888888888,
              "#fdca26"
             ],
             [
              1,
              "#f0f921"
             ]
            ],
            "type": "surface"
           }
          ],
          "table": [
           {
            "cells": {
             "fill": {
              "color": "#EBF0F8"
             },
             "line": {
              "color": "white"
             }
            },
            "header": {
             "fill": {
              "color": "#C8D4E3"
             },
             "line": {
              "color": "white"
             }
            },
            "type": "table"
           }
          ]
         },
         "layout": {
          "annotationdefaults": {
           "arrowcolor": "#2a3f5f",
           "arrowhead": 0,
           "arrowwidth": 1
          },
          "autotypenumbers": "strict",
          "coloraxis": {
           "colorbar": {
            "outlinewidth": 0,
            "ticks": ""
           }
          },
          "colorscale": {
           "diverging": [
            [
             0,
             "#8e0152"
            ],
            [
             0.1,
             "#c51b7d"
            ],
            [
             0.2,
             "#de77ae"
            ],
            [
             0.3,
             "#f1b6da"
            ],
            [
             0.4,
             "#fde0ef"
            ],
            [
             0.5,
             "#f7f7f7"
            ],
            [
             0.6,
             "#e6f5d0"
            ],
            [
             0.7,
             "#b8e186"
            ],
            [
             0.8,
             "#7fbc41"
            ],
            [
             0.9,
             "#4d9221"
            ],
            [
             1,
             "#276419"
            ]
           ],
           "sequential": [
            [
             0,
             "#0d0887"
            ],
            [
             0.1111111111111111,
             "#46039f"
            ],
            [
             0.2222222222222222,
             "#7201a8"
            ],
            [
             0.3333333333333333,
             "#9c179e"
            ],
            [
             0.4444444444444444,
             "#bd3786"
            ],
            [
             0.5555555555555556,
             "#d8576b"
            ],
            [
             0.6666666666666666,
             "#ed7953"
            ],
            [
             0.7777777777777778,
             "#fb9f3a"
            ],
            [
             0.8888888888888888,
             "#fdca26"
            ],
            [
             1,
             "#f0f921"
            ]
           ],
           "sequentialminus": [
            [
             0,
             "#0d0887"
            ],
            [
             0.1111111111111111,
             "#46039f"
            ],
            [
             0.2222222222222222,
             "#7201a8"
            ],
            [
             0.3333333333333333,
             "#9c179e"
            ],
            [
             0.4444444444444444,
             "#bd3786"
            ],
            [
             0.5555555555555556,
             "#d8576b"
            ],
            [
             0.6666666666666666,
             "#ed7953"
            ],
            [
             0.7777777777777778,
             "#fb9f3a"
            ],
            [
             0.8888888888888888,
             "#fdca26"
            ],
            [
             1,
             "#f0f921"
            ]
           ]
          },
          "colorway": [
           "#636efa",
           "#EF553B",
           "#00cc96",
           "#ab63fa",
           "#FFA15A",
           "#19d3f3",
           "#FF6692",
           "#B6E880",
           "#FF97FF",
           "#FECB52"
          ],
          "font": {
           "color": "#2a3f5f"
          },
          "geo": {
           "bgcolor": "white",
           "lakecolor": "white",
           "landcolor": "#E5ECF6",
           "showlakes": true,
           "showland": true,
           "subunitcolor": "white"
          },
          "hoverlabel": {
           "align": "left"
          },
          "hovermode": "closest",
          "mapbox": {
           "style": "light"
          },
          "paper_bgcolor": "white",
          "plot_bgcolor": "#E5ECF6",
          "polar": {
           "angularaxis": {
            "gridcolor": "white",
            "linecolor": "white",
            "ticks": ""
           },
           "bgcolor": "#E5ECF6",
           "radialaxis": {
            "gridcolor": "white",
            "linecolor": "white",
            "ticks": ""
           }
          },
          "scene": {
           "xaxis": {
            "backgroundcolor": "#E5ECF6",
            "gridcolor": "white",
            "gridwidth": 2,
            "linecolor": "white",
            "showbackground": true,
            "ticks": "",
            "zerolinecolor": "white"
           },
           "yaxis": {
            "backgroundcolor": "#E5ECF6",
            "gridcolor": "white",
            "gridwidth": 2,
            "linecolor": "white",
            "showbackground": true,
            "ticks": "",
            "zerolinecolor": "white"
           },
           "zaxis": {
            "backgroundcolor": "#E5ECF6",
            "gridcolor": "white",
            "gridwidth": 2,
            "linecolor": "white",
            "showbackground": true,
            "ticks": "",
            "zerolinecolor": "white"
           }
          },
          "shapedefaults": {
           "line": {
            "color": "#2a3f5f"
           }
          },
          "ternary": {
           "aaxis": {
            "gridcolor": "white",
            "linecolor": "white",
            "ticks": ""
           },
           "baxis": {
            "gridcolor": "white",
            "linecolor": "white",
            "ticks": ""
           },
           "bgcolor": "#E5ECF6",
           "caxis": {
            "gridcolor": "white",
            "linecolor": "white",
            "ticks": ""
           }
          },
          "title": {
           "x": 0.05
          },
          "xaxis": {
           "automargin": true,
           "gridcolor": "white",
           "linecolor": "white",
           "ticks": "",
           "title": {
            "standoff": 15
           },
           "zerolinecolor": "white",
           "zerolinewidth": 2
          },
          "yaxis": {
           "automargin": true,
           "gridcolor": "white",
           "linecolor": "white",
           "ticks": "",
           "title": {
            "standoff": 15
           },
           "zerolinecolor": "white",
           "zerolinewidth": 2
          }
         }
        },
        "title": {
         "text": "Optimization History Plot"
        },
        "xaxis": {
         "title": {
          "text": "Trial"
         }
        },
        "yaxis": {
         "title": {
          "text": "Objective Value"
         }
        }
       }
      }
     },
     "metadata": {},
     "output_type": "display_data"
    },
    {
     "data": {
      "application/vnd.plotly.v1+json": {
       "config": {
        "plotlyServerURL": "https://plot.ly"
       },
       "data": [
        {
         "cliponaxis": false,
         "hovertemplate": [
          "n_layers (IntDistribution): 0.0630681072812984<extra></extra>",
          "learning_rate_init (FloatDistribution): 0.07562796734917283<extra></extra>",
          "alpha (FloatDistribution): 0.11886568317576258<extra></extra>",
          "max_iter (IntDistribution): 0.25507216700473084<extra></extra>",
          "hidden_layer_size1 (IntDistribution): 0.4873660751890354<extra></extra>"
         ],
         "name": "Objective Value",
         "orientation": "h",
         "text": [
          "0.06",
          "0.08",
          "0.12",
          "0.26",
          "0.49"
         ],
         "textposition": "outside",
         "type": "bar",
         "x": [
          0.0630681072812984,
          0.07562796734917283,
          0.11886568317576258,
          0.25507216700473084,
          0.4873660751890354
         ],
         "y": [
          "n_layers",
          "learning_rate_init",
          "alpha",
          "max_iter",
          "hidden_layer_size1"
         ]
        }
       ],
       "layout": {
        "template": {
         "data": {
          "bar": [
           {
            "error_x": {
             "color": "#2a3f5f"
            },
            "error_y": {
             "color": "#2a3f5f"
            },
            "marker": {
             "line": {
              "color": "#E5ECF6",
              "width": 0.5
             },
             "pattern": {
              "fillmode": "overlay",
              "size": 10,
              "solidity": 0.2
             }
            },
            "type": "bar"
           }
          ],
          "barpolar": [
           {
            "marker": {
             "line": {
              "color": "#E5ECF6",
              "width": 0.5
             },
             "pattern": {
              "fillmode": "overlay",
              "size": 10,
              "solidity": 0.2
             }
            },
            "type": "barpolar"
           }
          ],
          "carpet": [
           {
            "aaxis": {
             "endlinecolor": "#2a3f5f",
             "gridcolor": "white",
             "linecolor": "white",
             "minorgridcolor": "white",
             "startlinecolor": "#2a3f5f"
            },
            "baxis": {
             "endlinecolor": "#2a3f5f",
             "gridcolor": "white",
             "linecolor": "white",
             "minorgridcolor": "white",
             "startlinecolor": "#2a3f5f"
            },
            "type": "carpet"
           }
          ],
          "choropleth": [
           {
            "colorbar": {
             "outlinewidth": 0,
             "ticks": ""
            },
            "type": "choropleth"
           }
          ],
          "contour": [
           {
            "colorbar": {
             "outlinewidth": 0,
             "ticks": ""
            },
            "colorscale": [
             [
              0,
              "#0d0887"
             ],
             [
              0.1111111111111111,
              "#46039f"
             ],
             [
              0.2222222222222222,
              "#7201a8"
             ],
             [
              0.3333333333333333,
              "#9c179e"
             ],
             [
              0.4444444444444444,
              "#bd3786"
             ],
             [
              0.5555555555555556,
              "#d8576b"
             ],
             [
              0.6666666666666666,
              "#ed7953"
             ],
             [
              0.7777777777777778,
              "#fb9f3a"
             ],
             [
              0.8888888888888888,
              "#fdca26"
             ],
             [
              1,
              "#f0f921"
             ]
            ],
            "type": "contour"
           }
          ],
          "contourcarpet": [
           {
            "colorbar": {
             "outlinewidth": 0,
             "ticks": ""
            },
            "type": "contourcarpet"
           }
          ],
          "heatmap": [
           {
            "colorbar": {
             "outlinewidth": 0,
             "ticks": ""
            },
            "colorscale": [
             [
              0,
              "#0d0887"
             ],
             [
              0.1111111111111111,
              "#46039f"
             ],
             [
              0.2222222222222222,
              "#7201a8"
             ],
             [
              0.3333333333333333,
              "#9c179e"
             ],
             [
              0.4444444444444444,
              "#bd3786"
             ],
             [
              0.5555555555555556,
              "#d8576b"
             ],
             [
              0.6666666666666666,
              "#ed7953"
             ],
             [
              0.7777777777777778,
              "#fb9f3a"
             ],
             [
              0.8888888888888888,
              "#fdca26"
             ],
             [
              1,
              "#f0f921"
             ]
            ],
            "type": "heatmap"
           }
          ],
          "heatmapgl": [
           {
            "colorbar": {
             "outlinewidth": 0,
             "ticks": ""
            },
            "colorscale": [
             [
              0,
              "#0d0887"
             ],
             [
              0.1111111111111111,
              "#46039f"
             ],
             [
              0.2222222222222222,
              "#7201a8"
             ],
             [
              0.3333333333333333,
              "#9c179e"
             ],
             [
              0.4444444444444444,
              "#bd3786"
             ],
             [
              0.5555555555555556,
              "#d8576b"
             ],
             [
              0.6666666666666666,
              "#ed7953"
             ],
             [
              0.7777777777777778,
              "#fb9f3a"
             ],
             [
              0.8888888888888888,
              "#fdca26"
             ],
             [
              1,
              "#f0f921"
             ]
            ],
            "type": "heatmapgl"
           }
          ],
          "histogram": [
           {
            "marker": {
             "pattern": {
              "fillmode": "overlay",
              "size": 10,
              "solidity": 0.2
             }
            },
            "type": "histogram"
           }
          ],
          "histogram2d": [
           {
            "colorbar": {
             "outlinewidth": 0,
             "ticks": ""
            },
            "colorscale": [
             [
              0,
              "#0d0887"
             ],
             [
              0.1111111111111111,
              "#46039f"
             ],
             [
              0.2222222222222222,
              "#7201a8"
             ],
             [
              0.3333333333333333,
              "#9c179e"
             ],
             [
              0.4444444444444444,
              "#bd3786"
             ],
             [
              0.5555555555555556,
              "#d8576b"
             ],
             [
              0.6666666666666666,
              "#ed7953"
             ],
             [
              0.7777777777777778,
              "#fb9f3a"
             ],
             [
              0.8888888888888888,
              "#fdca26"
             ],
             [
              1,
              "#f0f921"
             ]
            ],
            "type": "histogram2d"
           }
          ],
          "histogram2dcontour": [
           {
            "colorbar": {
             "outlinewidth": 0,
             "ticks": ""
            },
            "colorscale": [
             [
              0,
              "#0d0887"
             ],
             [
              0.1111111111111111,
              "#46039f"
             ],
             [
              0.2222222222222222,
              "#7201a8"
             ],
             [
              0.3333333333333333,
              "#9c179e"
             ],
             [
              0.4444444444444444,
              "#bd3786"
             ],
             [
              0.5555555555555556,
              "#d8576b"
             ],
             [
              0.6666666666666666,
              "#ed7953"
             ],
             [
              0.7777777777777778,
              "#fb9f3a"
             ],
             [
              0.8888888888888888,
              "#fdca26"
             ],
             [
              1,
              "#f0f921"
             ]
            ],
            "type": "histogram2dcontour"
           }
          ],
          "mesh3d": [
           {
            "colorbar": {
             "outlinewidth": 0,
             "ticks": ""
            },
            "type": "mesh3d"
           }
          ],
          "parcoords": [
           {
            "line": {
             "colorbar": {
              "outlinewidth": 0,
              "ticks": ""
             }
            },
            "type": "parcoords"
           }
          ],
          "pie": [
           {
            "automargin": true,
            "type": "pie"
           }
          ],
          "scatter": [
           {
            "fillpattern": {
             "fillmode": "overlay",
             "size": 10,
             "solidity": 0.2
            },
            "type": "scatter"
           }
          ],
          "scatter3d": [
           {
            "line": {
             "colorbar": {
              "outlinewidth": 0,
              "ticks": ""
             }
            },
            "marker": {
             "colorbar": {
              "outlinewidth": 0,
              "ticks": ""
             }
            },
            "type": "scatter3d"
           }
          ],
          "scattercarpet": [
           {
            "marker": {
             "colorbar": {
              "outlinewidth": 0,
              "ticks": ""
             }
            },
            "type": "scattercarpet"
           }
          ],
          "scattergeo": [
           {
            "marker": {
             "colorbar": {
              "outlinewidth": 0,
              "ticks": ""
             }
            },
            "type": "scattergeo"
           }
          ],
          "scattergl": [
           {
            "marker": {
             "colorbar": {
              "outlinewidth": 0,
              "ticks": ""
             }
            },
            "type": "scattergl"
           }
          ],
          "scattermapbox": [
           {
            "marker": {
             "colorbar": {
              "outlinewidth": 0,
              "ticks": ""
             }
            },
            "type": "scattermapbox"
           }
          ],
          "scatterpolar": [
           {
            "marker": {
             "colorbar": {
              "outlinewidth": 0,
              "ticks": ""
             }
            },
            "type": "scatterpolar"
           }
          ],
          "scatterpolargl": [
           {
            "marker": {
             "colorbar": {
              "outlinewidth": 0,
              "ticks": ""
             }
            },
            "type": "scatterpolargl"
           }
          ],
          "scatterternary": [
           {
            "marker": {
             "colorbar": {
              "outlinewidth": 0,
              "ticks": ""
             }
            },
            "type": "scatterternary"
           }
          ],
          "surface": [
           {
            "colorbar": {
             "outlinewidth": 0,
             "ticks": ""
            },
            "colorscale": [
             [
              0,
              "#0d0887"
             ],
             [
              0.1111111111111111,
              "#46039f"
             ],
             [
              0.2222222222222222,
              "#7201a8"
             ],
             [
              0.3333333333333333,
              "#9c179e"
             ],
             [
              0.4444444444444444,
              "#bd3786"
             ],
             [
              0.5555555555555556,
              "#d8576b"
             ],
             [
              0.6666666666666666,
              "#ed7953"
             ],
             [
              0.7777777777777778,
              "#fb9f3a"
             ],
             [
              0.8888888888888888,
              "#fdca26"
             ],
             [
              1,
              "#f0f921"
             ]
            ],
            "type": "surface"
           }
          ],
          "table": [
           {
            "cells": {
             "fill": {
              "color": "#EBF0F8"
             },
             "line": {
              "color": "white"
             }
            },
            "header": {
             "fill": {
              "color": "#C8D4E3"
             },
             "line": {
              "color": "white"
             }
            },
            "type": "table"
           }
          ]
         },
         "layout": {
          "annotationdefaults": {
           "arrowcolor": "#2a3f5f",
           "arrowhead": 0,
           "arrowwidth": 1
          },
          "autotypenumbers": "strict",
          "coloraxis": {
           "colorbar": {
            "outlinewidth": 0,
            "ticks": ""
           }
          },
          "colorscale": {
           "diverging": [
            [
             0,
             "#8e0152"
            ],
            [
             0.1,
             "#c51b7d"
            ],
            [
             0.2,
             "#de77ae"
            ],
            [
             0.3,
             "#f1b6da"
            ],
            [
             0.4,
             "#fde0ef"
            ],
            [
             0.5,
             "#f7f7f7"
            ],
            [
             0.6,
             "#e6f5d0"
            ],
            [
             0.7,
             "#b8e186"
            ],
            [
             0.8,
             "#7fbc41"
            ],
            [
             0.9,
             "#4d9221"
            ],
            [
             1,
             "#276419"
            ]
           ],
           "sequential": [
            [
             0,
             "#0d0887"
            ],
            [
             0.1111111111111111,
             "#46039f"
            ],
            [
             0.2222222222222222,
             "#7201a8"
            ],
            [
             0.3333333333333333,
             "#9c179e"
            ],
            [
             0.4444444444444444,
             "#bd3786"
            ],
            [
             0.5555555555555556,
             "#d8576b"
            ],
            [
             0.6666666666666666,
             "#ed7953"
            ],
            [
             0.7777777777777778,
             "#fb9f3a"
            ],
            [
             0.8888888888888888,
             "#fdca26"
            ],
            [
             1,
             "#f0f921"
            ]
           ],
           "sequentialminus": [
            [
             0,
             "#0d0887"
            ],
            [
             0.1111111111111111,
             "#46039f"
            ],
            [
             0.2222222222222222,
             "#7201a8"
            ],
            [
             0.3333333333333333,
             "#9c179e"
            ],
            [
             0.4444444444444444,
             "#bd3786"
            ],
            [
             0.5555555555555556,
             "#d8576b"
            ],
            [
             0.6666666666666666,
             "#ed7953"
            ],
            [
             0.7777777777777778,
             "#fb9f3a"
            ],
            [
             0.8888888888888888,
             "#fdca26"
            ],
            [
             1,
             "#f0f921"
            ]
           ]
          },
          "colorway": [
           "#636efa",
           "#EF553B",
           "#00cc96",
           "#ab63fa",
           "#FFA15A",
           "#19d3f3",
           "#FF6692",
           "#B6E880",
           "#FF97FF",
           "#FECB52"
          ],
          "font": {
           "color": "#2a3f5f"
          },
          "geo": {
           "bgcolor": "white",
           "lakecolor": "white",
           "landcolor": "#E5ECF6",
           "showlakes": true,
           "showland": true,
           "subunitcolor": "white"
          },
          "hoverlabel": {
           "align": "left"
          },
          "hovermode": "closest",
          "mapbox": {
           "style": "light"
          },
          "paper_bgcolor": "white",
          "plot_bgcolor": "#E5ECF6",
          "polar": {
           "angularaxis": {
            "gridcolor": "white",
            "linecolor": "white",
            "ticks": ""
           },
           "bgcolor": "#E5ECF6",
           "radialaxis": {
            "gridcolor": "white",
            "linecolor": "white",
            "ticks": ""
           }
          },
          "scene": {
           "xaxis": {
            "backgroundcolor": "#E5ECF6",
            "gridcolor": "white",
            "gridwidth": 2,
            "linecolor": "white",
            "showbackground": true,
            "ticks": "",
            "zerolinecolor": "white"
           },
           "yaxis": {
            "backgroundcolor": "#E5ECF6",
            "gridcolor": "white",
            "gridwidth": 2,
            "linecolor": "white",
            "showbackground": true,
            "ticks": "",
            "zerolinecolor": "white"
           },
           "zaxis": {
            "backgroundcolor": "#E5ECF6",
            "gridcolor": "white",
            "gridwidth": 2,
            "linecolor": "white",
            "showbackground": true,
            "ticks": "",
            "zerolinecolor": "white"
           }
          },
          "shapedefaults": {
           "line": {
            "color": "#2a3f5f"
           }
          },
          "ternary": {
           "aaxis": {
            "gridcolor": "white",
            "linecolor": "white",
            "ticks": ""
           },
           "baxis": {
            "gridcolor": "white",
            "linecolor": "white",
            "ticks": ""
           },
           "bgcolor": "#E5ECF6",
           "caxis": {
            "gridcolor": "white",
            "linecolor": "white",
            "ticks": ""
           }
          },
          "title": {
           "x": 0.05
          },
          "xaxis": {
           "automargin": true,
           "gridcolor": "white",
           "linecolor": "white",
           "ticks": "",
           "title": {
            "standoff": 15
           },
           "zerolinecolor": "white",
           "zerolinewidth": 2
          },
          "yaxis": {
           "automargin": true,
           "gridcolor": "white",
           "linecolor": "white",
           "ticks": "",
           "title": {
            "standoff": 15
           },
           "zerolinecolor": "white",
           "zerolinewidth": 2
          }
         }
        },
        "title": {
         "text": "Hyperparameter Importances"
        },
        "xaxis": {
         "title": {
          "text": "Hyperparameter Importance"
         }
        },
        "yaxis": {
         "title": {
          "text": "Hyperparameter"
         }
        }
       }
      }
     },
     "metadata": {},
     "output_type": "display_data"
    }
   ],
   "source": [
    "# Train the best model on the entire training set\n",
    "best_params2 = best_trial2.params\n",
    "\n",
    "# Adjust hidden_layer_sizes parameter\n",
    "hidden_layer_sizes = tuple(best_params2[f'hidden_layer_size{i}'] for i in range(1, best_params2['n_layers'] + 1))\n",
    "\n",
    "best_model2 = MLPClassifier(\n",
    "    hidden_layer_sizes=hidden_layer_sizes,\n",
    "    alpha=best_params2['alpha'],\n",
    "    learning_rate_init=best_params2['learning_rate_init'],\n",
    "    max_iter=best_params2['max_iter'],\n",
    "    random_state=42\n",
    ")\n",
    "\n",
    "# Fit the best model on the training set\n",
    "best_model2.fit(X_train_scaled, y_train)\n",
    "\n",
    "# Predict and evaluate on the test set\n",
    "y_pred = best_model2.predict(X_test_scaled)\n",
    "accuracy = accuracy_score(y_test, y_pred)\n",
    "f1 = f1_score(y_test, y_pred, pos_label=1)\n",
    "\n",
    "print(f'Test Accuracy: {accuracy}')\n",
    "print(f'Test F1-score: {f1}')\n",
    "\n",
    "# Plot the optimization history\n",
    "fig = optuna.visualization.plot_optimization_history(study2)\n",
    "fig.show()\n",
    "\n",
    "# Plot parameter importance\n",
    "fig = optuna.visualization.plot_param_importances(study2)\n",
    "fig.show()\n"
   ]
  },
  {
   "cell_type": "markdown",
   "metadata": {},
   "source": [
    "## Part 2: Predicting High School Student Performance"
   ]
  },
  {
   "cell_type": "code",
   "execution_count": 32,
   "metadata": {},
   "outputs": [
    {
     "data": {
      "text/html": [
       "<div>\n",
       "<style scoped>\n",
       "    .dataframe tbody tr th:only-of-type {\n",
       "        vertical-align: middle;\n",
       "    }\n",
       "\n",
       "    .dataframe tbody tr th {\n",
       "        vertical-align: top;\n",
       "    }\n",
       "\n",
       "    .dataframe thead th {\n",
       "        text-align: right;\n",
       "    }\n",
       "</style>\n",
       "<table border=\"1\" class=\"dataframe\">\n",
       "  <thead>\n",
       "    <tr style=\"text-align: right;\">\n",
       "      <th></th>\n",
       "      <th>school</th>\n",
       "      <th>sex</th>\n",
       "      <th>age</th>\n",
       "      <th>address</th>\n",
       "      <th>famsize</th>\n",
       "      <th>Pstatus</th>\n",
       "      <th>Medu</th>\n",
       "      <th>Fedu</th>\n",
       "      <th>Mjob</th>\n",
       "      <th>Fjob</th>\n",
       "      <th>...</th>\n",
       "      <th>famrel</th>\n",
       "      <th>freetime</th>\n",
       "      <th>goout</th>\n",
       "      <th>Dalc</th>\n",
       "      <th>Walc</th>\n",
       "      <th>health</th>\n",
       "      <th>absences</th>\n",
       "      <th>G1</th>\n",
       "      <th>G2</th>\n",
       "      <th>G3</th>\n",
       "    </tr>\n",
       "  </thead>\n",
       "  <tbody>\n",
       "    <tr>\n",
       "      <th>0</th>\n",
       "      <td>GP</td>\n",
       "      <td>F</td>\n",
       "      <td>18</td>\n",
       "      <td>U</td>\n",
       "      <td>GT3</td>\n",
       "      <td>A</td>\n",
       "      <td>4</td>\n",
       "      <td>4</td>\n",
       "      <td>at_home</td>\n",
       "      <td>teacher</td>\n",
       "      <td>...</td>\n",
       "      <td>4</td>\n",
       "      <td>3</td>\n",
       "      <td>4</td>\n",
       "      <td>1</td>\n",
       "      <td>1</td>\n",
       "      <td>3</td>\n",
       "      <td>6</td>\n",
       "      <td>5</td>\n",
       "      <td>6</td>\n",
       "      <td>6</td>\n",
       "    </tr>\n",
       "    <tr>\n",
       "      <th>1</th>\n",
       "      <td>GP</td>\n",
       "      <td>F</td>\n",
       "      <td>17</td>\n",
       "      <td>U</td>\n",
       "      <td>GT3</td>\n",
       "      <td>T</td>\n",
       "      <td>1</td>\n",
       "      <td>1</td>\n",
       "      <td>at_home</td>\n",
       "      <td>other</td>\n",
       "      <td>...</td>\n",
       "      <td>5</td>\n",
       "      <td>3</td>\n",
       "      <td>3</td>\n",
       "      <td>1</td>\n",
       "      <td>1</td>\n",
       "      <td>3</td>\n",
       "      <td>4</td>\n",
       "      <td>5</td>\n",
       "      <td>5</td>\n",
       "      <td>6</td>\n",
       "    </tr>\n",
       "    <tr>\n",
       "      <th>2</th>\n",
       "      <td>GP</td>\n",
       "      <td>F</td>\n",
       "      <td>15</td>\n",
       "      <td>U</td>\n",
       "      <td>LE3</td>\n",
       "      <td>T</td>\n",
       "      <td>1</td>\n",
       "      <td>1</td>\n",
       "      <td>at_home</td>\n",
       "      <td>other</td>\n",
       "      <td>...</td>\n",
       "      <td>4</td>\n",
       "      <td>3</td>\n",
       "      <td>2</td>\n",
       "      <td>2</td>\n",
       "      <td>3</td>\n",
       "      <td>3</td>\n",
       "      <td>10</td>\n",
       "      <td>7</td>\n",
       "      <td>8</td>\n",
       "      <td>10</td>\n",
       "    </tr>\n",
       "    <tr>\n",
       "      <th>3</th>\n",
       "      <td>GP</td>\n",
       "      <td>F</td>\n",
       "      <td>15</td>\n",
       "      <td>U</td>\n",
       "      <td>GT3</td>\n",
       "      <td>T</td>\n",
       "      <td>4</td>\n",
       "      <td>2</td>\n",
       "      <td>health</td>\n",
       "      <td>services</td>\n",
       "      <td>...</td>\n",
       "      <td>3</td>\n",
       "      <td>2</td>\n",
       "      <td>2</td>\n",
       "      <td>1</td>\n",
       "      <td>1</td>\n",
       "      <td>5</td>\n",
       "      <td>2</td>\n",
       "      <td>15</td>\n",
       "      <td>14</td>\n",
       "      <td>15</td>\n",
       "    </tr>\n",
       "    <tr>\n",
       "      <th>4</th>\n",
       "      <td>GP</td>\n",
       "      <td>F</td>\n",
       "      <td>16</td>\n",
       "      <td>U</td>\n",
       "      <td>GT3</td>\n",
       "      <td>T</td>\n",
       "      <td>3</td>\n",
       "      <td>3</td>\n",
       "      <td>other</td>\n",
       "      <td>other</td>\n",
       "      <td>...</td>\n",
       "      <td>4</td>\n",
       "      <td>3</td>\n",
       "      <td>2</td>\n",
       "      <td>1</td>\n",
       "      <td>2</td>\n",
       "      <td>5</td>\n",
       "      <td>4</td>\n",
       "      <td>6</td>\n",
       "      <td>10</td>\n",
       "      <td>10</td>\n",
       "    </tr>\n",
       "    <tr>\n",
       "      <th>...</th>\n",
       "      <td>...</td>\n",
       "      <td>...</td>\n",
       "      <td>...</td>\n",
       "      <td>...</td>\n",
       "      <td>...</td>\n",
       "      <td>...</td>\n",
       "      <td>...</td>\n",
       "      <td>...</td>\n",
       "      <td>...</td>\n",
       "      <td>...</td>\n",
       "      <td>...</td>\n",
       "      <td>...</td>\n",
       "      <td>...</td>\n",
       "      <td>...</td>\n",
       "      <td>...</td>\n",
       "      <td>...</td>\n",
       "      <td>...</td>\n",
       "      <td>...</td>\n",
       "      <td>...</td>\n",
       "      <td>...</td>\n",
       "      <td>...</td>\n",
       "    </tr>\n",
       "    <tr>\n",
       "      <th>390</th>\n",
       "      <td>MS</td>\n",
       "      <td>M</td>\n",
       "      <td>20</td>\n",
       "      <td>U</td>\n",
       "      <td>LE3</td>\n",
       "      <td>A</td>\n",
       "      <td>2</td>\n",
       "      <td>2</td>\n",
       "      <td>services</td>\n",
       "      <td>services</td>\n",
       "      <td>...</td>\n",
       "      <td>5</td>\n",
       "      <td>5</td>\n",
       "      <td>4</td>\n",
       "      <td>4</td>\n",
       "      <td>5</td>\n",
       "      <td>4</td>\n",
       "      <td>11</td>\n",
       "      <td>9</td>\n",
       "      <td>9</td>\n",
       "      <td>9</td>\n",
       "    </tr>\n",
       "    <tr>\n",
       "      <th>391</th>\n",
       "      <td>MS</td>\n",
       "      <td>M</td>\n",
       "      <td>17</td>\n",
       "      <td>U</td>\n",
       "      <td>LE3</td>\n",
       "      <td>T</td>\n",
       "      <td>3</td>\n",
       "      <td>1</td>\n",
       "      <td>services</td>\n",
       "      <td>services</td>\n",
       "      <td>...</td>\n",
       "      <td>2</td>\n",
       "      <td>4</td>\n",
       "      <td>5</td>\n",
       "      <td>3</td>\n",
       "      <td>4</td>\n",
       "      <td>2</td>\n",
       "      <td>3</td>\n",
       "      <td>14</td>\n",
       "      <td>16</td>\n",
       "      <td>16</td>\n",
       "    </tr>\n",
       "    <tr>\n",
       "      <th>392</th>\n",
       "      <td>MS</td>\n",
       "      <td>M</td>\n",
       "      <td>21</td>\n",
       "      <td>R</td>\n",
       "      <td>GT3</td>\n",
       "      <td>T</td>\n",
       "      <td>1</td>\n",
       "      <td>1</td>\n",
       "      <td>other</td>\n",
       "      <td>other</td>\n",
       "      <td>...</td>\n",
       "      <td>5</td>\n",
       "      <td>5</td>\n",
       "      <td>3</td>\n",
       "      <td>3</td>\n",
       "      <td>3</td>\n",
       "      <td>3</td>\n",
       "      <td>3</td>\n",
       "      <td>10</td>\n",
       "      <td>8</td>\n",
       "      <td>7</td>\n",
       "    </tr>\n",
       "    <tr>\n",
       "      <th>393</th>\n",
       "      <td>MS</td>\n",
       "      <td>M</td>\n",
       "      <td>18</td>\n",
       "      <td>R</td>\n",
       "      <td>LE3</td>\n",
       "      <td>T</td>\n",
       "      <td>3</td>\n",
       "      <td>2</td>\n",
       "      <td>services</td>\n",
       "      <td>other</td>\n",
       "      <td>...</td>\n",
       "      <td>4</td>\n",
       "      <td>4</td>\n",
       "      <td>1</td>\n",
       "      <td>3</td>\n",
       "      <td>4</td>\n",
       "      <td>5</td>\n",
       "      <td>0</td>\n",
       "      <td>11</td>\n",
       "      <td>12</td>\n",
       "      <td>10</td>\n",
       "    </tr>\n",
       "    <tr>\n",
       "      <th>394</th>\n",
       "      <td>MS</td>\n",
       "      <td>M</td>\n",
       "      <td>19</td>\n",
       "      <td>U</td>\n",
       "      <td>LE3</td>\n",
       "      <td>T</td>\n",
       "      <td>1</td>\n",
       "      <td>1</td>\n",
       "      <td>other</td>\n",
       "      <td>at_home</td>\n",
       "      <td>...</td>\n",
       "      <td>3</td>\n",
       "      <td>2</td>\n",
       "      <td>3</td>\n",
       "      <td>3</td>\n",
       "      <td>3</td>\n",
       "      <td>5</td>\n",
       "      <td>5</td>\n",
       "      <td>8</td>\n",
       "      <td>9</td>\n",
       "      <td>9</td>\n",
       "    </tr>\n",
       "  </tbody>\n",
       "</table>\n",
       "<p>395 rows × 33 columns</p>\n",
       "</div>"
      ],
      "text/plain": [
       "    school sex  age address famsize Pstatus  Medu  Fedu      Mjob      Fjob   \n",
       "0       GP   F   18       U     GT3       A     4     4   at_home   teacher  \\\n",
       "1       GP   F   17       U     GT3       T     1     1   at_home     other   \n",
       "2       GP   F   15       U     LE3       T     1     1   at_home     other   \n",
       "3       GP   F   15       U     GT3       T     4     2    health  services   \n",
       "4       GP   F   16       U     GT3       T     3     3     other     other   \n",
       "..     ...  ..  ...     ...     ...     ...   ...   ...       ...       ...   \n",
       "390     MS   M   20       U     LE3       A     2     2  services  services   \n",
       "391     MS   M   17       U     LE3       T     3     1  services  services   \n",
       "392     MS   M   21       R     GT3       T     1     1     other     other   \n",
       "393     MS   M   18       R     LE3       T     3     2  services     other   \n",
       "394     MS   M   19       U     LE3       T     1     1     other   at_home   \n",
       "\n",
       "     ... famrel freetime  goout  Dalc  Walc health absences  G1  G2  G3  \n",
       "0    ...      4        3      4     1     1      3        6   5   6   6  \n",
       "1    ...      5        3      3     1     1      3        4   5   5   6  \n",
       "2    ...      4        3      2     2     3      3       10   7   8  10  \n",
       "3    ...      3        2      2     1     1      5        2  15  14  15  \n",
       "4    ...      4        3      2     1     2      5        4   6  10  10  \n",
       "..   ...    ...      ...    ...   ...   ...    ...      ...  ..  ..  ..  \n",
       "390  ...      5        5      4     4     5      4       11   9   9   9  \n",
       "391  ...      2        4      5     3     4      2        3  14  16  16  \n",
       "392  ...      5        5      3     3     3      3        3  10   8   7  \n",
       "393  ...      4        4      1     3     4      5        0  11  12  10  \n",
       "394  ...      3        2      3     3     3      5        5   8   9   9  \n",
       "\n",
       "[395 rows x 33 columns]"
      ]
     },
     "execution_count": 32,
     "metadata": {},
     "output_type": "execute_result"
    }
   ],
   "source": [
    "student_df = pd.read_csv('student-mat.csv', sep=';')\n",
    "student_df"
   ]
  },
  {
   "cell_type": "code",
   "execution_count": 12,
   "metadata": {},
   "outputs": [
    {
     "data": {
      "text/plain": [
       "Index(['school', 'sex', 'age', 'address', 'famsize', 'Pstatus', 'Medu', 'Fedu',\n",
       "       'Mjob', 'Fjob', 'reason', 'guardian', 'traveltime', 'studytime',\n",
       "       'failures', 'schoolsup', 'famsup', 'paid', 'activities', 'nursery',\n",
       "       'higher', 'internet', 'romantic', 'famrel', 'freetime', 'goout', 'Dalc',\n",
       "       'Walc', 'health', 'absences', 'G1', 'G2', 'G3'],\n",
       "      dtype='object')"
      ]
     },
     "execution_count": 12,
     "metadata": {},
     "output_type": "execute_result"
    }
   ],
   "source": [
    "student_df.columns"
   ]
  },
  {
   "cell_type": "code",
   "execution_count": 13,
   "metadata": {},
   "outputs": [
    {
     "name": "stdout",
     "output_type": "stream",
     "text": [
      "['GP' 'MS']\n",
      "['F' 'M']\n",
      "[18 17 15 16 19 22 20 21]\n",
      "['U' 'R']\n",
      "['GT3' 'LE3']\n",
      "['A' 'T']\n",
      "[4 1 3 2 0]\n",
      "[4 1 2 3 0]\n",
      "['at_home' 'health' 'other' 'services' 'teacher']\n",
      "['teacher' 'other' 'services' 'health' 'at_home']\n",
      "['course' 'other' 'home' 'reputation']\n",
      "['mother' 'father' 'other']\n",
      "[2 1 3 4]\n",
      "[2 3 1 4]\n",
      "[0 3 2 1]\n",
      "['yes' 'no']\n",
      "['no' 'yes']\n",
      "['no' 'yes']\n",
      "['no' 'yes']\n",
      "['yes' 'no']\n",
      "['yes' 'no']\n",
      "['no' 'yes']\n",
      "['no' 'yes']\n",
      "[4 5 3 1 2]\n",
      "[3 2 4 1 5]\n",
      "[4 3 2 1 5]\n",
      "[1 2 5 3 4]\n",
      "[1 3 2 4 5]\n",
      "[3 5 1 2 4]\n",
      "[ 6  4 10  2  0 16 14  7  8 25 12 54 18 26 20 56 24 28  5 13 15 22  3 21\n",
      "  1 75 30 19  9 11 38 40 23 17]\n",
      "[ 5  7 15  6 12 16 14 10 13  8 11  9 17 19 18  4  3]\n",
      "[ 6  5  8 14 10 15 12 18 16 13  9 11  7 19 17  4  0]\n",
      "[ 6 10 15 11 19  9 12 14 16  5  8 17 18 13 20  7  0  4]\n"
     ]
    }
   ],
   "source": [
    "for col in student_df:\n",
    "    print(student_df[col].unique())"
   ]
  },
  {
   "cell_type": "code",
   "execution_count": 33,
   "metadata": {},
   "outputs": [
    {
     "data": {
      "text/html": [
       "<div>\n",
       "<style scoped>\n",
       "    .dataframe tbody tr th:only-of-type {\n",
       "        vertical-align: middle;\n",
       "    }\n",
       "\n",
       "    .dataframe tbody tr th {\n",
       "        vertical-align: top;\n",
       "    }\n",
       "\n",
       "    .dataframe thead th {\n",
       "        text-align: right;\n",
       "    }\n",
       "</style>\n",
       "<table border=\"1\" class=\"dataframe\">\n",
       "  <thead>\n",
       "    <tr style=\"text-align: right;\">\n",
       "      <th></th>\n",
       "      <th>age</th>\n",
       "      <th>Medu</th>\n",
       "      <th>Fedu</th>\n",
       "      <th>traveltime</th>\n",
       "      <th>studytime</th>\n",
       "      <th>failures</th>\n",
       "      <th>schoolsup</th>\n",
       "      <th>famsup</th>\n",
       "      <th>paid</th>\n",
       "      <th>activities</th>\n",
       "      <th>...</th>\n",
       "      <th>Mjob_teacher</th>\n",
       "      <th>Fjob_health</th>\n",
       "      <th>Fjob_other</th>\n",
       "      <th>Fjob_services</th>\n",
       "      <th>Fjob_teacher</th>\n",
       "      <th>reason_home</th>\n",
       "      <th>reason_other</th>\n",
       "      <th>reason_reputation</th>\n",
       "      <th>guardian_mother</th>\n",
       "      <th>guardian_other</th>\n",
       "    </tr>\n",
       "  </thead>\n",
       "  <tbody>\n",
       "    <tr>\n",
       "      <th>0</th>\n",
       "      <td>18</td>\n",
       "      <td>4</td>\n",
       "      <td>4</td>\n",
       "      <td>2</td>\n",
       "      <td>2</td>\n",
       "      <td>0</td>\n",
       "      <td>1</td>\n",
       "      <td>0</td>\n",
       "      <td>0</td>\n",
       "      <td>0</td>\n",
       "      <td>...</td>\n",
       "      <td>0</td>\n",
       "      <td>0</td>\n",
       "      <td>0</td>\n",
       "      <td>0</td>\n",
       "      <td>1</td>\n",
       "      <td>0</td>\n",
       "      <td>0</td>\n",
       "      <td>0</td>\n",
       "      <td>1</td>\n",
       "      <td>0</td>\n",
       "    </tr>\n",
       "    <tr>\n",
       "      <th>1</th>\n",
       "      <td>17</td>\n",
       "      <td>1</td>\n",
       "      <td>1</td>\n",
       "      <td>1</td>\n",
       "      <td>2</td>\n",
       "      <td>0</td>\n",
       "      <td>0</td>\n",
       "      <td>1</td>\n",
       "      <td>0</td>\n",
       "      <td>0</td>\n",
       "      <td>...</td>\n",
       "      <td>0</td>\n",
       "      <td>0</td>\n",
       "      <td>1</td>\n",
       "      <td>0</td>\n",
       "      <td>0</td>\n",
       "      <td>0</td>\n",
       "      <td>0</td>\n",
       "      <td>0</td>\n",
       "      <td>0</td>\n",
       "      <td>0</td>\n",
       "    </tr>\n",
       "    <tr>\n",
       "      <th>2</th>\n",
       "      <td>15</td>\n",
       "      <td>1</td>\n",
       "      <td>1</td>\n",
       "      <td>1</td>\n",
       "      <td>2</td>\n",
       "      <td>3</td>\n",
       "      <td>1</td>\n",
       "      <td>0</td>\n",
       "      <td>1</td>\n",
       "      <td>0</td>\n",
       "      <td>...</td>\n",
       "      <td>0</td>\n",
       "      <td>0</td>\n",
       "      <td>1</td>\n",
       "      <td>0</td>\n",
       "      <td>0</td>\n",
       "      <td>0</td>\n",
       "      <td>1</td>\n",
       "      <td>0</td>\n",
       "      <td>1</td>\n",
       "      <td>0</td>\n",
       "    </tr>\n",
       "    <tr>\n",
       "      <th>3</th>\n",
       "      <td>15</td>\n",
       "      <td>4</td>\n",
       "      <td>2</td>\n",
       "      <td>1</td>\n",
       "      <td>3</td>\n",
       "      <td>0</td>\n",
       "      <td>0</td>\n",
       "      <td>1</td>\n",
       "      <td>1</td>\n",
       "      <td>1</td>\n",
       "      <td>...</td>\n",
       "      <td>0</td>\n",
       "      <td>0</td>\n",
       "      <td>0</td>\n",
       "      <td>1</td>\n",
       "      <td>0</td>\n",
       "      <td>1</td>\n",
       "      <td>0</td>\n",
       "      <td>0</td>\n",
       "      <td>1</td>\n",
       "      <td>0</td>\n",
       "    </tr>\n",
       "    <tr>\n",
       "      <th>4</th>\n",
       "      <td>16</td>\n",
       "      <td>3</td>\n",
       "      <td>3</td>\n",
       "      <td>1</td>\n",
       "      <td>2</td>\n",
       "      <td>0</td>\n",
       "      <td>0</td>\n",
       "      <td>1</td>\n",
       "      <td>1</td>\n",
       "      <td>0</td>\n",
       "      <td>...</td>\n",
       "      <td>0</td>\n",
       "      <td>0</td>\n",
       "      <td>1</td>\n",
       "      <td>0</td>\n",
       "      <td>0</td>\n",
       "      <td>1</td>\n",
       "      <td>0</td>\n",
       "      <td>0</td>\n",
       "      <td>0</td>\n",
       "      <td>0</td>\n",
       "    </tr>\n",
       "  </tbody>\n",
       "</table>\n",
       "<p>5 rows × 42 columns</p>\n",
       "</div>"
      ],
      "text/plain": [
       "   age  Medu  Fedu  traveltime  studytime  failures  schoolsup  famsup  paid   \n",
       "0   18     4     4           2          2         0          1       0     0  \\\n",
       "1   17     1     1           1          2         0          0       1     0   \n",
       "2   15     1     1           1          2         3          1       0     1   \n",
       "3   15     4     2           1          3         0          0       1     1   \n",
       "4   16     3     3           1          2         0          0       1     1   \n",
       "\n",
       "   activities  ...  Mjob_teacher  Fjob_health  Fjob_other  Fjob_services   \n",
       "0           0  ...             0            0           0              0  \\\n",
       "1           0  ...             0            0           1              0   \n",
       "2           0  ...             0            0           1              0   \n",
       "3           1  ...             0            0           0              1   \n",
       "4           0  ...             0            0           1              0   \n",
       "\n",
       "   Fjob_teacher  reason_home  reason_other  reason_reputation   \n",
       "0             1            0             0                  0  \\\n",
       "1             0            0             0                  0   \n",
       "2             0            0             1                  0   \n",
       "3             0            1             0                  0   \n",
       "4             0            1             0                  0   \n",
       "\n",
       "   guardian_mother  guardian_other  \n",
       "0                1               0  \n",
       "1                0               0  \n",
       "2                1               0  \n",
       "3                1               0  \n",
       "4                0               0  \n",
       "\n",
       "[5 rows x 42 columns]"
      ]
     },
     "execution_count": 33,
     "metadata": {},
     "output_type": "execute_result"
    }
   ],
   "source": [
    "# One-hot encoding for non-ordinal features\n",
    "non_ordinal_features = ['school', 'sex', 'address', 'famsize', 'Pstatus', 'Mjob', 'Fjob', 'reason', 'guardian']\n",
    "student_df = pd.get_dummies(student_df, columns=non_ordinal_features, dtype=int, drop_first=True)\n",
    "\n",
    "# Encode yes/no features\n",
    "yes_no_features = ['schoolsup','famsup','paid','activities','nursery','higher','internet','romantic']\n",
    "student_df[yes_no_features] = student_df[yes_no_features].replace({'yes': 1, 'no': 0})\n",
    "\n",
    "student_df.head()"
   ]
  },
  {
   "cell_type": "code",
   "execution_count": 36,
   "metadata": {},
   "outputs": [],
   "source": [
    "y = student_df['G3']\n",
    "X = student_df.drop('G3', axis=1)\n",
    "X_train, X_test, y_train, y_test = train_test_split(X, y, test_size=0.2, random_state=0)"
   ]
  },
  {
   "cell_type": "code",
   "execution_count": 47,
   "metadata": {},
   "outputs": [],
   "source": [
    "# Define an objective function for Linear Regression\n",
    "def objective_lr(trial):\n",
    "    model = LinearRegression()\n",
    "    cv_scores = cross_val_score(model, X_train, y_train, cv=5, scoring=make_scorer(r2_score))\n",
    "    mean_cv_score = np.mean(cv_scores)\n",
    "    return mean_cv_score\n",
    "\n",
    "# Define an objective function for Random Forest\n",
    "def objective_rf(trial):\n",
    "    n_estimators = trial.suggest_int(\"n_estimators\", 10, 100)\n",
    "    max_depth = trial.suggest_int(\"max_depth\", 2, 20)\n",
    "    model = RandomForestRegressor(n_estimators=n_estimators, max_depth=max_depth)\n",
    "    cv_scores = cross_val_score(model, X_train, y_train, cv=5, scoring=make_scorer(r2_score))\n",
    "    mean_cv_score = np.mean(cv_scores)\n",
    "    return mean_cv_score\n",
    "\n",
    "# Define an objective function for Gradient Boosting\n",
    "def objective_gb(trial):\n",
    "    n_estimators = trial.suggest_int(\"n_estimators\", 10, 100)\n",
    "    learning_rate = trial.suggest_float(\"learning_rate\", 0.01, 0.3)\n",
    "    max_depth = trial.suggest_int(\"max_depth\", 2, 20)\n",
    "    model = GradientBoostingRegressor(n_estimators=n_estimators, learning_rate=learning_rate, max_depth=max_depth)\n",
    "    cv_scores = cross_val_score(model, X_train, y_train, cv=5, scoring=make_scorer(r2_score))\n",
    "    mean_cv_score = np.mean(cv_scores)\n",
    "    return mean_cv_score\n",
    "\n",
    "# Define an objective function for XGBoost\n",
    "def objective_xgb(trial):\n",
    "    n_estimators = trial.suggest_int(\"n_estimators\", 10, 100)\n",
    "    learning_rate = trial.suggest_float(\"learning_rate\", 0.01, 0.3)\n",
    "    max_depth = trial.suggest_int(\"max_depth\", 2, 20)\n",
    "    model = XGBRegressor(n_estimators=n_estimators, learning_rate=learning_rate, max_depth=max_depth, use_label_encoder=False, eval_metric='rmse')\n",
    "    cv_scores = cross_val_score(model, X_train, y_train, cv=5, scoring=make_scorer(r2_score))\n",
    "    mean_cv_score = np.mean(cv_scores)\n",
    "    return mean_cv_score\n"
   ]
  },
  {
   "cell_type": "code",
   "execution_count": 52,
   "metadata": {},
   "outputs": [
    {
     "name": "stderr",
     "output_type": "stream",
     "text": [
      "[I 2024-06-12 17:16:26,160] A new study created in memory with name: no-name-821c4800-1087-4cfa-b2ab-c0051e354711\n",
      "[I 2024-06-12 17:16:26,163] A new study created in memory with name: no-name-0bd8ff68-f1d2-43be-9713-1d5ebdb07e26\n",
      "[I 2024-06-12 17:16:26,164] A new study created in memory with name: no-name-48978b89-1756-49ca-9bf2-2d8eeb19c24a\n",
      "[I 2024-06-12 17:16:26,166] A new study created in memory with name: no-name-90d134a5-bb5a-4bd3-9da9-484f01ee535e\n",
      "[I 2024-06-12 17:16:26,288] Trial 0 finished with value: 0.7959109184676558 and parameters: {}. Best is trial 0 with value: 0.7959109184676558.\n",
      "[I 2024-06-12 17:16:26,318] Trial 1 finished with value: 0.7959109184676558 and parameters: {}. Best is trial 0 with value: 0.7959109184676558.\n",
      "[I 2024-06-12 17:16:26,340] Trial 2 finished with value: 0.7959109184676558 and parameters: {}. Best is trial 0 with value: 0.7959109184676558.\n",
      "[I 2024-06-12 17:16:26,387] Trial 3 finished with value: 0.7959109184676558 and parameters: {}. Best is trial 0 with value: 0.7959109184676558.\n"
     ]
    },
    {
     "name": "stdout",
     "output_type": "stream",
     "text": [
      "Optimizing LinearRegression...\n"
     ]
    },
    {
     "name": "stderr",
     "output_type": "stream",
     "text": [
      "[I 2024-06-12 17:16:26,421] Trial 4 finished with value: 0.7959109184676558 and parameters: {}. Best is trial 0 with value: 0.7959109184676558.\n",
      "[I 2024-06-12 17:16:26,471] Trial 5 finished with value: 0.7959109184676558 and parameters: {}. Best is trial 0 with value: 0.7959109184676558.\n",
      "[I 2024-06-12 17:16:26,506] Trial 6 finished with value: 0.7959109184676558 and parameters: {}. Best is trial 0 with value: 0.7959109184676558.\n",
      "[I 2024-06-12 17:16:26,533] Trial 7 finished with value: 0.7959109184676558 and parameters: {}. Best is trial 0 with value: 0.7959109184676558.\n",
      "[I 2024-06-12 17:16:26,565] Trial 8 finished with value: 0.7959109184676558 and parameters: {}. Best is trial 0 with value: 0.7959109184676558.\n",
      "[I 2024-06-12 17:16:26,603] Trial 9 finished with value: 0.7959109184676558 and parameters: {}. Best is trial 0 with value: 0.7959109184676558.\n",
      "[I 2024-06-12 17:16:26,633] Trial 10 finished with value: 0.7959109184676558 and parameters: {}. Best is trial 0 with value: 0.7959109184676558.\n",
      "[I 2024-06-12 17:16:26,692] Trial 11 finished with value: 0.7959109184676558 and parameters: {}. Best is trial 0 with value: 0.7959109184676558.\n",
      "[I 2024-06-12 17:16:26,729] Trial 12 finished with value: 0.7959109184676558 and parameters: {}. Best is trial 0 with value: 0.7959109184676558.\n",
      "[I 2024-06-12 17:16:26,761] Trial 13 finished with value: 0.7959109184676558 and parameters: {}. Best is trial 0 with value: 0.7959109184676558.\n",
      "[I 2024-06-12 17:16:26,798] Trial 14 finished with value: 0.7959109184676558 and parameters: {}. Best is trial 0 with value: 0.7959109184676558.\n",
      "[I 2024-06-12 17:16:26,829] Trial 15 finished with value: 0.7959109184676558 and parameters: {}. Best is trial 0 with value: 0.7959109184676558.\n",
      "[I 2024-06-12 17:16:26,862] Trial 16 finished with value: 0.7959109184676558 and parameters: {}. Best is trial 0 with value: 0.7959109184676558.\n",
      "[I 2024-06-12 17:16:26,877] Trial 17 finished with value: 0.7959109184676558 and parameters: {}. Best is trial 0 with value: 0.7959109184676558.\n",
      "[I 2024-06-12 17:16:26,911] Trial 18 finished with value: 0.7959109184676558 and parameters: {}. Best is trial 0 with value: 0.7959109184676558.\n",
      "[I 2024-06-12 17:16:26,939] Trial 19 finished with value: 0.7959109184676558 and parameters: {}. Best is trial 0 with value: 0.7959109184676558.\n",
      "[I 2024-06-12 17:16:26,967] Trial 20 finished with value: 0.7959109184676558 and parameters: {}. Best is trial 0 with value: 0.7959109184676558.\n",
      "[I 2024-06-12 17:16:27,050] Trial 21 finished with value: 0.7959109184676558 and parameters: {}. Best is trial 0 with value: 0.7959109184676558.\n",
      "[I 2024-06-12 17:16:27,095] Trial 22 finished with value: 0.7959109184676558 and parameters: {}. Best is trial 0 with value: 0.7959109184676558.\n",
      "[I 2024-06-12 17:16:27,146] Trial 23 finished with value: 0.7959109184676558 and parameters: {}. Best is trial 0 with value: 0.7959109184676558.\n",
      "[I 2024-06-12 17:16:27,193] Trial 24 finished with value: 0.7959109184676558 and parameters: {}. Best is trial 0 with value: 0.7959109184676558.\n",
      "[I 2024-06-12 17:16:27,223] Trial 25 finished with value: 0.7959109184676558 and parameters: {}. Best is trial 0 with value: 0.7959109184676558.\n",
      "[I 2024-06-12 17:16:27,251] Trial 26 finished with value: 0.7959109184676558 and parameters: {}. Best is trial 0 with value: 0.7959109184676558.\n",
      "[I 2024-06-12 17:16:27,280] Trial 27 finished with value: 0.7959109184676558 and parameters: {}. Best is trial 0 with value: 0.7959109184676558.\n",
      "[I 2024-06-12 17:16:27,324] Trial 28 finished with value: 0.7959109184676558 and parameters: {}. Best is trial 0 with value: 0.7959109184676558.\n",
      "[I 2024-06-12 17:16:27,392] Trial 29 finished with value: 0.7959109184676558 and parameters: {}. Best is trial 0 with value: 0.7959109184676558.\n",
      "[I 2024-06-12 17:16:27,430] Trial 30 finished with value: 0.7959109184676558 and parameters: {}. Best is trial 0 with value: 0.7959109184676558.\n",
      "[I 2024-06-12 17:16:27,513] Trial 31 finished with value: 0.7959109184676558 and parameters: {}. Best is trial 0 with value: 0.7959109184676558.\n",
      "[I 2024-06-12 17:16:27,540] Trial 32 finished with value: 0.7959109184676558 and parameters: {}. Best is trial 0 with value: 0.7959109184676558.\n",
      "[I 2024-06-12 17:16:27,572] Trial 33 finished with value: 0.7959109184676558 and parameters: {}. Best is trial 0 with value: 0.7959109184676558.\n",
      "[I 2024-06-12 17:16:27,596] Trial 34 finished with value: 0.7959109184676558 and parameters: {}. Best is trial 0 with value: 0.7959109184676558.\n",
      "[I 2024-06-12 17:16:27,630] Trial 35 finished with value: 0.7959109184676558 and parameters: {}. Best is trial 0 with value: 0.7959109184676558.\n",
      "[I 2024-06-12 17:16:27,664] Trial 36 finished with value: 0.7959109184676558 and parameters: {}. Best is trial 0 with value: 0.7959109184676558.\n",
      "[I 2024-06-12 17:16:27,678] Trial 37 finished with value: 0.7959109184676558 and parameters: {}. Best is trial 0 with value: 0.7959109184676558.\n",
      "[I 2024-06-12 17:16:27,850] Trial 38 finished with value: 0.7959109184676558 and parameters: {}. Best is trial 0 with value: 0.7959109184676558.\n",
      "[I 2024-06-12 17:16:27,881] Trial 39 finished with value: 0.7959109184676558 and parameters: {}. Best is trial 0 with value: 0.7959109184676558.\n",
      "[I 2024-06-12 17:16:27,895] Trial 40 finished with value: 0.7959109184676558 and parameters: {}. Best is trial 0 with value: 0.7959109184676558.\n",
      "[I 2024-06-12 17:16:27,923] Trial 41 finished with value: 0.7959109184676558 and parameters: {}. Best is trial 0 with value: 0.7959109184676558.\n",
      "[I 2024-06-12 17:16:27,948] Trial 42 finished with value: 0.7959109184676558 and parameters: {}. Best is trial 0 with value: 0.7959109184676558.\n",
      "[I 2024-06-12 17:16:27,969] Trial 43 finished with value: 0.7959109184676558 and parameters: {}. Best is trial 0 with value: 0.7959109184676558.\n",
      "[I 2024-06-12 17:16:27,996] Trial 44 finished with value: 0.7959109184676558 and parameters: {}. Best is trial 0 with value: 0.7959109184676558.\n",
      "[I 2024-06-12 17:16:28,034] Trial 45 finished with value: 0.7959109184676558 and parameters: {}. Best is trial 0 with value: 0.7959109184676558.\n",
      "[I 2024-06-12 17:16:28,073] Trial 46 finished with value: 0.7959109184676558 and parameters: {}. Best is trial 0 with value: 0.7959109184676558.\n",
      "[I 2024-06-12 17:16:28,125] Trial 47 finished with value: 0.7959109184676558 and parameters: {}. Best is trial 0 with value: 0.7959109184676558.\n",
      "[I 2024-06-12 17:16:28,161] Trial 48 finished with value: 0.7959109184676558 and parameters: {}. Best is trial 0 with value: 0.7959109184676558.\n",
      "[I 2024-06-12 17:16:28,196] Trial 49 finished with value: 0.7959109184676558 and parameters: {}. Best is trial 0 with value: 0.7959109184676558.\n",
      "[I 2024-06-12 17:16:28,287] Trial 0 finished with value: 0.8696488159467309 and parameters: {'n_estimators': 11, 'max_depth': 5}. Best is trial 0 with value: 0.8696488159467309.\n"
     ]
    },
    {
     "name": "stdout",
     "output_type": "stream",
     "text": [
      "Optimizing RandomForest...\n"
     ]
    },
    {
     "name": "stderr",
     "output_type": "stream",
     "text": [
      "[I 2024-06-12 17:16:28,850] Trial 1 finished with value: 0.8733518357342798 and parameters: {'n_estimators': 98, 'max_depth': 14}. Best is trial 1 with value: 0.8733518357342798.\n",
      "[I 2024-06-12 17:16:29,022] Trial 2 finished with value: 0.8659989549590081 and parameters: {'n_estimators': 40, 'max_depth': 6}. Best is trial 1 with value: 0.8733518357342798.\n",
      "[I 2024-06-12 17:16:29,301] Trial 3 finished with value: 0.8750662465403967 and parameters: {'n_estimators': 58, 'max_depth': 15}. Best is trial 3 with value: 0.8750662465403967.\n",
      "[I 2024-06-12 17:16:29,478] Trial 4 finished with value: 0.8671398700876767 and parameters: {'n_estimators': 36, 'max_depth': 16}. Best is trial 3 with value: 0.8750662465403967.\n",
      "[I 2024-06-12 17:16:29,895] Trial 5 finished with value: 0.8763258562719487 and parameters: {'n_estimators': 88, 'max_depth': 13}. Best is trial 5 with value: 0.8763258562719487.\n",
      "[I 2024-06-12 17:16:29,959] Trial 6 finished with value: 0.8537478759519533 and parameters: {'n_estimators': 13, 'max_depth': 6}. Best is trial 5 with value: 0.8763258562719487.\n",
      "[I 2024-06-12 17:16:30,243] Trial 7 finished with value: 0.8742297584569767 and parameters: {'n_estimators': 90, 'max_depth': 4}. Best is trial 5 with value: 0.8763258562719487.\n",
      "[I 2024-06-12 17:16:30,323] Trial 8 finished with value: 0.8568351662093521 and parameters: {'n_estimators': 15, 'max_depth': 9}. Best is trial 5 with value: 0.8763258562719487.\n",
      "[I 2024-06-12 17:16:30,557] Trial 9 finished with value: 0.8692957557625126 and parameters: {'n_estimators': 48, 'max_depth': 18}. Best is trial 5 with value: 0.8763258562719487.\n",
      "[I 2024-06-12 17:16:30,923] Trial 10 finished with value: 0.8755358580069863 and parameters: {'n_estimators': 76, 'max_depth': 20}. Best is trial 5 with value: 0.8763258562719487.\n",
      "[I 2024-06-12 17:16:31,289] Trial 11 finished with value: 0.8744944269190255 and parameters: {'n_estimators': 76, 'max_depth': 20}. Best is trial 5 with value: 0.8763258562719487.\n",
      "[I 2024-06-12 17:16:31,643] Trial 12 finished with value: 0.8776830243131188 and parameters: {'n_estimators': 71, 'max_depth': 11}. Best is trial 12 with value: 0.8776830243131188.\n",
      "[I 2024-06-12 17:16:31,994] Trial 13 finished with value: 0.8745713557116419 and parameters: {'n_estimators': 70, 'max_depth': 10}. Best is trial 12 with value: 0.8776830243131188.\n",
      "[I 2024-06-12 17:16:32,488] Trial 14 finished with value: 0.8753594581912296 and parameters: {'n_estimators': 90, 'max_depth': 13}. Best is trial 12 with value: 0.8776830243131188.\n",
      "[I 2024-06-12 17:16:32,825] Trial 15 finished with value: 0.8698713241101611 and parameters: {'n_estimators': 63, 'max_depth': 11}. Best is trial 12 with value: 0.8776830243131188.\n",
      "[I 2024-06-12 17:16:33,037] Trial 16 finished with value: 0.8168930544582642 and parameters: {'n_estimators': 85, 'max_depth': 2}. Best is trial 12 with value: 0.8776830243131188.\n",
      "[I 2024-06-12 17:16:33,513] Trial 17 finished with value: 0.8787868486135422 and parameters: {'n_estimators': 100, 'max_depth': 9}. Best is trial 17 with value: 0.8787868486135422.\n",
      "[I 2024-06-12 17:16:34,003] Trial 18 finished with value: 0.8811299304282215 and parameters: {'n_estimators': 99, 'max_depth': 7}. Best is trial 18 with value: 0.8811299304282215.\n",
      "[I 2024-06-12 17:16:34,466] Trial 19 finished with value: 0.8724698616653545 and parameters: {'n_estimators': 98, 'max_depth': 8}. Best is trial 18 with value: 0.8811299304282215.\n",
      "[I 2024-06-12 17:16:34,929] Trial 20 finished with value: 0.874019363239346 and parameters: {'n_estimators': 97, 'max_depth': 8}. Best is trial 18 with value: 0.8811299304282215.\n",
      "[I 2024-06-12 17:16:35,308] Trial 21 finished with value: 0.8727960315611144 and parameters: {'n_estimators': 78, 'max_depth': 11}. Best is trial 18 with value: 0.8811299304282215.\n",
      "[I 2024-06-12 17:16:35,758] Trial 22 finished with value: 0.8736942557598436 and parameters: {'n_estimators': 100, 'max_depth': 7}. Best is trial 18 with value: 0.8811299304282215.\n",
      "[I 2024-06-12 17:16:35,952] Trial 23 finished with value: 0.8635756407696912 and parameters: {'n_estimators': 67, 'max_depth': 3}. Best is trial 18 with value: 0.8811299304282215.\n",
      "[I 2024-06-12 17:16:36,355] Trial 24 finished with value: 0.8735196821817188 and parameters: {'n_estimators': 84, 'max_depth': 9}. Best is trial 18 with value: 0.8811299304282215.\n",
      "[I 2024-06-12 17:16:36,697] Trial 25 finished with value: 0.8703314557060766 and parameters: {'n_estimators': 49, 'max_depth': 12}. Best is trial 18 with value: 0.8811299304282215.\n",
      "[I 2024-06-12 17:16:36,837] Trial 26 finished with value: 0.8787441049089217 and parameters: {'n_estimators': 25, 'max_depth': 10}. Best is trial 18 with value: 0.8811299304282215.\n",
      "[I 2024-06-12 17:16:36,959] Trial 27 finished with value: 0.8766607640349238 and parameters: {'n_estimators': 24, 'max_depth': 7}. Best is trial 18 with value: 0.8811299304282215.\n",
      "[I 2024-06-12 17:16:37,094] Trial 28 finished with value: 0.8676931179285885 and parameters: {'n_estimators': 25, 'max_depth': 10}. Best is trial 18 with value: 0.8811299304282215.\n",
      "[I 2024-06-12 17:16:37,226] Trial 29 finished with value: 0.876825972781698 and parameters: {'n_estimators': 32, 'max_depth': 5}. Best is trial 18 with value: 0.8811299304282215.\n",
      "[I 2024-06-12 17:16:37,413] Trial 30 finished with value: 0.8747963399121073 and parameters: {'n_estimators': 48, 'max_depth': 5}. Best is trial 18 with value: 0.8811299304282215.\n",
      "[I 2024-06-12 17:16:37,884] Trial 31 finished with value: 0.8732926880474139 and parameters: {'n_estimators': 94, 'max_depth': 11}. Best is trial 18 with value: 0.8811299304282215.\n",
      "[I 2024-06-12 17:16:38,267] Trial 32 finished with value: 0.8694205364411018 and parameters: {'n_estimators': 81, 'max_depth': 9}. Best is trial 18 with value: 0.8811299304282215.\n",
      "[I 2024-06-12 17:16:38,670] Trial 33 finished with value: 0.8772975079247562 and parameters: {'n_estimators': 72, 'max_depth': 13}. Best is trial 18 with value: 0.8811299304282215.\n",
      "[I 2024-06-12 17:16:38,954] Trial 34 finished with value: 0.879951425766291 and parameters: {'n_estimators': 54, 'max_depth': 8}. Best is trial 18 with value: 0.8811299304282215.\n",
      "[I 2024-06-12 17:16:39,226] Trial 35 finished with value: 0.8792022187896933 and parameters: {'n_estimators': 58, 'max_depth': 7}. Best is trial 18 with value: 0.8811299304282215.\n",
      "[I 2024-06-12 17:16:39,521] Trial 36 finished with value: 0.882222495651131 and parameters: {'n_estimators': 63, 'max_depth': 7}. Best is trial 36 with value: 0.882222495651131.\n",
      "[I 2024-06-12 17:16:39,761] Trial 37 finished with value: 0.8752824231609019 and parameters: {'n_estimators': 57, 'max_depth': 6}. Best is trial 36 with value: 0.882222495651131.\n",
      "[I 2024-06-12 17:16:39,960] Trial 38 finished with value: 0.8592692791853918 and parameters: {'n_estimators': 42, 'max_depth': 7}. Best is trial 36 with value: 0.882222495651131.\n",
      "[I 2024-06-12 17:16:40,171] Trial 39 finished with value: 0.8756604462533769 and parameters: {'n_estimators': 61, 'max_depth': 4}. Best is trial 36 with value: 0.882222495651131.\n",
      "[I 2024-06-12 17:16:40,357] Trial 40 finished with value: 0.8743408818094917 and parameters: {'n_estimators': 52, 'max_depth': 4}. Best is trial 36 with value: 0.882222495651131.\n",
      "[I 2024-06-12 17:16:40,584] Trial 41 finished with value: 0.8706144491565574 and parameters: {'n_estimators': 44, 'max_depth': 8}. Best is trial 36 with value: 0.882222495651131.\n",
      "[I 2024-06-12 17:16:40,835] Trial 42 finished with value: 0.8774491720993673 and parameters: {'n_estimators': 55, 'max_depth': 6}. Best is trial 36 with value: 0.882222495651131.\n",
      "[I 2024-06-12 17:16:41,147] Trial 43 finished with value: 0.8760398462453255 and parameters: {'n_estimators': 63, 'max_depth': 7}. Best is trial 36 with value: 0.882222495651131.\n",
      "[I 2024-06-12 17:16:41,400] Trial 44 finished with value: 0.8695932938725974 and parameters: {'n_estimators': 55, 'max_depth': 6}. Best is trial 36 with value: 0.882222495651131.\n",
      "[I 2024-06-12 17:16:41,582] Trial 45 finished with value: 0.869317167342335 and parameters: {'n_estimators': 35, 'max_depth': 8}. Best is trial 36 with value: 0.882222495651131.\n",
      "[I 2024-06-12 17:16:42,048] Trial 46 finished with value: 0.8759051574985797 and parameters: {'n_estimators': 94, 'max_depth': 9}. Best is trial 36 with value: 0.882222495651131.\n",
      "[I 2024-06-12 17:16:42,276] Trial 47 finished with value: 0.8753169144025357 and parameters: {'n_estimators': 60, 'max_depth': 5}. Best is trial 36 with value: 0.882222495651131.\n",
      "[I 2024-06-12 17:16:42,602] Trial 48 finished with value: 0.8737784364240648 and parameters: {'n_estimators': 67, 'max_depth': 16}. Best is trial 36 with value: 0.882222495651131.\n",
      "[I 2024-06-12 17:16:43,000] Trial 49 finished with value: 0.873376055222835 and parameters: {'n_estimators': 86, 'max_depth': 8}. Best is trial 36 with value: 0.882222495651131.\n",
      "[I 2024-06-12 17:16:43,163] Trial 0 finished with value: 0.806118150402048 and parameters: {'n_estimators': 26, 'learning_rate': 0.17694177028869287, 'max_depth': 17}. Best is trial 0 with value: 0.806118150402048.\n"
     ]
    },
    {
     "name": "stdout",
     "output_type": "stream",
     "text": [
      "Optimizing GradientBoosting...\n"
     ]
    },
    {
     "name": "stderr",
     "output_type": "stream",
     "text": [
      "[I 2024-06-12 17:16:43,472] Trial 1 finished with value: 0.8328118128371745 and parameters: {'n_estimators': 54, 'learning_rate': 0.23156630530988606, 'max_depth': 8}. Best is trial 1 with value: 0.8328118128371745.\n",
      "[I 2024-06-12 17:16:43,671] Trial 2 finished with value: 0.6625973445090826 and parameters: {'n_estimators': 14, 'learning_rate': 0.05063398279694597, 'max_depth': 17}. Best is trial 1 with value: 0.8328118128371745.\n",
      "[I 2024-06-12 17:16:43,857] Trial 3 finished with value: 0.8128337203114911 and parameters: {'n_estimators': 32, 'learning_rate': 0.049026879316583845, 'max_depth': 8}. Best is trial 1 with value: 0.8328118128371745.\n",
      "[I 2024-06-12 17:16:44,011] Trial 4 finished with value: 0.8228761400682728 and parameters: {'n_estimators': 26, 'learning_rate': 0.10576253364979121, 'max_depth': 14}. Best is trial 1 with value: 0.8328118128371745.\n",
      "[I 2024-06-12 17:16:44,288] Trial 5 finished with value: 0.8220945296933515 and parameters: {'n_estimators': 48, 'learning_rate': 0.04327167584869108, 'max_depth': 9}. Best is trial 1 with value: 0.8328118128371745.\n",
      "[I 2024-06-12 17:16:44,574] Trial 6 finished with value: 0.6895280841516789 and parameters: {'n_estimators': 49, 'learning_rate': 0.016060411634356918, 'max_depth': 18}. Best is trial 1 with value: 0.8328118128371745.\n",
      "[I 2024-06-12 17:16:44,716] Trial 7 finished with value: 0.8633414135311733 and parameters: {'n_estimators': 40, 'learning_rate': 0.18925004053594335, 'max_depth': 5}. Best is trial 7 with value: 0.8633414135311733.\n",
      "[I 2024-06-12 17:16:44,792] Trial 8 finished with value: 0.8746557399106022 and parameters: {'n_estimators': 32, 'learning_rate': 0.14895167206779483, 'max_depth': 3}. Best is trial 8 with value: 0.8746557399106022.\n",
      "[I 2024-06-12 17:16:44,921] Trial 9 finished with value: 0.8599915209994883 and parameters: {'n_estimators': 36, 'learning_rate': 0.164817152167072, 'max_depth': 5}. Best is trial 8 with value: 0.8746557399106022.\n",
      "[I 2024-06-12 17:16:45,069] Trial 10 finished with value: 0.8636441653182046 and parameters: {'n_estimators': 86, 'learning_rate': 0.2873059316240325, 'max_depth': 2}. Best is trial 8 with value: 0.8746557399106022.\n",
      "[I 2024-06-12 17:16:45,214] Trial 11 finished with value: 0.8690175106807103 and parameters: {'n_estimators': 84, 'learning_rate': 0.2991682841874534, 'max_depth': 2}. Best is trial 8 with value: 0.8746557399106022.\n",
      "[I 2024-06-12 17:16:45,345] Trial 12 finished with value: 0.8812481979749782 and parameters: {'n_estimators': 75, 'learning_rate': 0.10893700338665795, 'max_depth': 2}. Best is trial 12 with value: 0.8812481979749782.\n",
      "[I 2024-06-12 17:16:45,591] Trial 13 finished with value: 0.8529940138726306 and parameters: {'n_estimators': 70, 'learning_rate': 0.10422993564561822, 'max_depth': 5}. Best is trial 12 with value: 0.8812481979749782.\n",
      "[I 2024-06-12 17:16:45,984] Trial 14 finished with value: 0.81135721859846 and parameters: {'n_estimators': 69, 'learning_rate': 0.11627509717006043, 'max_depth': 12}. Best is trial 12 with value: 0.8812481979749782.\n",
      "[I 2024-06-12 17:16:46,150] Trial 15 finished with value: 0.875833367891051 and parameters: {'n_estimators': 99, 'learning_rate': 0.13393044510431878, 'max_depth': 2}. Best is trial 12 with value: 0.8812481979749782.\n",
      "[I 2024-06-12 17:16:46,544] Trial 16 finished with value: 0.841205287974341 and parameters: {'n_estimators': 96, 'learning_rate': 0.13138079455067242, 'max_depth': 6}. Best is trial 12 with value: 0.8812481979749782.\n",
      "[I 2024-06-12 17:16:47,024] Trial 17 finished with value: 0.8126452168430042 and parameters: {'n_estimators': 98, 'learning_rate': 0.20409111839361255, 'max_depth': 13}. Best is trial 12 with value: 0.8812481979749782.\n",
      "[I 2024-06-12 17:16:47,427] Trial 18 finished with value: 0.8248691922103873 and parameters: {'n_estimators': 69, 'learning_rate': 0.0909007859574048, 'max_depth': 20}. Best is trial 12 with value: 0.8812481979749782.\n",
      "[I 2024-06-12 17:16:47,656] Trial 19 finished with value: 0.8682110990363745 and parameters: {'n_estimators': 81, 'learning_rate': 0.07535616143480542, 'max_depth': 4}. Best is trial 12 with value: 0.8812481979749782.\n",
      "[I 2024-06-12 17:16:48,037] Trial 20 finished with value: 0.8380296637741358 and parameters: {'n_estimators': 78, 'learning_rate': 0.24340740506236994, 'max_depth': 7}. Best is trial 12 with value: 0.8812481979749782.\n",
      "[I 2024-06-12 17:16:48,179] Trial 21 finished with value: 0.876087302105587 and parameters: {'n_estimators': 61, 'learning_rate': 0.14576021219226518, 'max_depth': 3}. Best is trial 12 with value: 0.8812481979749782.\n",
      "[I 2024-06-12 17:16:48,304] Trial 22 finished with value: 0.879420625353665 and parameters: {'n_estimators': 61, 'learning_rate': 0.1354948561702947, 'max_depth': 2}. Best is trial 12 with value: 0.8812481979749782.\n",
      "[I 2024-06-12 17:16:48,655] Trial 23 finished with value: 0.8204720962504949 and parameters: {'n_estimators': 61, 'learning_rate': 0.14996975720173514, 'max_depth': 10}. Best is trial 12 with value: 0.8812481979749782.\n",
      "[I 2024-06-12 17:16:48,825] Trial 24 finished with value: 0.8685603386706452 and parameters: {'n_estimators': 59, 'learning_rate': 0.07258291072497948, 'max_depth': 4}. Best is trial 12 with value: 0.8812481979749782.\n",
      "[I 2024-06-12 17:16:48,969] Trial 25 finished with value: 0.8776773706280656 and parameters: {'n_estimators': 63, 'learning_rate': 0.1307421815345471, 'max_depth': 3}. Best is trial 12 with value: 0.8812481979749782.\n",
      "[I 2024-06-12 17:16:49,272] Trial 26 finished with value: 0.8501649434028323 and parameters: {'n_estimators': 73, 'learning_rate': 0.12033511354906577, 'max_depth': 6}. Best is trial 12 with value: 0.8812481979749782.\n",
      "[I 2024-06-12 17:16:49,467] Trial 27 finished with value: 0.8641659842246321 and parameters: {'n_estimators': 88, 'learning_rate': 0.2020360197358504, 'max_depth': 3}. Best is trial 12 with value: 0.8812481979749782.\n",
      "[I 2024-06-12 17:16:49,653] Trial 28 finished with value: 0.8679313648378111 and parameters: {'n_estimators': 64, 'learning_rate': 0.08668816865829007, 'max_depth': 4}. Best is trial 12 with value: 0.8812481979749782.\n",
      "[I 2024-06-12 17:16:49,919] Trial 29 finished with value: 0.8177885128086656 and parameters: {'n_estimators': 52, 'learning_rate': 0.1694634670538076, 'max_depth': 7}. Best is trial 12 with value: 0.8812481979749782.\n",
      "[I 2024-06-12 17:16:50,052] Trial 30 finished with value: 0.8756382307823902 and parameters: {'n_estimators': 76, 'learning_rate': 0.18298263307833224, 'max_depth': 2}. Best is trial 12 with value: 0.8812481979749782.\n",
      "[I 2024-06-12 17:16:50,201] Trial 31 finished with value: 0.8793954206567708 and parameters: {'n_estimators': 64, 'learning_rate': 0.14681619922472078, 'max_depth': 3}. Best is trial 12 with value: 0.8812481979749782.\n",
      "[I 2024-06-12 17:16:50,390] Trial 32 finished with value: 0.8699199092464814 and parameters: {'n_estimators': 66, 'learning_rate': 0.1316612389203073, 'max_depth': 4}. Best is trial 12 with value: 0.8812481979749782.\n",
      "[I 2024-06-12 17:16:50,520] Trial 33 finished with value: 0.8749468277891708 and parameters: {'n_estimators': 56, 'learning_rate': 0.1598849729784035, 'max_depth': 3}. Best is trial 12 with value: 0.8812481979749782.\n",
      "[I 2024-06-12 17:16:50,773] Trial 34 finished with value: 0.8224320325604898 and parameters: {'n_estimators': 44, 'learning_rate': 0.22322324174161268, 'max_depth': 15}. Best is trial 12 with value: 0.8812481979749782.\n",
      "[I 2024-06-12 17:16:51,013] Trial 35 finished with value: 0.848035540886545 and parameters: {'n_estimators': 56, 'learning_rate': 0.10207768134130946, 'max_depth': 6}. Best is trial 12 with value: 0.8812481979749782.\n",
      "[I 2024-06-12 17:16:51,495] Trial 36 finished with value: 0.8234909750010393 and parameters: {'n_estimators': 90, 'learning_rate': 0.06255161035686131, 'max_depth': 8}. Best is trial 12 with value: 0.8812481979749782.\n",
      "[I 2024-06-12 17:16:51,532] Trial 37 finished with value: 0.4156019427153577 and parameters: {'n_estimators': 13, 'learning_rate': 0.030055468816733155, 'max_depth': 2}. Best is trial 12 with value: 0.8812481979749782.\n",
      "[I 2024-06-12 17:16:51,790] Trial 38 finished with value: 0.8548813282280179 and parameters: {'n_estimators': 75, 'learning_rate': 0.11231197430709969, 'max_depth': 5}. Best is trial 12 with value: 0.8812481979749782.\n",
      "[I 2024-06-12 17:16:52,061] Trial 39 finished with value: 0.8110002320657326 and parameters: {'n_estimators': 47, 'learning_rate': 0.09204480515310537, 'max_depth': 10}. Best is trial 12 with value: 0.8812481979749782.\n",
      "[I 2024-06-12 17:16:52,210] Trial 40 finished with value: 0.8767298718023817 and parameters: {'n_estimators': 65, 'learning_rate': 0.1362698601313958, 'max_depth': 3}. Best is trial 12 with value: 0.8812481979749782.\n",
      "[I 2024-06-12 17:16:52,358] Trial 41 finished with value: 0.8752715051387735 and parameters: {'n_estimators': 65, 'learning_rate': 0.13709986899482926, 'max_depth': 3}. Best is trial 12 with value: 0.8812481979749782.\n",
      "[I 2024-06-12 17:16:52,510] Trial 42 finished with value: 0.8598758395125541 and parameters: {'n_estimators': 52, 'learning_rate': 0.11964067793013917, 'max_depth': 4}. Best is trial 12 with value: 0.8812481979749782.\n",
      "[I 2024-06-12 17:16:52,645] Trial 43 finished with value: 0.873423477324985 and parameters: {'n_estimators': 57, 'learning_rate': 0.17732598160138932, 'max_depth': 3}. Best is trial 12 with value: 0.8812481979749782.\n",
      "[I 2024-06-12 17:16:52,773] Trial 44 finished with value: 0.8807462394996035 and parameters: {'n_estimators': 72, 'learning_rate': 0.1579634949641558, 'max_depth': 2}. Best is trial 12 with value: 0.8812481979749782.\n",
      "[I 2024-06-12 17:16:52,910] Trial 45 finished with value: 0.8777212291823858 and parameters: {'n_estimators': 80, 'learning_rate': 0.16105636600737738, 'max_depth': 2}. Best is trial 12 with value: 0.8812481979749782.\n",
      "[I 2024-06-12 17:16:53,048] Trial 46 finished with value: 0.8731675168000266 and parameters: {'n_estimators': 79, 'learning_rate': 0.19767306778805172, 'max_depth': 2}. Best is trial 12 with value: 0.8812481979749782.\n",
      "[I 2024-06-12 17:16:53,364] Trial 47 finished with value: 0.8569298406438568 and parameters: {'n_estimators': 93, 'learning_rate': 0.1563585782625253, 'max_depth': 5}. Best is trial 12 with value: 0.8812481979749782.\n",
      "[I 2024-06-12 17:16:53,490] Trial 48 finished with value: 0.8794966539823958 and parameters: {'n_estimators': 72, 'learning_rate': 0.16926404174722004, 'max_depth': 2}. Best is trial 12 with value: 0.8812481979749782.\n",
      "[I 2024-06-12 17:16:53,891] Trial 49 finished with value: 0.8236344206683237 and parameters: {'n_estimators': 72, 'learning_rate': 0.2174928597037053, 'max_depth': 15}. Best is trial 12 with value: 0.8812481979749782.\n"
     ]
    },
    {
     "name": "stdout",
     "output_type": "stream",
     "text": [
      "Optimizing XGBoost...\n"
     ]
    },
    {
     "name": "stderr",
     "output_type": "stream",
     "text": [
      "[I 2024-06-12 17:16:54,199] Trial 0 finished with value: 0.8579606631929092 and parameters: {'n_estimators': 39, 'learning_rate': 0.21176481317989126, 'max_depth': 13}. Best is trial 0 with value: 0.8579606631929092.\n",
      "[I 2024-06-12 17:16:54,662] Trial 1 finished with value: 0.8461382068918809 and parameters: {'n_estimators': 74, 'learning_rate': 0.07265386631869025, 'max_depth': 11}. Best is trial 0 with value: 0.8579606631929092.\n",
      "[I 2024-06-12 17:16:54,827] Trial 2 finished with value: 0.584876137766352 and parameters: {'n_estimators': 31, 'learning_rate': 0.020435289998877514, 'max_depth': 19}. Best is trial 0 with value: 0.8579606631929092.\n",
      "[I 2024-06-12 17:16:55,233] Trial 3 finished with value: 0.8554238748379724 and parameters: {'n_estimators': 63, 'learning_rate': 0.1683918328317385, 'max_depth': 13}. Best is trial 0 with value: 0.8579606631929092.\n",
      "[I 2024-06-12 17:16:55,320] Trial 4 finished with value: 0.8752614098411037 and parameters: {'n_estimators': 40, 'learning_rate': 0.12437388529653676, 'max_depth': 3}. Best is trial 4 with value: 0.8752614098411037.\n",
      "[I 2024-06-12 17:16:55,504] Trial 5 finished with value: 0.8537395606097844 and parameters: {'n_estimators': 85, 'learning_rate': 0.24085560974545295, 'max_depth': 4}. Best is trial 4 with value: 0.8752614098411037.\n",
      "[I 2024-06-12 17:16:55,779] Trial 6 finished with value: 0.8573484402101356 and parameters: {'n_estimators': 27, 'learning_rate': 0.23863526299467439, 'max_depth': 20}. Best is trial 4 with value: 0.8752614098411037.\n",
      "[I 2024-06-12 17:16:56,185] Trial 7 finished with value: 0.8573920980749932 and parameters: {'n_estimators': 82, 'learning_rate': 0.19437812875589797, 'max_depth': 18}. Best is trial 4 with value: 0.8752614098411037.\n",
      "[I 2024-06-12 17:16:56,609] Trial 8 finished with value: 0.858655949828297 and parameters: {'n_estimators': 100, 'learning_rate': 0.2428522745226109, 'max_depth': 7}. Best is trial 4 with value: 0.8752614098411037.\n",
      "[I 2024-06-12 17:16:56,883] Trial 9 finished with value: 0.871229487055927 and parameters: {'n_estimators': 98, 'learning_rate': 0.1986406337412022, 'max_depth': 5}. Best is trial 4 with value: 0.8752614098411037.\n",
      "[I 2024-06-12 17:16:56,948] Trial 10 finished with value: 0.8173227286362448 and parameters: {'n_estimators': 15, 'learning_rate': 0.10964864047903547, 'max_depth': 2}. Best is trial 4 with value: 0.8752614098411037.\n",
      "[I 2024-06-12 17:16:57,240] Trial 11 finished with value: 0.8634769521580719 and parameters: {'n_estimators': 56, 'learning_rate': 0.12452479859544842, 'max_depth': 6}. Best is trial 4 with value: 0.8752614098411037.\n",
      "[I 2024-06-12 17:16:57,515] Trial 12 finished with value: 0.8586771329251432 and parameters: {'n_estimators': 50, 'learning_rate': 0.2902533837880519, 'max_depth': 8}. Best is trial 4 with value: 0.8752614098411037.\n",
      "[I 2024-06-12 17:16:57,746] Trial 13 finished with value: 0.8807197723716798 and parameters: {'n_estimators': 44, 'learning_rate': 0.1450292713891654, 'max_depth': 3}. Best is trial 13 with value: 0.8807197723716798.\n",
      "[I 2024-06-12 17:16:57,844] Trial 14 finished with value: 0.8804217173864977 and parameters: {'n_estimators': 43, 'learning_rate': 0.1263838911521125, 'max_depth': 2}. Best is trial 13 with value: 0.8807197723716798.\n",
      "[I 2024-06-12 17:16:58,213] Trial 15 finished with value: 0.8475617144171388 and parameters: {'n_estimators': 49, 'learning_rate': 0.0682363792780269, 'max_depth': 10}. Best is trial 13 with value: 0.8807197723716798.\n",
      "[I 2024-06-12 17:16:58,286] Trial 16 finished with value: 0.843177906486809 and parameters: {'n_estimators': 13, 'learning_rate': 0.15349994830874478, 'max_depth': 2}. Best is trial 13 with value: 0.8807197723716798.\n",
      "[I 2024-06-12 17:16:58,679] Trial 17 finished with value: 0.8484502070895343 and parameters: {'n_estimators': 65, 'learning_rate': 0.08133739607931681, 'max_depth': 9}. Best is trial 13 with value: 0.8807197723716798.\n",
      "[I 2024-06-12 17:16:58,784] Trial 18 finished with value: 0.8591407581493453 and parameters: {'n_estimators': 27, 'learning_rate': 0.16033386630424296, 'max_depth': 5}. Best is trial 13 with value: 0.8807197723716798.\n",
      "[I 2024-06-12 17:16:59,060] Trial 19 finished with value: 0.7069743637420605 and parameters: {'n_estimators': 39, 'learning_rate': 0.024882806027009374, 'max_depth': 15}. Best is trial 13 with value: 0.8807197723716798.\n",
      "[I 2024-06-12 17:16:59,215] Trial 20 finished with value: 0.8705413753652985 and parameters: {'n_estimators': 58, 'learning_rate': 0.09806399401919905, 'max_depth': 4}. Best is trial 13 with value: 0.8807197723716798.\n",
      "[I 2024-06-12 17:16:59,326] Trial 21 finished with value: 0.880976387772306 and parameters: {'n_estimators': 41, 'learning_rate': 0.1343181397792255, 'max_depth': 2}. Best is trial 21 with value: 0.880976387772306.\n",
      "[I 2024-06-12 17:16:59,423] Trial 22 finished with value: 0.8804547268323185 and parameters: {'n_estimators': 47, 'learning_rate': 0.13097145380647793, 'max_depth': 2}. Best is trial 21 with value: 0.880976387772306.\n",
      "[I 2024-06-12 17:16:59,578] Trial 23 finished with value: 0.8594703781851148 and parameters: {'n_estimators': 32, 'learning_rate': 0.14814638695106172, 'max_depth': 6}. Best is trial 21 with value: 0.880976387772306.\n",
      "[I 2024-06-12 17:16:59,722] Trial 24 finished with value: 0.8640112274188322 and parameters: {'n_estimators': 48, 'learning_rate': 0.18048973362298718, 'max_depth': 4}. Best is trial 21 with value: 0.880976387772306.\n",
      "[I 2024-06-12 17:16:59,800] Trial 25 finished with value: 0.725837277532016 and parameters: {'n_estimators': 22, 'learning_rate': 0.04923750220231876, 'max_depth': 2}. Best is trial 21 with value: 0.880976387772306.\n",
      "[I 2024-06-12 17:17:00,070] Trial 26 finished with value: 0.8607615210218945 and parameters: {'n_estimators': 68, 'learning_rate': 0.13752199937527568, 'max_depth': 6}. Best is trial 21 with value: 0.880976387772306.\n",
      "[I 2024-06-12 17:17:00,175] Trial 27 finished with value: 0.8740536085535865 and parameters: {'n_estimators': 46, 'learning_rate': 0.09886100618511995, 'max_depth': 3}. Best is trial 21 with value: 0.880976387772306.\n",
      "[I 2024-06-12 17:17:00,438] Trial 28 finished with value: 0.8590072647357985 and parameters: {'n_estimators': 34, 'learning_rate': 0.17332238767756314, 'max_depth': 7}. Best is trial 21 with value: 0.880976387772306.\n",
      "[I 2024-06-12 17:17:00,802] Trial 29 finished with value: 0.8386819695343546 and parameters: {'n_estimators': 54, 'learning_rate': 0.045511865511282015, 'max_depth': 14}. Best is trial 21 with value: 0.880976387772306.\n",
      "[I 2024-06-12 17:17:00,990] Trial 30 finished with value: 0.8523009355243337 and parameters: {'n_estimators': 21, 'learning_rate': 0.22525498212723563, 'max_depth': 12}. Best is trial 21 with value: 0.880976387772306.\n",
      "[I 2024-06-12 17:17:01,078] Trial 31 finished with value: 0.881587511487066 and parameters: {'n_estimators': 41, 'learning_rate': 0.12890078901049531, 'max_depth': 2}. Best is trial 31 with value: 0.881587511487066.\n",
      "[I 2024-06-12 17:17:01,174] Trial 32 finished with value: 0.8767626520523469 and parameters: {'n_estimators': 36, 'learning_rate': 0.14037356347147936, 'max_depth': 3}. Best is trial 31 with value: 0.881587511487066.\n",
      "[I 2024-06-12 17:17:01,302] Trial 33 finished with value: 0.8670286286028954 and parameters: {'n_estimators': 43, 'learning_rate': 0.10455050248868202, 'max_depth': 4}. Best is trial 31 with value: 0.881587511487066.\n",
      "[I 2024-06-12 17:17:01,441] Trial 34 finished with value: 0.8755665426850671 and parameters: {'n_estimators': 53, 'learning_rate': 0.08570898986142965, 'max_depth': 3}. Best is trial 31 with value: 0.881587511487066.\n",
      "[I 2024-06-12 17:17:01,620] Trial 35 finished with value: 0.8614404122594801 and parameters: {'n_estimators': 60, 'learning_rate': 0.1182379541028396, 'max_depth': 5}. Best is trial 31 with value: 0.881587511487066.\n",
      "[I 2024-06-12 17:17:01,702] Trial 36 finished with value: 0.8847326041663777 and parameters: {'n_estimators': 41, 'learning_rate': 0.18561110889054944, 'max_depth': 2}. Best is trial 36 with value: 0.8847326041663777.\n",
      "[I 2024-06-12 17:17:01,980] Trial 37 finished with value: 0.8555521237156885 and parameters: {'n_estimators': 28, 'learning_rate': 0.18808645854220696, 'max_depth': 17}. Best is trial 36 with value: 0.8847326041663777.\n",
      "[I 2024-06-12 17:17:02,115] Trial 38 finished with value: 0.8784147001103619 and parameters: {'n_estimators': 38, 'learning_rate': 0.15732956162558084, 'max_depth': 3}. Best is trial 36 with value: 0.8847326041663777.\n",
      "[I 2024-06-12 17:17:02,279] Trial 39 finished with value: 0.8625619673382021 and parameters: {'n_estimators': 43, 'learning_rate': 0.21177721590792017, 'max_depth': 5}. Best is trial 36 with value: 0.8847326041663777.\n",
      "[I 2024-06-12 17:17:02,567] Trial 40 finished with value: 0.8509408007597928 and parameters: {'n_estimators': 72, 'learning_rate': 0.25952921972829135, 'max_depth': 8}. Best is trial 36 with value: 0.8847326041663777.\n",
      "[I 2024-06-12 17:17:02,652] Trial 41 finished with value: 0.885377511425542 and parameters: {'n_estimators': 41, 'learning_rate': 0.16597524328728447, 'max_depth': 2}. Best is trial 41 with value: 0.885377511425542.\n",
      "[I 2024-06-12 17:17:02,738] Trial 42 finished with value: 0.876088772764186 and parameters: {'n_estimators': 32, 'learning_rate': 0.17028474271334582, 'max_depth': 3}. Best is trial 41 with value: 0.885377511425542.\n",
      "[I 2024-06-12 17:17:02,822] Trial 43 finished with value: 0.8815667774870801 and parameters: {'n_estimators': 40, 'learning_rate': 0.21376378231167403, 'max_depth': 2}. Best is trial 41 with value: 0.885377511425542.\n",
      "[I 2024-06-12 17:17:02,883] Trial 44 finished with value: 0.8775806531555258 and parameters: {'n_estimators': 22, 'learning_rate': 0.208525063803747, 'max_depth': 2}. Best is trial 41 with value: 0.885377511425542.\n",
      "[I 2024-06-12 17:17:02,995] Trial 45 finished with value: 0.8654855654722512 and parameters: {'n_estimators': 39, 'learning_rate': 0.19968719642804672, 'max_depth': 4}. Best is trial 41 with value: 0.885377511425542.\n",
      "[I 2024-06-12 17:17:03,082] Trial 46 finished with value: 0.8649505679641573 and parameters: {'n_estimators': 29, 'learning_rate': 0.22627130708588164, 'max_depth': 4}. Best is trial 41 with value: 0.885377511425542.\n",
      "[I 2024-06-12 17:17:03,179] Trial 47 finished with value: 0.8821945261043137 and parameters: {'n_estimators': 52, 'learning_rate': 0.2620673227167295, 'max_depth': 2}. Best is trial 41 with value: 0.885377511425542.\n",
      "[I 2024-06-12 17:17:03,381] Trial 48 finished with value: 0.8559670864815567 and parameters: {'n_estimators': 53, 'learning_rate': 0.2824044450015287, 'max_depth': 6}. Best is trial 41 with value: 0.885377511425542.\n",
      "[I 2024-06-12 17:17:03,506] Trial 49 finished with value: 0.8750111020608096 and parameters: {'n_estimators': 81, 'learning_rate': 0.274043093505854, 'max_depth': 2}. Best is trial 41 with value: 0.885377511425542.\n"
     ]
    }
   ],
   "source": [
    "# Create and optimize studies for each model\n",
    "studies = {\n",
    "    \"LinearRegression\": optuna.create_study(direction=\"maximize\"),\n",
    "    \"RandomForest\": optuna.create_study(direction=\"maximize\"),\n",
    "    \"GradientBoosting\": optuna.create_study(direction=\"maximize\"),\n",
    "    \"XGBoost\": optuna.create_study(direction=\"maximize\")\n",
    "}\n",
    "\n",
    "objectives = {\n",
    "    \"LinearRegression\": objective_lr,\n",
    "    \"RandomForest\": objective_rf,\n",
    "    \"GradientBoosting\": objective_gb,\n",
    "    \"XGBoost\": objective_xgb\n",
    "}\n",
    "\n",
    "for model_name in studies:\n",
    "    print(f\"Optimizing {model_name}...\")\n",
    "    studies[model_name].optimize(objectives[model_name], n_trials=50)"
   ]
  },
  {
   "cell_type": "code",
   "execution_count": 53,
   "metadata": {},
   "outputs": [
    {
     "name": "stdout",
     "output_type": "stream",
     "text": [
      "Best parameters per model:\n",
      "LinearRegression: {}\n",
      "RandomForest: {'n_estimators': 63, 'max_depth': 7}\n",
      "GradientBoosting: {'n_estimators': 75, 'learning_rate': 0.10893700338665795, 'max_depth': 2}\n",
      "XGBoost: {'n_estimators': 41, 'learning_rate': 0.16597524328728447, 'max_depth': 2}\n",
      "R² on test set for each model:\n",
      "LinearRegression: R² = 0.788132132115856\n",
      "RandomForest: R² = 0.8680346705330656\n",
      "GradientBoosting: R² = 0.8648237572144122\n",
      "XGBoost: R² = 0.8663617412511848\n"
     ]
    }
   ],
   "source": [
    "# Retrieve the best parameters for each model\n",
    "best_params = {model_name: study.best_trial.params for model_name, study in studies.items()}\n",
    "print(\"Best parameters per model:\")\n",
    "for model_name, params in best_params.items():\n",
    "    print(f\"{model_name}: {params}\")\n",
    "\n",
    "# Train and evaluate each model with the best parameters\n",
    "models = {\n",
    "    \"LinearRegression\": LinearRegression(),\n",
    "    \"RandomForest\": RandomForestRegressor(**best_params[\"RandomForest\"]),\n",
    "    \"GradientBoosting\": GradientBoostingRegressor(**best_params[\"GradientBoosting\"]),\n",
    "    \"XGBoost\": XGBRegressor(**best_params[\"XGBoost\"], use_label_encoder=False, eval_metric='rmse')\n",
    "}\n",
    "\n",
    "results = {}\n",
    "for model_name, model in models.items():\n",
    "    model.fit(X_train, y_train)\n",
    "    y_pred = model.predict(X_test)\n",
    "    r2 = r2_score(y_test, y_pred)\n",
    "    results[model_name] = {\"R²\": r2}\n",
    "\n",
    "print(\"R² on test set for each model:\")\n",
    "for model_name, scores in results.items():\n",
    "    print(f\"{model_name}: R² = {scores['R²']}\")"
   ]
  },
  {
   "cell_type": "code",
   "execution_count": null,
   "metadata": {},
   "outputs": [],
   "source": [
    "# cant install on mac\n",
    "!pip install -q lazypredict\n",
    "from lazypredict.Supervised import LazyRegressor\n",
    "reg = LazyRegressor(verbose=0,ignore_warnings=False, custom_metric=None )\n",
    "models,predictions = reg.fit(X_train, X_test, y_train, y_test)"
   ]
  },
  {
   "cell_type": "code",
   "execution_count": null,
   "metadata": {},
   "outputs": [],
   "source": [
    "# cant install on mac\n",
    "!pip install -q auto-sklearn\n",
    "import autosklearn.regression\n",
    "\n",
    "# Initialize the auto-sklearn regressor\n",
    "automl = autosklearn.regression.AutoSklearnRegressor(time_left_for_this_task=3600, per_run_time_limit=300)\n",
    "\n",
    "# Fit the model\n",
    "automl.fit(X_train, y_train)\n",
    "\n",
    "# Predict on the test set\n",
    "y_pred = automl.predict(X_test)\n",
    "\n",
    "# Evaluate the model\n",
    "r2_score = automl.score(X_test, y_test)\n",
    "print(f\"R² on the test set: {r2_score}\")\n",
    "\n",
    "# Get the results for all models\n",
    "cv_results = automl.cv_results_\n",
    "\n",
    "# Report R² scores for all models\n",
    "for i, (mean_test_score, params) in enumerate(zip(cv_results['mean_test_score'], cv_results['params'])):\n",
    "    print(f\"Model {i+1}: R² = {mean_test_score:.4f}, Parameters: {params}\")"
   ]
  },
  {
   "cell_type": "code",
   "execution_count": 58,
   "metadata": {},
   "outputs": [
    {
     "data": {
      "image/png": "[encoded data removed]",
      "text/plain": [
       "<Figure size 800x950 with 1 Axes>"
      ]
     },
     "metadata": {},
     "output_type": "display_data"
    }
   ],
   "source": [
    "y_pred = models['RandomForest'].predict(X_test)\n",
    "\n",
    "explainer = shap.TreeExplainer(models['RandomForest'])\n",
    "shap_values = explainer.shap_values(X_test)\n",
    "\n",
    "# Plot the feature importance using SHAP\n",
    "shap.summary_plot(shap_values, X_test, plot_type=\"bar\")\n"
   ]
  },
  {
   "cell_type": "code",
   "execution_count": 78,
   "metadata": {},
   "outputs": [
    {
     "name": "stdout",
     "output_type": "stream",
     "text": [
      "[[-0.00015886  0.00176046 -0.06589347 ...  0.00709856  0.00771728\n",
      "   0.00511078]\n",
      " [ 0.00573708  0.00046905  0.01464992 ... -0.00294722 -0.02820177\n",
      "   0.00392517]\n",
      " [-0.02593878  0.01962558 -0.01504171 ... -0.00562544  0.03503808\n",
      "   0.00278219]\n",
      " ...\n",
      " [ 0.02719234 -0.00385962  0.01557279 ... -0.00386976  0.0434249\n",
      "   0.00254574]\n",
      " [-0.04971663 -0.00040483  0.00823268 ... -0.00678855 -0.0160153\n",
      "  -0.01354208]\n",
      " [ 0.07161668  0.0138966   0.02777183 ... -0.00843674 -0.01213725\n",
      "   0.0164679 ]]\n"
     ]
    }
   ],
   "source": [
    "shap_values = explainer.shap_values(X_test)\n",
    "print(shap_values)"
   ]
  },
  {
   "cell_type": "code",
   "execution_count": 80,
   "metadata": {},
   "outputs": [
    {
     "data": {
      "image/png": "[encoded data removed]",
      "text/plain": [
       "<Figure size 800x950 with 2 Axes>"
      ]
     },
     "metadata": {},
     "output_type": "display_data"
    }
   ],
   "source": [
    "shap.summary_plot(shap_values, X_test)\n"
   ]
  },
  {
   "cell_type": "markdown",
   "metadata": {},
   "source": [
    "From the summary plots, it can be easily distinguished that the second period grades are the most influential to the students' third period grade. In general, the higher a students' second period grades are, the more likely their third period grades are also high, i.e. G2 and G3 grades are directly proportional. In fact, the G2 grades have an average impact of about 3.5 on the third period grades. This is in contract to the next most important feature which is the number of absences, which only has an average impact of less than 1.\n",
    "\n",
    "From the second summary plot which shows the direction of each features' impact, it seems that students' with low absences had poorer third period grades, which is not intuitive. This may have been possible because the students with low G2 grades also happen to have few absences."
   ]
  }
 ],
 "metadata": {
  "kernelspec": {
   "display_name": "Python 3",
   "language": "python",
   "name": "python3"
  },
  "language_info": {
   "codemirror_mode": {
    "name": "ipython",
    "version": 3
   },
   "file_extension": ".py",
   "mimetype": "text/x-python",
   "name": "python",
   "nbconvert_exporter": "python",
   "pygments_lexer": "ipython3",
   "version": "3.11.2"
  }
 },
 "nbformat": 4,
 "nbformat_minor": 2
}
